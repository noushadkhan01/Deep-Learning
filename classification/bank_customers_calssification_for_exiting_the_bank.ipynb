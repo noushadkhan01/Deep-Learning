{
  "nbformat": 4,
  "nbformat_minor": 0,
  "metadata": {
    "colab": {
      "name": "bank customers calssification for exiting the bank.ipynb",
      "version": "0.3.2",
      "provenance": [],
      "include_colab_link": true
    },
    "kernelspec": {
      "name": "python3",
      "display_name": "Python 3"
    },
    "accelerator": "TPU"
  },
  "cells": [
    {
      "cell_type": "markdown",
      "metadata": {
        "id": "view-in-github",
        "colab_type": "text"
      },
      "source": [
        "<a href=\"https://colab.research.google.com/github/noushadkhan01/tensorflow/blob/master/classification/bank_customers_calssification_for_exiting_the_bank.ipynb\" target=\"_parent\"><img src=\"https://colab.research.google.com/assets/colab-badge.svg\" alt=\"Open In Colab\"/></a>"
      ]
    },
    {
      "metadata": {
        "id": "S99Srbfbfibd",
        "colab_type": "code",
        "colab": {}
      },
      "cell_type": "code",
      "source": [
        "import pandas as pd\n",
        "import numpy as np\n",
        "import seaborn as sns\n",
        "import matplotlib.pyplot as plt\n",
        "%matplotlib inline"
      ],
      "execution_count": 0,
      "outputs": []
    },
    {
      "metadata": {
        "id": "79frOvwXfs_5",
        "colab_type": "text"
      },
      "cell_type": "markdown",
      "source": [
        "from google.colab import files\n",
        "files.upload()"
      ]
    },
    {
      "metadata": {
        "id": "cVEWMpdfxZOw",
        "colab_type": "code",
        "colab": {
          "base_uri": "https://localhost:8080/",
          "height": 34
        },
        "outputId": "f7ac4edc-8bd6-4132-b8fc-50c7195ec969"
      },
      "cell_type": "code",
      "source": [
        "!ls"
      ],
      "execution_count": 13,
      "outputs": [
        {
          "output_type": "stream",
          "text": [
            "Machine-Learning  sample_data  tensorflow\n"
          ],
          "name": "stdout"
        }
      ]
    },
    {
      "metadata": {
        "id": "13-RhZ8SxbvY",
        "colab_type": "code",
        "colab": {
          "base_uri": "https://localhost:8080/",
          "height": 34
        },
        "outputId": "1f00ddbf-bf91-4533-b2dc-107d240c9571"
      },
      "cell_type": "code",
      "source": [
        "!git clone https://github.com/noushadkhan01/tensorflow.git"
      ],
      "execution_count": 14,
      "outputs": [
        {
          "output_type": "stream",
          "text": [
            "fatal: destination path 'tensorflow' already exists and is not an empty directory.\n"
          ],
          "name": "stdout"
        }
      ]
    },
    {
      "metadata": {
        "id": "2ONBK5xExbd4",
        "colab_type": "code",
        "colab": {
          "base_uri": "https://localhost:8080/",
          "height": 34
        },
        "outputId": "e13db54e-3bbe-4fe7-b672-004d39dfb666"
      },
      "cell_type": "code",
      "source": [
        "!ls"
      ],
      "execution_count": 15,
      "outputs": [
        {
          "output_type": "stream",
          "text": [
            "Machine-Learning  sample_data  tensorflow\n"
          ],
          "name": "stdout"
        }
      ]
    },
    {
      "metadata": {
        "id": "oQv0_MRnfxdw",
        "colab_type": "code",
        "outputId": "6cd2f606-c9a3-4032-d607-a864b6633ed3",
        "colab": {
          "base_uri": "https://localhost:8080/",
          "height": 204
        }
      },
      "cell_type": "code",
      "source": [
        "df = pd.read_csv('tensorflow/classification/Churn_Modelling.csv')\n",
        "df.head()"
      ],
      "execution_count": 16,
      "outputs": [
        {
          "output_type": "execute_result",
          "data": {
            "text/html": [
              "<div>\n",
              "<style scoped>\n",
              "    .dataframe tbody tr th:only-of-type {\n",
              "        vertical-align: middle;\n",
              "    }\n",
              "\n",
              "    .dataframe tbody tr th {\n",
              "        vertical-align: top;\n",
              "    }\n",
              "\n",
              "    .dataframe thead th {\n",
              "        text-align: right;\n",
              "    }\n",
              "</style>\n",
              "<table border=\"1\" class=\"dataframe\">\n",
              "  <thead>\n",
              "    <tr style=\"text-align: right;\">\n",
              "      <th></th>\n",
              "      <th>RowNumber</th>\n",
              "      <th>CustomerId</th>\n",
              "      <th>Surname</th>\n",
              "      <th>CreditScore</th>\n",
              "      <th>Geography</th>\n",
              "      <th>Gender</th>\n",
              "      <th>Age</th>\n",
              "      <th>Tenure</th>\n",
              "      <th>Balance</th>\n",
              "      <th>NumOfProducts</th>\n",
              "      <th>HasCrCard</th>\n",
              "      <th>IsActiveMember</th>\n",
              "      <th>EstimatedSalary</th>\n",
              "      <th>Exited</th>\n",
              "    </tr>\n",
              "  </thead>\n",
              "  <tbody>\n",
              "    <tr>\n",
              "      <th>0</th>\n",
              "      <td>1</td>\n",
              "      <td>15634602</td>\n",
              "      <td>Hargrave</td>\n",
              "      <td>619</td>\n",
              "      <td>France</td>\n",
              "      <td>Female</td>\n",
              "      <td>42</td>\n",
              "      <td>2</td>\n",
              "      <td>0.00</td>\n",
              "      <td>1</td>\n",
              "      <td>1</td>\n",
              "      <td>1</td>\n",
              "      <td>101348.88</td>\n",
              "      <td>1</td>\n",
              "    </tr>\n",
              "    <tr>\n",
              "      <th>1</th>\n",
              "      <td>2</td>\n",
              "      <td>15647311</td>\n",
              "      <td>Hill</td>\n",
              "      <td>608</td>\n",
              "      <td>Spain</td>\n",
              "      <td>Female</td>\n",
              "      <td>41</td>\n",
              "      <td>1</td>\n",
              "      <td>83807.86</td>\n",
              "      <td>1</td>\n",
              "      <td>0</td>\n",
              "      <td>1</td>\n",
              "      <td>112542.58</td>\n",
              "      <td>0</td>\n",
              "    </tr>\n",
              "    <tr>\n",
              "      <th>2</th>\n",
              "      <td>3</td>\n",
              "      <td>15619304</td>\n",
              "      <td>Onio</td>\n",
              "      <td>502</td>\n",
              "      <td>France</td>\n",
              "      <td>Female</td>\n",
              "      <td>42</td>\n",
              "      <td>8</td>\n",
              "      <td>159660.80</td>\n",
              "      <td>3</td>\n",
              "      <td>1</td>\n",
              "      <td>0</td>\n",
              "      <td>113931.57</td>\n",
              "      <td>1</td>\n",
              "    </tr>\n",
              "    <tr>\n",
              "      <th>3</th>\n",
              "      <td>4</td>\n",
              "      <td>15701354</td>\n",
              "      <td>Boni</td>\n",
              "      <td>699</td>\n",
              "      <td>France</td>\n",
              "      <td>Female</td>\n",
              "      <td>39</td>\n",
              "      <td>1</td>\n",
              "      <td>0.00</td>\n",
              "      <td>2</td>\n",
              "      <td>0</td>\n",
              "      <td>0</td>\n",
              "      <td>93826.63</td>\n",
              "      <td>0</td>\n",
              "    </tr>\n",
              "    <tr>\n",
              "      <th>4</th>\n",
              "      <td>5</td>\n",
              "      <td>15737888</td>\n",
              "      <td>Mitchell</td>\n",
              "      <td>850</td>\n",
              "      <td>Spain</td>\n",
              "      <td>Female</td>\n",
              "      <td>43</td>\n",
              "      <td>2</td>\n",
              "      <td>125510.82</td>\n",
              "      <td>1</td>\n",
              "      <td>1</td>\n",
              "      <td>1</td>\n",
              "      <td>79084.10</td>\n",
              "      <td>0</td>\n",
              "    </tr>\n",
              "  </tbody>\n",
              "</table>\n",
              "</div>"
            ],
            "text/plain": [
              "   RowNumber  CustomerId   Surname  CreditScore Geography  Gender  Age  \\\n",
              "0          1    15634602  Hargrave          619    France  Female   42   \n",
              "1          2    15647311      Hill          608     Spain  Female   41   \n",
              "2          3    15619304      Onio          502    France  Female   42   \n",
              "3          4    15701354      Boni          699    France  Female   39   \n",
              "4          5    15737888  Mitchell          850     Spain  Female   43   \n",
              "\n",
              "   Tenure    Balance  NumOfProducts  HasCrCard  IsActiveMember  \\\n",
              "0       2       0.00              1          1               1   \n",
              "1       1   83807.86              1          0               1   \n",
              "2       8  159660.80              3          1               0   \n",
              "3       1       0.00              2          0               0   \n",
              "4       2  125510.82              1          1               1   \n",
              "\n",
              "   EstimatedSalary  Exited  \n",
              "0        101348.88       1  \n",
              "1        112542.58       0  \n",
              "2        113931.57       1  \n",
              "3         93826.63       0  \n",
              "4         79084.10       0  "
            ]
          },
          "metadata": {
            "tags": []
          },
          "execution_count": 16
        }
      ]
    },
    {
      "metadata": {
        "id": "zDubxtvaf7vQ",
        "colab_type": "code",
        "outputId": "d03c9edf-cb99-47f4-a5c9-07ecde638849",
        "colab": {
          "base_uri": "https://localhost:8080/",
          "height": 34
        }
      },
      "cell_type": "code",
      "source": [
        "df.shape"
      ],
      "execution_count": 17,
      "outputs": [
        {
          "output_type": "execute_result",
          "data": {
            "text/plain": [
              "(10000, 14)"
            ]
          },
          "metadata": {
            "tags": []
          },
          "execution_count": 17
        }
      ]
    },
    {
      "metadata": {
        "id": "dyotbPV0f-i4",
        "colab_type": "code",
        "outputId": "c2743aaa-e36c-44b9-a97f-c7ba0b322762",
        "colab": {
          "base_uri": "https://localhost:8080/",
          "height": 340
        }
      },
      "cell_type": "code",
      "source": [
        "df.info()"
      ],
      "execution_count": 18,
      "outputs": [
        {
          "output_type": "stream",
          "text": [
            "<class 'pandas.core.frame.DataFrame'>\n",
            "RangeIndex: 10000 entries, 0 to 9999\n",
            "Data columns (total 14 columns):\n",
            "RowNumber          10000 non-null int64\n",
            "CustomerId         10000 non-null int64\n",
            "Surname            10000 non-null object\n",
            "CreditScore        10000 non-null int64\n",
            "Geography          10000 non-null object\n",
            "Gender             10000 non-null object\n",
            "Age                10000 non-null int64\n",
            "Tenure             10000 non-null int64\n",
            "Balance            10000 non-null float64\n",
            "NumOfProducts      10000 non-null int64\n",
            "HasCrCard          10000 non-null int64\n",
            "IsActiveMember     10000 non-null int64\n",
            "EstimatedSalary    10000 non-null float64\n",
            "Exited             10000 non-null int64\n",
            "dtypes: float64(2), int64(9), object(3)\n",
            "memory usage: 1.1+ MB\n"
          ],
          "name": "stdout"
        }
      ]
    },
    {
      "metadata": {
        "id": "HQo3UiHlf_h8",
        "colab_type": "code",
        "outputId": "d30ce2ad-8010-4d7a-83fe-b645983d70b5",
        "colab": {
          "base_uri": "https://localhost:8080/",
          "height": 317
        }
      },
      "cell_type": "code",
      "source": [
        "df.describe()"
      ],
      "execution_count": 19,
      "outputs": [
        {
          "output_type": "execute_result",
          "data": {
            "text/html": [
              "<div>\n",
              "<style scoped>\n",
              "    .dataframe tbody tr th:only-of-type {\n",
              "        vertical-align: middle;\n",
              "    }\n",
              "\n",
              "    .dataframe tbody tr th {\n",
              "        vertical-align: top;\n",
              "    }\n",
              "\n",
              "    .dataframe thead th {\n",
              "        text-align: right;\n",
              "    }\n",
              "</style>\n",
              "<table border=\"1\" class=\"dataframe\">\n",
              "  <thead>\n",
              "    <tr style=\"text-align: right;\">\n",
              "      <th></th>\n",
              "      <th>RowNumber</th>\n",
              "      <th>CustomerId</th>\n",
              "      <th>CreditScore</th>\n",
              "      <th>Age</th>\n",
              "      <th>Tenure</th>\n",
              "      <th>Balance</th>\n",
              "      <th>NumOfProducts</th>\n",
              "      <th>HasCrCard</th>\n",
              "      <th>IsActiveMember</th>\n",
              "      <th>EstimatedSalary</th>\n",
              "      <th>Exited</th>\n",
              "    </tr>\n",
              "  </thead>\n",
              "  <tbody>\n",
              "    <tr>\n",
              "      <th>count</th>\n",
              "      <td>10000.00000</td>\n",
              "      <td>1.000000e+04</td>\n",
              "      <td>10000.000000</td>\n",
              "      <td>10000.000000</td>\n",
              "      <td>10000.000000</td>\n",
              "      <td>10000.000000</td>\n",
              "      <td>10000.000000</td>\n",
              "      <td>10000.00000</td>\n",
              "      <td>10000.000000</td>\n",
              "      <td>10000.000000</td>\n",
              "      <td>10000.000000</td>\n",
              "    </tr>\n",
              "    <tr>\n",
              "      <th>mean</th>\n",
              "      <td>5000.50000</td>\n",
              "      <td>1.569094e+07</td>\n",
              "      <td>650.528800</td>\n",
              "      <td>38.921800</td>\n",
              "      <td>5.012800</td>\n",
              "      <td>76485.889288</td>\n",
              "      <td>1.530200</td>\n",
              "      <td>0.70550</td>\n",
              "      <td>0.515100</td>\n",
              "      <td>100090.239881</td>\n",
              "      <td>0.203700</td>\n",
              "    </tr>\n",
              "    <tr>\n",
              "      <th>std</th>\n",
              "      <td>2886.89568</td>\n",
              "      <td>7.193619e+04</td>\n",
              "      <td>96.653299</td>\n",
              "      <td>10.487806</td>\n",
              "      <td>2.892174</td>\n",
              "      <td>62397.405202</td>\n",
              "      <td>0.581654</td>\n",
              "      <td>0.45584</td>\n",
              "      <td>0.499797</td>\n",
              "      <td>57510.492818</td>\n",
              "      <td>0.402769</td>\n",
              "    </tr>\n",
              "    <tr>\n",
              "      <th>min</th>\n",
              "      <td>1.00000</td>\n",
              "      <td>1.556570e+07</td>\n",
              "      <td>350.000000</td>\n",
              "      <td>18.000000</td>\n",
              "      <td>0.000000</td>\n",
              "      <td>0.000000</td>\n",
              "      <td>1.000000</td>\n",
              "      <td>0.00000</td>\n",
              "      <td>0.000000</td>\n",
              "      <td>11.580000</td>\n",
              "      <td>0.000000</td>\n",
              "    </tr>\n",
              "    <tr>\n",
              "      <th>25%</th>\n",
              "      <td>2500.75000</td>\n",
              "      <td>1.562853e+07</td>\n",
              "      <td>584.000000</td>\n",
              "      <td>32.000000</td>\n",
              "      <td>3.000000</td>\n",
              "      <td>0.000000</td>\n",
              "      <td>1.000000</td>\n",
              "      <td>0.00000</td>\n",
              "      <td>0.000000</td>\n",
              "      <td>51002.110000</td>\n",
              "      <td>0.000000</td>\n",
              "    </tr>\n",
              "    <tr>\n",
              "      <th>50%</th>\n",
              "      <td>5000.50000</td>\n",
              "      <td>1.569074e+07</td>\n",
              "      <td>652.000000</td>\n",
              "      <td>37.000000</td>\n",
              "      <td>5.000000</td>\n",
              "      <td>97198.540000</td>\n",
              "      <td>1.000000</td>\n",
              "      <td>1.00000</td>\n",
              "      <td>1.000000</td>\n",
              "      <td>100193.915000</td>\n",
              "      <td>0.000000</td>\n",
              "    </tr>\n",
              "    <tr>\n",
              "      <th>75%</th>\n",
              "      <td>7500.25000</td>\n",
              "      <td>1.575323e+07</td>\n",
              "      <td>718.000000</td>\n",
              "      <td>44.000000</td>\n",
              "      <td>7.000000</td>\n",
              "      <td>127644.240000</td>\n",
              "      <td>2.000000</td>\n",
              "      <td>1.00000</td>\n",
              "      <td>1.000000</td>\n",
              "      <td>149388.247500</td>\n",
              "      <td>0.000000</td>\n",
              "    </tr>\n",
              "    <tr>\n",
              "      <th>max</th>\n",
              "      <td>10000.00000</td>\n",
              "      <td>1.581569e+07</td>\n",
              "      <td>850.000000</td>\n",
              "      <td>92.000000</td>\n",
              "      <td>10.000000</td>\n",
              "      <td>250898.090000</td>\n",
              "      <td>4.000000</td>\n",
              "      <td>1.00000</td>\n",
              "      <td>1.000000</td>\n",
              "      <td>199992.480000</td>\n",
              "      <td>1.000000</td>\n",
              "    </tr>\n",
              "  </tbody>\n",
              "</table>\n",
              "</div>"
            ],
            "text/plain": [
              "         RowNumber    CustomerId   CreditScore           Age        Tenure  \\\n",
              "count  10000.00000  1.000000e+04  10000.000000  10000.000000  10000.000000   \n",
              "mean    5000.50000  1.569094e+07    650.528800     38.921800      5.012800   \n",
              "std     2886.89568  7.193619e+04     96.653299     10.487806      2.892174   \n",
              "min        1.00000  1.556570e+07    350.000000     18.000000      0.000000   \n",
              "25%     2500.75000  1.562853e+07    584.000000     32.000000      3.000000   \n",
              "50%     5000.50000  1.569074e+07    652.000000     37.000000      5.000000   \n",
              "75%     7500.25000  1.575323e+07    718.000000     44.000000      7.000000   \n",
              "max    10000.00000  1.581569e+07    850.000000     92.000000     10.000000   \n",
              "\n",
              "             Balance  NumOfProducts    HasCrCard  IsActiveMember  \\\n",
              "count   10000.000000   10000.000000  10000.00000    10000.000000   \n",
              "mean    76485.889288       1.530200      0.70550        0.515100   \n",
              "std     62397.405202       0.581654      0.45584        0.499797   \n",
              "min         0.000000       1.000000      0.00000        0.000000   \n",
              "25%         0.000000       1.000000      0.00000        0.000000   \n",
              "50%     97198.540000       1.000000      1.00000        1.000000   \n",
              "75%    127644.240000       2.000000      1.00000        1.000000   \n",
              "max    250898.090000       4.000000      1.00000        1.000000   \n",
              "\n",
              "       EstimatedSalary        Exited  \n",
              "count     10000.000000  10000.000000  \n",
              "mean     100090.239881      0.203700  \n",
              "std       57510.492818      0.402769  \n",
              "min          11.580000      0.000000  \n",
              "25%       51002.110000      0.000000  \n",
              "50%      100193.915000      0.000000  \n",
              "75%      149388.247500      0.000000  \n",
              "max      199992.480000      1.000000  "
            ]
          },
          "metadata": {
            "tags": []
          },
          "execution_count": 19
        }
      ]
    },
    {
      "metadata": {
        "id": "nE0p3BFggAto",
        "colab_type": "text"
      },
      "cell_type": "markdown",
      "source": [
        "## check for null values"
      ]
    },
    {
      "metadata": {
        "id": "jNEcDk-_gDs-",
        "colab_type": "code",
        "outputId": "8c4e2d11-6aae-47fa-e1e8-8051a19acd45",
        "colab": {
          "base_uri": "https://localhost:8080/",
          "height": 68
        }
      },
      "cell_type": "code",
      "source": [
        "df.isnull().sum().sort_values(ascending = False)[:2]"
      ],
      "execution_count": 20,
      "outputs": [
        {
          "output_type": "execute_result",
          "data": {
            "text/plain": [
              "Exited             0\n",
              "EstimatedSalary    0\n",
              "dtype: int64"
            ]
          },
          "metadata": {
            "tags": []
          },
          "execution_count": 20
        }
      ]
    },
    {
      "metadata": {
        "id": "pCkbns8fgH_F",
        "colab_type": "text"
      },
      "cell_type": "markdown",
      "source": [
        "**^^as u can see there is no null value**"
      ]
    },
    {
      "metadata": {
        "id": "uv6nWlkWgUB0",
        "colab_type": "code",
        "outputId": "9941cbc9-360c-4e91-9f61-5576702a7794",
        "colab": {
          "base_uri": "https://localhost:8080/",
          "height": 221
        }
      },
      "cell_type": "code",
      "source": [
        "df.skew()"
      ],
      "execution_count": 21,
      "outputs": [
        {
          "output_type": "execute_result",
          "data": {
            "text/plain": [
              "RowNumber          0.000000\n",
              "CustomerId         0.001149\n",
              "CreditScore       -0.071607\n",
              "Age                1.011320\n",
              "Tenure             0.010991\n",
              "Balance           -0.141109\n",
              "NumOfProducts      0.745568\n",
              "HasCrCard         -0.901812\n",
              "IsActiveMember    -0.060437\n",
              "EstimatedSalary    0.002085\n",
              "Exited             1.471611\n",
              "dtype: float64"
            ]
          },
          "metadata": {
            "tags": []
          },
          "execution_count": 21
        }
      ]
    },
    {
      "metadata": {
        "id": "q7OojanNgllv",
        "colab_type": "code",
        "outputId": "3ccd6652-0764-4258-b285-2428d2602df0",
        "colab": {
          "base_uri": "https://localhost:8080/",
          "height": 34
        }
      },
      "cell_type": "code",
      "source": [
        "np.log1p(df.Age).skew()"
      ],
      "execution_count": 22,
      "outputs": [
        {
          "output_type": "execute_result",
          "data": {
            "text/plain": [
              "0.20336041516983316"
            ]
          },
          "metadata": {
            "tags": []
          },
          "execution_count": 22
        }
      ]
    },
    {
      "metadata": {
        "id": "u7d9RSYyiOKm",
        "colab_type": "text"
      },
      "cell_type": "markdown",
      "source": [
        "## import important dependencies"
      ]
    },
    {
      "metadata": {
        "id": "kHURLRKli0yL",
        "colab_type": "code",
        "colab": {}
      },
      "cell_type": "code",
      "source": [
        "import tensorflow as tf\n",
        "from tensorflow import keras"
      ],
      "execution_count": 0,
      "outputs": []
    },
    {
      "metadata": {
        "id": "h3LD0pKijiDY",
        "colab_type": "code",
        "outputId": "fd75efd6-bf68-4380-8217-2a458f85e7ac",
        "colab": {
          "base_uri": "https://localhost:8080/",
          "height": 80
        }
      },
      "cell_type": "code",
      "source": [
        "df.head(1)"
      ],
      "execution_count": 24,
      "outputs": [
        {
          "output_type": "execute_result",
          "data": {
            "text/html": [
              "<div>\n",
              "<style scoped>\n",
              "    .dataframe tbody tr th:only-of-type {\n",
              "        vertical-align: middle;\n",
              "    }\n",
              "\n",
              "    .dataframe tbody tr th {\n",
              "        vertical-align: top;\n",
              "    }\n",
              "\n",
              "    .dataframe thead th {\n",
              "        text-align: right;\n",
              "    }\n",
              "</style>\n",
              "<table border=\"1\" class=\"dataframe\">\n",
              "  <thead>\n",
              "    <tr style=\"text-align: right;\">\n",
              "      <th></th>\n",
              "      <th>RowNumber</th>\n",
              "      <th>CustomerId</th>\n",
              "      <th>Surname</th>\n",
              "      <th>CreditScore</th>\n",
              "      <th>Geography</th>\n",
              "      <th>Gender</th>\n",
              "      <th>Age</th>\n",
              "      <th>Tenure</th>\n",
              "      <th>Balance</th>\n",
              "      <th>NumOfProducts</th>\n",
              "      <th>HasCrCard</th>\n",
              "      <th>IsActiveMember</th>\n",
              "      <th>EstimatedSalary</th>\n",
              "      <th>Exited</th>\n",
              "    </tr>\n",
              "  </thead>\n",
              "  <tbody>\n",
              "    <tr>\n",
              "      <th>0</th>\n",
              "      <td>1</td>\n",
              "      <td>15634602</td>\n",
              "      <td>Hargrave</td>\n",
              "      <td>619</td>\n",
              "      <td>France</td>\n",
              "      <td>Female</td>\n",
              "      <td>42</td>\n",
              "      <td>2</td>\n",
              "      <td>0.0</td>\n",
              "      <td>1</td>\n",
              "      <td>1</td>\n",
              "      <td>1</td>\n",
              "      <td>101348.88</td>\n",
              "      <td>1</td>\n",
              "    </tr>\n",
              "  </tbody>\n",
              "</table>\n",
              "</div>"
            ],
            "text/plain": [
              "   RowNumber  CustomerId   Surname  CreditScore Geography  Gender  Age  \\\n",
              "0          1    15634602  Hargrave          619    France  Female   42   \n",
              "\n",
              "   Tenure  Balance  NumOfProducts  HasCrCard  IsActiveMember  EstimatedSalary  \\\n",
              "0       2      0.0              1          1               1        101348.88   \n",
              "\n",
              "   Exited  \n",
              "0       1  "
            ]
          },
          "metadata": {
            "tags": []
          },
          "execution_count": 24
        }
      ]
    },
    {
      "metadata": {
        "id": "bqgrcYKKj2de",
        "colab_type": "code",
        "outputId": "781488ad-de10-4de5-98b3-dc3199b646c6",
        "colab": {
          "base_uri": "https://localhost:8080/",
          "height": 80
        }
      },
      "cell_type": "code",
      "source": [
        "df = df.iloc[:, 3:]\n",
        "df.head(1)"
      ],
      "execution_count": 25,
      "outputs": [
        {
          "output_type": "execute_result",
          "data": {
            "text/html": [
              "<div>\n",
              "<style scoped>\n",
              "    .dataframe tbody tr th:only-of-type {\n",
              "        vertical-align: middle;\n",
              "    }\n",
              "\n",
              "    .dataframe tbody tr th {\n",
              "        vertical-align: top;\n",
              "    }\n",
              "\n",
              "    .dataframe thead th {\n",
              "        text-align: right;\n",
              "    }\n",
              "</style>\n",
              "<table border=\"1\" class=\"dataframe\">\n",
              "  <thead>\n",
              "    <tr style=\"text-align: right;\">\n",
              "      <th></th>\n",
              "      <th>CreditScore</th>\n",
              "      <th>Geography</th>\n",
              "      <th>Gender</th>\n",
              "      <th>Age</th>\n",
              "      <th>Tenure</th>\n",
              "      <th>Balance</th>\n",
              "      <th>NumOfProducts</th>\n",
              "      <th>HasCrCard</th>\n",
              "      <th>IsActiveMember</th>\n",
              "      <th>EstimatedSalary</th>\n",
              "      <th>Exited</th>\n",
              "    </tr>\n",
              "  </thead>\n",
              "  <tbody>\n",
              "    <tr>\n",
              "      <th>0</th>\n",
              "      <td>619</td>\n",
              "      <td>France</td>\n",
              "      <td>Female</td>\n",
              "      <td>42</td>\n",
              "      <td>2</td>\n",
              "      <td>0.0</td>\n",
              "      <td>1</td>\n",
              "      <td>1</td>\n",
              "      <td>1</td>\n",
              "      <td>101348.88</td>\n",
              "      <td>1</td>\n",
              "    </tr>\n",
              "  </tbody>\n",
              "</table>\n",
              "</div>"
            ],
            "text/plain": [
              "   CreditScore Geography  Gender  Age  Tenure  Balance  NumOfProducts  \\\n",
              "0          619    France  Female   42       2      0.0              1   \n",
              "\n",
              "   HasCrCard  IsActiveMember  EstimatedSalary  Exited  \n",
              "0          1               1        101348.88       1  "
            ]
          },
          "metadata": {
            "tags": []
          },
          "execution_count": 25
        }
      ]
    },
    {
      "metadata": {
        "id": "I2DQlX3LkAjW",
        "colab_type": "code",
        "outputId": "2c54dc18-5edf-4e03-e359-28720e44b551",
        "colab": {
          "base_uri": "https://localhost:8080/",
          "height": 80
        }
      },
      "cell_type": "code",
      "source": [
        "df = pd.get_dummies(df, drop_first = True)\n",
        "df.head(1)"
      ],
      "execution_count": 26,
      "outputs": [
        {
          "output_type": "execute_result",
          "data": {
            "text/html": [
              "<div>\n",
              "<style scoped>\n",
              "    .dataframe tbody tr th:only-of-type {\n",
              "        vertical-align: middle;\n",
              "    }\n",
              "\n",
              "    .dataframe tbody tr th {\n",
              "        vertical-align: top;\n",
              "    }\n",
              "\n",
              "    .dataframe thead th {\n",
              "        text-align: right;\n",
              "    }\n",
              "</style>\n",
              "<table border=\"1\" class=\"dataframe\">\n",
              "  <thead>\n",
              "    <tr style=\"text-align: right;\">\n",
              "      <th></th>\n",
              "      <th>CreditScore</th>\n",
              "      <th>Age</th>\n",
              "      <th>Tenure</th>\n",
              "      <th>Balance</th>\n",
              "      <th>NumOfProducts</th>\n",
              "      <th>HasCrCard</th>\n",
              "      <th>IsActiveMember</th>\n",
              "      <th>EstimatedSalary</th>\n",
              "      <th>Exited</th>\n",
              "      <th>Geography_Germany</th>\n",
              "      <th>Geography_Spain</th>\n",
              "      <th>Gender_Male</th>\n",
              "    </tr>\n",
              "  </thead>\n",
              "  <tbody>\n",
              "    <tr>\n",
              "      <th>0</th>\n",
              "      <td>619</td>\n",
              "      <td>42</td>\n",
              "      <td>2</td>\n",
              "      <td>0.0</td>\n",
              "      <td>1</td>\n",
              "      <td>1</td>\n",
              "      <td>1</td>\n",
              "      <td>101348.88</td>\n",
              "      <td>1</td>\n",
              "      <td>0</td>\n",
              "      <td>0</td>\n",
              "      <td>0</td>\n",
              "    </tr>\n",
              "  </tbody>\n",
              "</table>\n",
              "</div>"
            ],
            "text/plain": [
              "   CreditScore  Age  Tenure  Balance  NumOfProducts  HasCrCard  \\\n",
              "0          619   42       2      0.0              1          1   \n",
              "\n",
              "   IsActiveMember  EstimatedSalary  Exited  Geography_Germany  \\\n",
              "0               1        101348.88       1                  0   \n",
              "\n",
              "   Geography_Spain  Gender_Male  \n",
              "0                0            0  "
            ]
          },
          "metadata": {
            "tags": []
          },
          "execution_count": 26
        }
      ]
    },
    {
      "metadata": {
        "id": "yAMvq6oFkIge",
        "colab_type": "code",
        "outputId": "93c76465-c281-4ddf-a77c-1ed44060f256",
        "colab": {
          "base_uri": "https://localhost:8080/",
          "height": 34
        }
      },
      "cell_type": "code",
      "source": [
        "X = df.drop('Exited', 1)\n",
        "y = df.Exited\n",
        "X.shape, y.shape"
      ],
      "execution_count": 27,
      "outputs": [
        {
          "output_type": "execute_result",
          "data": {
            "text/plain": [
              "((10000, 11), (10000,))"
            ]
          },
          "metadata": {
            "tags": []
          },
          "execution_count": 27
        }
      ]
    },
    {
      "metadata": {
        "id": "3vllGMuVkSo2",
        "colab_type": "text"
      },
      "cell_type": "markdown",
      "source": [
        "## StandardScaler"
      ]
    },
    {
      "metadata": {
        "id": "TCWLZVx3kfZY",
        "colab_type": "text"
      },
      "cell_type": "markdown",
      "source": [
        "We need to scale out data before applying to neural network becuase of speed"
      ]
    },
    {
      "metadata": {
        "id": "rW0Ev8GCl0XC",
        "colab_type": "code",
        "colab": {}
      },
      "cell_type": "code",
      "source": [
        "from sklearn.model_selection import train_test_split"
      ],
      "execution_count": 0,
      "outputs": []
    },
    {
      "metadata": {
        "id": "7A5r1i7fl308",
        "colab_type": "code",
        "outputId": "5b6365eb-ee7c-453d-e65b-9a148a33e1f5",
        "colab": {
          "base_uri": "https://localhost:8080/",
          "height": 34
        }
      },
      "cell_type": "code",
      "source": [
        "X_train, X_test, y_train, y_test =train_test_split(X, y, test_size = 0.3, random_state = 0)\n",
        "X_train.shape, X_test.shape, y_train.shape, y_test.shape"
      ],
      "execution_count": 29,
      "outputs": [
        {
          "output_type": "execute_result",
          "data": {
            "text/plain": [
              "((7000, 11), (3000, 11), (7000,), (3000,))"
            ]
          },
          "metadata": {
            "tags": []
          },
          "execution_count": 29
        }
      ]
    },
    {
      "metadata": {
        "id": "-5ZEcWv_knNX",
        "colab_type": "code",
        "colab": {}
      },
      "cell_type": "code",
      "source": [
        "from sklearn.preprocessing import StandardScaler"
      ],
      "execution_count": 0,
      "outputs": []
    },
    {
      "metadata": {
        "id": "MKdMfJJ6lXv6",
        "colab_type": "code",
        "outputId": "12a999b1-80e1-44a2-de3c-a2b077c93363",
        "colab": {
          "base_uri": "https://localhost:8080/",
          "height": 119
        }
      },
      "cell_type": "code",
      "source": [
        "X_train = StandardScaler().fit_transform(X_train)\n",
        "X_test = StandardScaler().fit_transform(X_test)\n",
        "X_train[:1], X_test[:1]"
      ],
      "execution_count": 31,
      "outputs": [
        {
          "output_type": "execute_result",
          "data": {
            "text/plain": [
              "(array([[-0.09792126, -0.55759842, -1.03635146,  1.13249447,  0.81039385,\n",
              "          0.64198477,  0.96683535, -0.76862426, -0.56987189, -0.5731713 ,\n",
              "          0.92295821]]),\n",
              " array([[-0.56233235, -0.39245718,  1.00826365,  0.83794103, -0.87153075,\n",
              "          0.65569297,  0.97823676,  1.61444413,  1.66826321, -0.57529746,\n",
              "         -1.12586575]]))"
            ]
          },
          "metadata": {
            "tags": []
          },
          "execution_count": 31
        }
      ]
    },
    {
      "metadata": {
        "id": "anfg2SMklcv5",
        "colab_type": "code",
        "outputId": "3b161905-793c-4864-b777-fe89e7eaf582",
        "colab": {
          "base_uri": "https://localhost:8080/",
          "height": 34
        }
      },
      "cell_type": "code",
      "source": [
        "y_train = y_train.values\n",
        "y_test = y_test.values\n",
        "y_train[:2], y_test[:2]"
      ],
      "execution_count": 32,
      "outputs": [
        {
          "output_type": "execute_result",
          "data": {
            "text/plain": [
              "(array([1, 0]), array([0, 1]))"
            ]
          },
          "metadata": {
            "tags": []
          },
          "execution_count": 32
        }
      ]
    },
    {
      "metadata": {
        "id": "7VghYEDmlm9G",
        "colab_type": "text"
      },
      "cell_type": "markdown",
      "source": [
        "# Make ANN"
      ]
    },
    {
      "metadata": {
        "id": "bP5A2Qxcmw9m",
        "colab_type": "code",
        "colab": {}
      },
      "cell_type": "code",
      "source": [
        "from tensorflow import keras"
      ],
      "execution_count": 0,
      "outputs": []
    },
    {
      "metadata": {
        "id": "MhsZ8esrm0Va",
        "colab_type": "text"
      },
      "cell_type": "markdown",
      "source": [
        "## import Sequential from keras\n",
        "**it is required to initialize our neural network model**"
      ]
    },
    {
      "metadata": {
        "id": "KQhGzWV9oza1",
        "colab_type": "text"
      },
      "cell_type": "markdown",
      "source": [
        "### Step 1:- create ann model by sequential"
      ]
    },
    {
      "metadata": {
        "id": "1UDYUiWInC4S",
        "colab_type": "code",
        "outputId": "a7c29e6d-fea5-4beb-d4fe-611359c52bcc",
        "colab": {
          "base_uri": "https://localhost:8080/",
          "height": 34
        }
      },
      "cell_type": "code",
      "source": [
        "#1 first initialize our keras model by Sequential\n",
        "model = keras.models.Sequential()\n",
        "model"
      ],
      "execution_count": 73,
      "outputs": [
        {
          "output_type": "execute_result",
          "data": {
            "text/plain": [
              "<tensorflow.python.keras.engine.sequential.Sequential at 0x7f9175e713c8>"
            ]
          },
          "metadata": {
            "tags": []
          },
          "execution_count": 73
        }
      ]
    },
    {
      "metadata": {
        "id": "YTm7qlIMoyVA",
        "colab_type": "text"
      },
      "cell_type": "markdown",
      "source": [
        "### Step 2:- Add dense layer"
      ]
    },
    {
      "metadata": {
        "id": "QWMXKUoyrxnv",
        "colab_type": "text"
      },
      "cell_type": "markdown",
      "source": [
        "if a data is linenarly separable then their is no need to add hidden layer or don't even need a neural networks by convention"
      ]
    },
    {
      "metadata": {
        "id": "UI3bNueisCfC",
        "colab_type": "text"
      },
      "cell_type": "markdown",
      "source": [
        "**Tip:-- ** no. of nodes in hidden layers is the average of no. of nodes in input layers and no. of node in output layer"
      ]
    },
    {
      "metadata": {
        "id": "n7_6nHTpsmmM",
        "colab_type": "code",
        "outputId": "a6a94620-929f-4e0b-c133-e52dfd90caff",
        "colab": {
          "base_uri": "https://localhost:8080/",
          "height": 34
        }
      },
      "cell_type": "code",
      "source": [
        "ninput = 11 #no of independent variables\n",
        "noutput = 1 #output is either 1 or either 0 so no of hidden layers in output is 1\n",
        "nhidden = (ninput + noutput) / 2\n",
        "nhidden"
      ],
      "execution_count": 35,
      "outputs": [
        {
          "output_type": "execute_result",
          "data": {
            "text/plain": [
              "6.0"
            ]
          },
          "metadata": {
            "tags": []
          },
          "execution_count": 35
        }
      ]
    },
    {
      "metadata": {
        "id": "-X7gEIosogyu",
        "colab_type": "code",
        "colab": {}
      },
      "cell_type": "code",
      "source": [
        "model.add(keras.layers.Dense(units = 6, activation = tf.nn.relu, input_dim = 11))"
      ],
      "execution_count": 0,
      "outputs": []
    },
    {
      "metadata": {
        "id": "nKeq0BavvReV",
        "colab_type": "code",
        "outputId": "cd3afb7f-d418-4df4-f415-46ad6e9c698e",
        "colab": {
          "base_uri": "https://localhost:8080/",
          "height": 34
        }
      },
      "cell_type": "code",
      "source": [
        "model"
      ],
      "execution_count": 75,
      "outputs": [
        {
          "output_type": "execute_result",
          "data": {
            "text/plain": [
              "<tensorflow.python.keras.engine.sequential.Sequential at 0x7f9175e713c8>"
            ]
          },
          "metadata": {
            "tags": []
          },
          "execution_count": 75
        }
      ]
    },
    {
      "metadata": {
        "id": "b2FBW04kKM_p",
        "colab_type": "text"
      },
      "cell_type": "markdown",
      "source": [
        "### add 2nd layer"
      ]
    },
    {
      "metadata": {
        "id": "nJ-IE_P-KYq_",
        "colab_type": "code",
        "outputId": "33630950-920f-45cf-9906-84166386785a",
        "colab": {
          "base_uri": "https://localhost:8080/",
          "height": 34
        }
      },
      "cell_type": "code",
      "source": [
        "model.add(keras.layers.Dense(units = 6, activation = tf.nn.relu))\n",
        "model"
      ],
      "execution_count": 76,
      "outputs": [
        {
          "output_type": "execute_result",
          "data": {
            "text/plain": [
              "<tensorflow.python.keras.engine.sequential.Sequential at 0x7f9175e713c8>"
            ]
          },
          "metadata": {
            "tags": []
          },
          "execution_count": 76
        }
      ]
    },
    {
      "metadata": {
        "id": "-bWgJ-TnKm-E",
        "colab_type": "text"
      },
      "cell_type": "markdown",
      "source": [
        "### Step 3:- add output layer"
      ]
    },
    {
      "metadata": {
        "id": "WVfmLyW1LcN-",
        "colab_type": "text"
      },
      "cell_type": "markdown",
      "source": [
        "**there are two types of activation function for output of categorical varibles **\n",
        "- 1**softmax**, which is used when dependent varible have more than two categorical variables\n",
        "- 2 **sigmoid** , which is used when dependent varable have 2 categorical variables"
      ]
    },
    {
      "metadata": {
        "id": "CNMiNKekKzMi",
        "colab_type": "code",
        "colab": {}
      },
      "cell_type": "code",
      "source": [
        "model.add(keras.layers.Dense(units = 1, activation = tf.nn.sigmoid))"
      ],
      "execution_count": 0,
      "outputs": []
    },
    {
      "metadata": {
        "id": "awDpLdM8L3V3",
        "colab_type": "code",
        "outputId": "05f1230b-7b21-41d9-fcf6-046f99d2e356",
        "colab": {
          "base_uri": "https://localhost:8080/",
          "height": 34
        }
      },
      "cell_type": "code",
      "source": [
        "model"
      ],
      "execution_count": 78,
      "outputs": [
        {
          "output_type": "execute_result",
          "data": {
            "text/plain": [
              "<tensorflow.python.keras.engine.sequential.Sequential at 0x7f9175e713c8>"
            ]
          },
          "metadata": {
            "tags": []
          },
          "execution_count": 78
        }
      ]
    },
    {
      "metadata": {
        "id": "yiYLtGE8ML-z",
        "colab_type": "text"
      },
      "cell_type": "markdown",
      "source": [
        "## Step 4:-- compile the model\n",
        "apply stochastic gradient descent method"
      ]
    },
    {
      "metadata": {
        "id": "QTa5eId2MiQk",
        "colab_type": "code",
        "outputId": "68598d42-4900-4185-c0fc-37eb71fc2178",
        "colab": {
          "base_uri": "https://localhost:8080/",
          "height": 34
        }
      },
      "cell_type": "code",
      "source": [
        "model.compile(optimizer = 'adam', loss = 'binary_crossentropy', metrics = ['accuracy'])\n",
        "model"
      ],
      "execution_count": 79,
      "outputs": [
        {
          "output_type": "execute_result",
          "data": {
            "text/plain": [
              "<tensorflow.python.keras.engine.sequential.Sequential at 0x7f9175e713c8>"
            ]
          },
          "metadata": {
            "tags": []
          },
          "execution_count": 79
        }
      ]
    },
    {
      "metadata": {
        "id": "1WSsamwMN_HI",
        "colab_type": "text"
      },
      "cell_type": "markdown",
      "source": [
        "### Step 5:-- fit the model"
      ]
    },
    {
      "metadata": {
        "id": "aaI6lPV7O7sT",
        "colab_type": "text"
      },
      "cell_type": "markdown",
      "source": [
        "batch_size = no. of observation afterwhich u want to update the weights"
      ]
    },
    {
      "metadata": {
        "id": "RfIf7cI6OEtv",
        "colab_type": "code",
        "outputId": "3ff856b7-f198-4d1f-8d52-93047bdc6671",
        "colab": {
          "base_uri": "https://localhost:8080/",
          "height": 3434
        }
      },
      "cell_type": "code",
      "source": [
        "model.fit(X_train, y_train, batch_size = 10 , epochs = 100, class_weight = 'balance')"
      ],
      "execution_count": 80,
      "outputs": [
        {
          "output_type": "stream",
          "text": [
            "Epoch 1/100\n",
            "7000/7000 [==============================] - 1s 155us/step - loss: 0.5290 - acc: 0.7543\n",
            "Epoch 2/100\n",
            "7000/7000 [==============================] - 1s 120us/step - loss: 0.4389 - acc: 0.7994\n",
            "Epoch 3/100\n",
            "7000/7000 [==============================] - 1s 116us/step - loss: 0.4216 - acc: 0.8053\n",
            "Epoch 4/100\n",
            "7000/7000 [==============================] - 1s 113us/step - loss: 0.4071 - acc: 0.8177\n",
            "Epoch 5/100\n",
            "7000/7000 [==============================] - 1s 113us/step - loss: 0.3896 - acc: 0.8324\n",
            "Epoch 6/100\n",
            "7000/7000 [==============================] - 1s 111us/step - loss: 0.3741 - acc: 0.8424\n",
            "Epoch 7/100\n",
            "7000/7000 [==============================] - 1s 100us/step - loss: 0.3642 - acc: 0.8461\n",
            "Epoch 8/100\n",
            "7000/7000 [==============================] - 1s 100us/step - loss: 0.3593 - acc: 0.8511\n",
            "Epoch 9/100\n",
            "7000/7000 [==============================] - 1s 102us/step - loss: 0.3566 - acc: 0.8534\n",
            "Epoch 10/100\n",
            "7000/7000 [==============================] - 1s 99us/step - loss: 0.3549 - acc: 0.8530\n",
            "Epoch 11/100\n",
            "7000/7000 [==============================] - 1s 101us/step - loss: 0.3534 - acc: 0.8550\n",
            "Epoch 12/100\n",
            "7000/7000 [==============================] - 1s 101us/step - loss: 0.3521 - acc: 0.8551\n",
            "Epoch 13/100\n",
            "7000/7000 [==============================] - 1s 100us/step - loss: 0.3504 - acc: 0.8566\n",
            "Epoch 14/100\n",
            "7000/7000 [==============================] - 1s 100us/step - loss: 0.3507 - acc: 0.8551\n",
            "Epoch 15/100\n",
            "7000/7000 [==============================] - 1s 100us/step - loss: 0.3491 - acc: 0.8566\n",
            "Epoch 16/100\n",
            "7000/7000 [==============================] - 1s 99us/step - loss: 0.3486 - acc: 0.8557\n",
            "Epoch 17/100\n",
            "7000/7000 [==============================] - 1s 99us/step - loss: 0.3484 - acc: 0.8564\n",
            "Epoch 18/100\n",
            "7000/7000 [==============================] - 1s 100us/step - loss: 0.3474 - acc: 0.8570\n",
            "Epoch 19/100\n",
            "7000/7000 [==============================] - 1s 101us/step - loss: 0.3472 - acc: 0.8569\n",
            "Epoch 20/100\n",
            "7000/7000 [==============================] - 1s 105us/step - loss: 0.3468 - acc: 0.8579\n",
            "Epoch 21/100\n",
            "7000/7000 [==============================] - 1s 103us/step - loss: 0.3467 - acc: 0.8570\n",
            "Epoch 22/100\n",
            "7000/7000 [==============================] - 1s 100us/step - loss: 0.3461 - acc: 0.8571\n",
            "Epoch 23/100\n",
            "7000/7000 [==============================] - 1s 105us/step - loss: 0.3457 - acc: 0.8581\n",
            "Epoch 24/100\n",
            "7000/7000 [==============================] - 1s 101us/step - loss: 0.3447 - acc: 0.8584\n",
            "Epoch 25/100\n",
            "7000/7000 [==============================] - 1s 101us/step - loss: 0.3448 - acc: 0.8576\n",
            "Epoch 26/100\n",
            "7000/7000 [==============================] - 1s 101us/step - loss: 0.3445 - acc: 0.8574\n",
            "Epoch 27/100\n",
            "7000/7000 [==============================] - 1s 100us/step - loss: 0.3446 - acc: 0.8587\n",
            "Epoch 28/100\n",
            "7000/7000 [==============================] - 1s 100us/step - loss: 0.3437 - acc: 0.8587\n",
            "Epoch 29/100\n",
            "7000/7000 [==============================] - 1s 101us/step - loss: 0.3439 - acc: 0.8591\n",
            "Epoch 30/100\n",
            "7000/7000 [==============================] - 1s 100us/step - loss: 0.3437 - acc: 0.8590\n",
            "Epoch 31/100\n",
            "7000/7000 [==============================] - 1s 100us/step - loss: 0.3433 - acc: 0.8593\n",
            "Epoch 32/100\n",
            "7000/7000 [==============================] - 1s 101us/step - loss: 0.3427 - acc: 0.8594\n",
            "Epoch 33/100\n",
            "7000/7000 [==============================] - 1s 102us/step - loss: 0.3426 - acc: 0.8604\n",
            "Epoch 34/100\n",
            "7000/7000 [==============================] - 1s 100us/step - loss: 0.3425 - acc: 0.8591\n",
            "Epoch 35/100\n",
            "7000/7000 [==============================] - 1s 100us/step - loss: 0.3419 - acc: 0.8593\n",
            "Epoch 36/100\n",
            "7000/7000 [==============================] - 1s 100us/step - loss: 0.3417 - acc: 0.8596\n",
            "Epoch 37/100\n",
            "7000/7000 [==============================] - 1s 100us/step - loss: 0.3415 - acc: 0.8603\n",
            "Epoch 38/100\n",
            "7000/7000 [==============================] - 1s 98us/step - loss: 0.3415 - acc: 0.8596\n",
            "Epoch 39/100\n",
            "7000/7000 [==============================] - 1s 99us/step - loss: 0.3404 - acc: 0.8617\n",
            "Epoch 40/100\n",
            "7000/7000 [==============================] - 1s 101us/step - loss: 0.3411 - acc: 0.8596\n",
            "Epoch 41/100\n",
            "7000/7000 [==============================] - 1s 101us/step - loss: 0.3405 - acc: 0.8603\n",
            "Epoch 42/100\n",
            "7000/7000 [==============================] - 1s 102us/step - loss: 0.3404 - acc: 0.8610\n",
            "Epoch 43/100\n",
            "7000/7000 [==============================] - 1s 99us/step - loss: 0.3405 - acc: 0.8590\n",
            "Epoch 44/100\n",
            "7000/7000 [==============================] - 1s 101us/step - loss: 0.3402 - acc: 0.8640\n",
            "Epoch 45/100\n",
            "7000/7000 [==============================] - 1s 100us/step - loss: 0.3400 - acc: 0.8601\n",
            "Epoch 46/100\n",
            "7000/7000 [==============================] - 1s 104us/step - loss: 0.3405 - acc: 0.8587\n",
            "Epoch 47/100\n",
            "7000/7000 [==============================] - 1s 100us/step - loss: 0.3395 - acc: 0.8609\n",
            "Epoch 48/100\n",
            "7000/7000 [==============================] - 1s 100us/step - loss: 0.3389 - acc: 0.8617\n",
            "Epoch 49/100\n",
            "7000/7000 [==============================] - 1s 105us/step - loss: 0.3395 - acc: 0.8616\n",
            "Epoch 50/100\n",
            "7000/7000 [==============================] - 1s 99us/step - loss: 0.3395 - acc: 0.8616\n",
            "Epoch 51/100\n",
            "7000/7000 [==============================] - 1s 99us/step - loss: 0.3392 - acc: 0.8596\n",
            "Epoch 52/100\n",
            "7000/7000 [==============================] - 1s 99us/step - loss: 0.3392 - acc: 0.8601\n",
            "Epoch 53/100\n",
            "7000/7000 [==============================] - 1s 102us/step - loss: 0.3388 - acc: 0.8593\n",
            "Epoch 54/100\n",
            "7000/7000 [==============================] - 1s 99us/step - loss: 0.3391 - acc: 0.8596\n",
            "Epoch 55/100\n",
            "7000/7000 [==============================] - 1s 100us/step - loss: 0.3385 - acc: 0.8603\n",
            "Epoch 56/100\n",
            "7000/7000 [==============================] - 1s 103us/step - loss: 0.3389 - acc: 0.8594\n",
            "Epoch 57/100\n",
            "7000/7000 [==============================] - 1s 100us/step - loss: 0.3381 - acc: 0.8634\n",
            "Epoch 58/100\n",
            "7000/7000 [==============================] - 1s 101us/step - loss: 0.3385 - acc: 0.8610\n",
            "Epoch 59/100\n",
            "7000/7000 [==============================] - 1s 101us/step - loss: 0.3382 - acc: 0.8616\n",
            "Epoch 60/100\n",
            "7000/7000 [==============================] - 1s 101us/step - loss: 0.3381 - acc: 0.8611\n",
            "Epoch 61/100\n",
            "7000/7000 [==============================] - 1s 103us/step - loss: 0.3378 - acc: 0.8640\n",
            "Epoch 62/100\n",
            "7000/7000 [==============================] - 1s 104us/step - loss: 0.3383 - acc: 0.8610\n",
            "Epoch 63/100\n",
            "7000/7000 [==============================] - 1s 101us/step - loss: 0.3383 - acc: 0.8621\n",
            "Epoch 64/100\n",
            "7000/7000 [==============================] - 1s 103us/step - loss: 0.3376 - acc: 0.8619\n",
            "Epoch 65/100\n",
            "7000/7000 [==============================] - 1s 99us/step - loss: 0.3379 - acc: 0.8631\n",
            "Epoch 66/100\n",
            "7000/7000 [==============================] - 1s 101us/step - loss: 0.3367 - acc: 0.8624\n",
            "Epoch 67/100\n",
            "7000/7000 [==============================] - 1s 100us/step - loss: 0.3376 - acc: 0.8626\n",
            "Epoch 68/100\n",
            "7000/7000 [==============================] - 1s 103us/step - loss: 0.3376 - acc: 0.8634\n",
            "Epoch 69/100\n",
            "7000/7000 [==============================] - 1s 101us/step - loss: 0.3372 - acc: 0.8624\n",
            "Epoch 70/100\n",
            "7000/7000 [==============================] - 1s 102us/step - loss: 0.3372 - acc: 0.8623\n",
            "Epoch 71/100\n",
            "7000/7000 [==============================] - 1s 100us/step - loss: 0.3375 - acc: 0.8624\n",
            "Epoch 72/100\n",
            "7000/7000 [==============================] - 1s 100us/step - loss: 0.3368 - acc: 0.8607\n",
            "Epoch 73/100\n",
            "7000/7000 [==============================] - 1s 103us/step - loss: 0.3368 - acc: 0.8623\n",
            "Epoch 74/100\n",
            "7000/7000 [==============================] - 1s 100us/step - loss: 0.3372 - acc: 0.8636\n",
            "Epoch 75/100\n",
            "7000/7000 [==============================] - 1s 101us/step - loss: 0.3369 - acc: 0.8624\n",
            "Epoch 76/100\n",
            "7000/7000 [==============================] - 1s 103us/step - loss: 0.3367 - acc: 0.8630\n",
            "Epoch 77/100\n",
            "7000/7000 [==============================] - 1s 100us/step - loss: 0.3361 - acc: 0.8631\n",
            "Epoch 78/100\n",
            "7000/7000 [==============================] - 1s 102us/step - loss: 0.3364 - acc: 0.8643\n",
            "Epoch 79/100\n",
            "7000/7000 [==============================] - 1s 100us/step - loss: 0.3367 - acc: 0.8619\n",
            "Epoch 80/100\n",
            "7000/7000 [==============================] - 1s 100us/step - loss: 0.3369 - acc: 0.8623\n",
            "Epoch 81/100\n",
            "7000/7000 [==============================] - 1s 101us/step - loss: 0.3369 - acc: 0.8631\n",
            "Epoch 82/100\n",
            "7000/7000 [==============================] - 1s 104us/step - loss: 0.3360 - acc: 0.8627\n",
            "Epoch 83/100\n",
            "7000/7000 [==============================] - 1s 100us/step - loss: 0.3361 - acc: 0.8653\n",
            "Epoch 84/100\n",
            "7000/7000 [==============================] - 1s 102us/step - loss: 0.3358 - acc: 0.8627\n",
            "Epoch 85/100\n",
            "7000/7000 [==============================] - 1s 101us/step - loss: 0.3369 - acc: 0.8636\n",
            "Epoch 86/100\n",
            "7000/7000 [==============================] - 1s 99us/step - loss: 0.3358 - acc: 0.8649\n",
            "Epoch 87/100\n",
            "7000/7000 [==============================] - 1s 103us/step - loss: 0.3360 - acc: 0.8637\n",
            "Epoch 88/100\n",
            "7000/7000 [==============================] - 1s 103us/step - loss: 0.3362 - acc: 0.8644\n",
            "Epoch 89/100\n",
            "7000/7000 [==============================] - 1s 101us/step - loss: 0.3358 - acc: 0.8641\n",
            "Epoch 90/100\n",
            "7000/7000 [==============================] - 1s 100us/step - loss: 0.3356 - acc: 0.8653\n",
            "Epoch 91/100\n",
            "7000/7000 [==============================] - 1s 101us/step - loss: 0.3361 - acc: 0.8640\n",
            "Epoch 92/100\n",
            "7000/7000 [==============================] - 1s 100us/step - loss: 0.3357 - acc: 0.8647\n",
            "Epoch 93/100\n",
            "7000/7000 [==============================] - 1s 102us/step - loss: 0.3356 - acc: 0.8647\n",
            "Epoch 94/100\n",
            "7000/7000 [==============================] - 1s 100us/step - loss: 0.3354 - acc: 0.8646\n",
            "Epoch 95/100\n",
            "7000/7000 [==============================] - 1s 102us/step - loss: 0.3355 - acc: 0.8660\n",
            "Epoch 96/100\n",
            "7000/7000 [==============================] - 1s 102us/step - loss: 0.3353 - acc: 0.8643\n",
            "Epoch 97/100\n",
            "7000/7000 [==============================] - 1s 101us/step - loss: 0.3355 - acc: 0.8649\n",
            "Epoch 98/100\n",
            "7000/7000 [==============================] - 1s 104us/step - loss: 0.3349 - acc: 0.8646\n",
            "Epoch 99/100\n",
            "7000/7000 [==============================] - 1s 103us/step - loss: 0.3351 - acc: 0.8630\n",
            "Epoch 100/100\n",
            "7000/7000 [==============================] - 1s 101us/step - loss: 0.3357 - acc: 0.8630\n"
          ],
          "name": "stdout"
        },
        {
          "output_type": "execute_result",
          "data": {
            "text/plain": [
              "<tensorflow.python.keras.callbacks.History at 0x7f9173c134a8>"
            ]
          },
          "metadata": {
            "tags": []
          },
          "execution_count": 80
        }
      ]
    },
    {
      "metadata": {
        "id": "QzwDRGL5PfWC",
        "colab_type": "text"
      },
      "cell_type": "markdown",
      "source": [
        "### Step 7:- make predictions"
      ]
    },
    {
      "metadata": {
        "id": "wBVoGp-QQL2F",
        "colab_type": "code",
        "outputId": "04a54544-af8f-472b-c9ca-5fa12825b446",
        "colab": {
          "base_uri": "https://localhost:8080/",
          "height": 51
        }
      },
      "cell_type": "code",
      "source": [
        "y_pred = model.predict(X_test)\n",
        "y_pred[:2]"
      ],
      "execution_count": 81,
      "outputs": [
        {
          "output_type": "execute_result",
          "data": {
            "text/plain": [
              "array([[0.21403645],\n",
              "       [0.2774569 ]], dtype=float32)"
            ]
          },
          "metadata": {
            "tags": []
          },
          "execution_count": 81
        }
      ]
    },
    {
      "metadata": {
        "id": "V052NBjxQWvJ",
        "colab_type": "code",
        "outputId": "1b9c4d14-f8d3-475c-f5e7-2a5a9d391318",
        "colab": {
          "base_uri": "https://localhost:8080/",
          "height": 34
        }
      },
      "cell_type": "code",
      "source": [
        "y_pred.max()"
      ],
      "execution_count": 82,
      "outputs": [
        {
          "output_type": "execute_result",
          "data": {
            "text/plain": [
              "0.9999527"
            ]
          },
          "metadata": {
            "tags": []
          },
          "execution_count": 82
        }
      ]
    },
    {
      "metadata": {
        "id": "2ihqHnKnQjn7",
        "colab_type": "code",
        "outputId": "e46b9b33-340c-4ad7-9e89-d4bd529a8bef",
        "colab": {
          "base_uri": "https://localhost:8080/",
          "height": 34
        }
      },
      "cell_type": "code",
      "source": [
        "y_pred.min()"
      ],
      "execution_count": 83,
      "outputs": [
        {
          "output_type": "execute_result",
          "data": {
            "text/plain": [
              "0.0002837267"
            ]
          },
          "metadata": {
            "tags": []
          },
          "execution_count": 83
        }
      ]
    },
    {
      "metadata": {
        "id": "YSP6CLVOEbTo",
        "colab_type": "code",
        "colab": {
          "base_uri": "https://localhost:8080/",
          "height": 282
        },
        "outputId": "fce84f09-b3f0-4e5b-cfb4-66f93940ec86"
      },
      "cell_type": "code",
      "source": [
        "sns.distplot(y_pred)"
      ],
      "execution_count": 84,
      "outputs": [
        {
          "output_type": "execute_result",
          "data": {
            "text/plain": [
              "<matplotlib.axes._subplots.AxesSubplot at 0x7f91736e8fd0>"
            ]
          },
          "metadata": {
            "tags": []
          },
          "execution_count": 84
        },
        {
          "output_type": "display_data",
          "data": {
            "image/png": "[encoded data removed]",
            "text/plain": [
              "<matplotlib.figure.Figure at 0x7f9173c46978>"
            ]
          },
          "metadata": {
            "tags": []
          }
        }
      ]
    },
    {
      "metadata": {
        "id": "7qkAVi5AEfpE",
        "colab_type": "code",
        "colab": {
          "base_uri": "https://localhost:8080/",
          "height": 340
        },
        "outputId": "b3e61c84-43cf-41b6-b954-2f7ce1f3fd66"
      },
      "cell_type": "code",
      "source": [
        "f_ypred = np.array([1 if i > .5 else 0 for i in y_pred])\n",
        "print(f'predicted binary\\'s first three values are {f_ypred[:3]} \\n')\n",
        "c = confusion_matrix(y_test, f_ypred)\n",
        "print(f'confusion matrix is\\n\\n {c} \\n\\n')\n",
        "print(f'Precision score is :- {precision_score(y_test, f_ypred)}')\n",
        "print(f'Recall score is :- {recall_score(y_test, f_ypred)}')\n",
        "\n",
        "print(f'Classification report is \\n\\n{classification_report(y_test, f_ypred)}')"
      ],
      "execution_count": 85,
      "outputs": [
        {
          "output_type": "stream",
          "text": [
            "predicted binary's first three values are [0 0 0] \n",
            "\n",
            "confusion matrix is\n",
            "\n",
            " [[2283   96]\n",
            " [ 318  303]] \n",
            "\n",
            "\n",
            "Precision score is :- 0.7593984962406015\n",
            "Recall score is :- 0.48792270531400966\n",
            "Classification report is \n",
            "\n",
            "             precision    recall  f1-score   support\n",
            "\n",
            "          0       0.88      0.96      0.92      2379\n",
            "          1       0.76      0.49      0.59       621\n",
            "\n",
            "avg / total       0.85      0.86      0.85      3000\n",
            "\n"
          ],
          "name": "stdout"
        }
      ]
    },
    {
      "metadata": {
        "id": "acxfraRGEhU_",
        "colab_type": "code",
        "colab": {}
      },
      "cell_type": "code",
      "source": [
        ""
      ],
      "execution_count": 0,
      "outputs": []
    },
    {
      "metadata": {
        "id": "tLLJfbymQmsK",
        "colab_type": "code",
        "outputId": "f1d8053b-ecee-4e36-b846-8b7c1dcef56f",
        "colab": {
          "base_uri": "https://localhost:8080/",
          "height": 282
        }
      },
      "cell_type": "code",
      "source": [
        "sns.distplot(y_pred)"
      ],
      "execution_count": 54,
      "outputs": [
        {
          "output_type": "execute_result",
          "data": {
            "text/plain": [
              "<matplotlib.axes._subplots.AxesSubplot at 0x7f9175ec2f28>"
            ]
          },
          "metadata": {
            "tags": []
          },
          "execution_count": 54
        },
        {
          "output_type": "display_data",
          "data": {
            "image/png": "[encoded data removed]",
            "text/plain": [
              "<matplotlib.figure.Figure at 0x7f9175f1b6d8>"
            ]
          },
          "metadata": {
            "tags": []
          }
        }
      ]
    },
    {
      "metadata": {
        "id": "R8OQ1214Rrsa",
        "colab_type": "code",
        "colab": {}
      },
      "cell_type": "code",
      "source": [
        "from sklearn.metrics import classification_report, confusion_matrix, precision_score, recall_score"
      ],
      "execution_count": 0,
      "outputs": []
    },
    {
      "metadata": {
        "id": "r0RNTEFURMVh",
        "colab_type": "code",
        "outputId": "59240d75-b602-480d-e0dd-28a36875635b",
        "colab": {
          "base_uri": "https://localhost:8080/",
          "height": 340
        }
      },
      "cell_type": "code",
      "source": [
        "f_ypred = np.array([1 if i > .5 else 0 for i in y_pred])\n",
        "print(f'predicted binary\\'s first three values are {f_ypred[:3]} \\n')\n",
        "c = confusion_matrix(y_test, f_ypred)\n",
        "print(f'confusion matrix is\\n\\n {c} \\n\\n')\n",
        "print(f'Precision score is :- {precision_score(y_test, f_ypred)}')\n",
        "print(f'Recall score is :- {recall_score(y_test, f_ypred)}')\n",
        "\n",
        "print(f'Classification report is \\n\\n{classification_report(y_test, f_ypred)}')"
      ],
      "execution_count": 68,
      "outputs": [
        {
          "output_type": "stream",
          "text": [
            "predicted binary's first three values are [0 0 0] \n",
            "\n",
            "confusion matrix is\n",
            "\n",
            " [[2276  103]\n",
            " [ 324  297]] \n",
            "\n",
            "\n",
            "Precision score is :- 0.7425\n",
            "Recall score is :- 0.4782608695652174\n",
            "Classification report is \n",
            "\n",
            "             precision    recall  f1-score   support\n",
            "\n",
            "          0       0.88      0.96      0.91      2379\n",
            "          1       0.74      0.48      0.58       621\n",
            "\n",
            "avg / total       0.85      0.86      0.85      3000\n",
            "\n"
          ],
          "name": "stdout"
        }
      ]
    },
    {
      "metadata": {
        "id": "m4yS40lcSK4S",
        "colab_type": "code",
        "outputId": "8ddb32cf-cb32-4039-d231-0b870f36860e",
        "colab": {
          "base_uri": "https://localhost:8080/",
          "height": 340
        }
      },
      "cell_type": "code",
      "source": [
        "f_ypred = np.array([1 if i > .6 else 0 for i in y_pred])\n",
        "print(f'predicted binary\\'s first three values are {f_ypred[:3]} \\n')\n",
        "c = confusion_matrix(y_test, f_ypred)\n",
        "print(f'confusion matrix is\\n\\n {c} \\n\\n')\n",
        "print(f'Precision score is :- {precision_score(y_test, f_ypred)}')\n",
        "print(f'Recall score is :- {recall_score(y_test, f_ypred)}')\n",
        "\n",
        "print(f'Classification report is \\n\\n{classification_report(y_test, f_ypred)}')"
      ],
      "execution_count": 69,
      "outputs": [
        {
          "output_type": "stream",
          "text": [
            "predicted binary's first three values are [0 0 0] \n",
            "\n",
            "confusion matrix is\n",
            "\n",
            " [[2317   62]\n",
            " [ 361  260]] \n",
            "\n",
            "\n",
            "Precision score is :- 0.8074534161490683\n",
            "Recall score is :- 0.41867954911433175\n",
            "Classification report is \n",
            "\n",
            "             precision    recall  f1-score   support\n",
            "\n",
            "          0       0.87      0.97      0.92      2379\n",
            "          1       0.81      0.42      0.55       621\n",
            "\n",
            "avg / total       0.85      0.86      0.84      3000\n",
            "\n"
          ],
          "name": "stdout"
        }
      ]
    },
    {
      "metadata": {
        "id": "7iRR3HMVFHYn",
        "colab_type": "text"
      },
      "cell_type": "markdown",
      "source": [
        "# By RandomForestClassifier"
      ]
    },
    {
      "metadata": {
        "id": "l2iGIEJGFNnN",
        "colab_type": "code",
        "colab": {}
      },
      "cell_type": "code",
      "source": [
        "from sklearn.ensemble import RandomForestClassifier"
      ],
      "execution_count": 0,
      "outputs": []
    },
    {
      "metadata": {
        "id": "zGH3ksDuJHU6",
        "colab_type": "code",
        "colab": {
          "base_uri": "https://localhost:8080/",
          "height": 8758
        },
        "outputId": "8f85ad0d-4ef3-4aba-b8ef-b9a1fdf460b2"
      },
      "cell_type": "code",
      "source": [
        "t = []\n",
        "s = []\n",
        "x = range(1, 50)\n",
        "for i in x:\n",
        "  clf = RandomForestClassifier(max_depth = i, class_weight = 'balanced').fit(X_train, y_train)\n",
        "  a = clf.score(X_train, y_train)\n",
        "  b = clf.score(X_test, y_test)\n",
        "  t.append(a)\n",
        "  s.append(b)\n",
        "  print('-'*40)\n",
        "  print(f'\\nmax_depth is {i}')\n",
        "  print(f'Train score is {a}')\n",
        "  print(f'Test score is {b}')\n",
        "  c = confusion_matrix(y_test, clf.predict(X_test))\n",
        "  print(f'confusion_matrix is \\n{c} \\n')\n",
        "  print('-'*40)\n",
        "  \n",
        "plt.figure(figsize = (15, 7))\n",
        "plt.plot(x, t, label = 'Train score', c = 'r')\n",
        "plt.plot(x, s, label = 'Test score', c = 'g')\n",
        "plt.xticks(x)\n",
        "plt.legend()\n",
        "plt.show()"
      ],
      "execution_count": 99,
      "outputs": [
        {
          "output_type": "stream",
          "text": [
            "----------------------------------------\n",
            "\n",
            "max_depth is 1\n",
            "Train score is 0.6007142857142858\n",
            "Test score is 0.6013333333333334\n",
            "confusion_matrix is \n",
            "[[1400  979]\n",
            " [ 217  404]] \n",
            "\n",
            "----------------------------------------\n",
            "----------------------------------------\n",
            "\n",
            "max_depth is 2\n",
            "Train score is 0.7842857142857143\n",
            "Test score is 0.7786666666666666\n",
            "confusion_matrix is \n",
            "[[1871  508]\n",
            " [ 156  465]] \n",
            "\n",
            "----------------------------------------\n",
            "----------------------------------------\n",
            "\n",
            "max_depth is 3\n",
            "Train score is 0.7612857142857142\n",
            "Test score is 0.7606666666666667\n",
            "confusion_matrix is \n",
            "[[1815  564]\n",
            " [ 154  467]] \n",
            "\n",
            "----------------------------------------\n",
            "----------------------------------------\n",
            "\n",
            "max_depth is 4\n",
            "Train score is 0.8097142857142857\n",
            "Test score is 0.7993333333333333\n",
            "confusion_matrix is \n",
            "[[1951  428]\n",
            " [ 174  447]] \n",
            "\n",
            "----------------------------------------\n",
            "----------------------------------------\n",
            "\n",
            "max_depth is 5\n",
            "Train score is 0.7932857142857143\n",
            "Test score is 0.7813333333333333\n",
            "confusion_matrix is \n",
            "[[1888  491]\n",
            " [ 165  456]] \n",
            "\n",
            "----------------------------------------\n",
            "----------------------------------------\n",
            "\n",
            "max_depth is 6\n",
            "Train score is 0.8091428571428572\n",
            "Test score is 0.8013333333333333\n",
            "confusion_matrix is \n",
            "[[1939  440]\n",
            " [ 156  465]] \n",
            "\n",
            "----------------------------------------\n",
            "----------------------------------------\n",
            "\n",
            "max_depth is 7\n",
            "Train score is 0.8344285714285714\n",
            "Test score is 0.7996666666666666\n",
            "confusion_matrix is \n",
            "[[1935  444]\n",
            " [ 157  464]] \n",
            "\n",
            "----------------------------------------\n",
            "----------------------------------------\n",
            "\n",
            "max_depth is 8\n",
            "Train score is 0.8488571428571429\n",
            "Test score is 0.812\n",
            "confusion_matrix is \n",
            "[[1975  404]\n",
            " [ 160  461]] \n",
            "\n",
            "----------------------------------------\n",
            "----------------------------------------\n",
            "\n",
            "max_depth is 9\n",
            "Train score is 0.8761428571428571\n",
            "Test score is 0.8226666666666667\n",
            "confusion_matrix is \n",
            "[[2033  346]\n",
            " [ 186  435]] \n",
            "\n",
            "----------------------------------------\n",
            "----------------------------------------\n",
            "\n",
            "max_depth is 10\n",
            "Train score is 0.8991428571428571\n",
            "Test score is 0.8293333333333334\n",
            "confusion_matrix is \n",
            "[[2058  321]\n",
            " [ 191  430]] \n",
            "\n",
            "----------------------------------------\n",
            "----------------------------------------\n",
            "\n",
            "max_depth is 11\n",
            "Train score is 0.922\n",
            "Test score is 0.8353333333333334\n",
            "confusion_matrix is \n",
            "[[2112  267]\n",
            " [ 227  394]] \n",
            "\n",
            "----------------------------------------\n",
            "----------------------------------------\n",
            "\n",
            "max_depth is 12\n",
            "Train score is 0.9377142857142857\n",
            "Test score is 0.8393333333333334\n",
            "confusion_matrix is \n",
            "[[2142  237]\n",
            " [ 245  376]] \n",
            "\n",
            "----------------------------------------\n",
            "----------------------------------------\n",
            "\n",
            "max_depth is 13\n",
            "Train score is 0.9591428571428572\n",
            "Test score is 0.853\n",
            "confusion_matrix is \n",
            "[[2192  187]\n",
            " [ 254  367]] \n",
            "\n",
            "----------------------------------------\n",
            "----------------------------------------\n",
            "\n",
            "max_depth is 14\n",
            "Train score is 0.9715714285714285\n",
            "Test score is 0.8483333333333334\n",
            "confusion_matrix is \n",
            "[[2221  158]\n",
            " [ 297  324]] \n",
            "\n",
            "----------------------------------------\n",
            "----------------------------------------\n",
            "\n",
            "max_depth is 15\n",
            "Train score is 0.9735714285714285\n",
            "Test score is 0.8563333333333333\n",
            "confusion_matrix is \n",
            "[[2236  143]\n",
            " [ 288  333]] \n",
            "\n",
            "----------------------------------------\n",
            "----------------------------------------\n",
            "\n",
            "max_depth is 16\n",
            "Train score is 0.9831428571428571\n",
            "Test score is 0.85\n",
            "confusion_matrix is \n",
            "[[2263  116]\n",
            " [ 334  287]] \n",
            "\n",
            "----------------------------------------\n",
            "----------------------------------------\n",
            "\n",
            "max_depth is 17\n",
            "Train score is 0.9815714285714285\n",
            "Test score is 0.843\n",
            "confusion_matrix is \n",
            "[[2253  126]\n",
            " [ 345  276]] \n",
            "\n",
            "----------------------------------------\n",
            "----------------------------------------\n",
            "\n",
            "max_depth is 18\n",
            "Train score is 0.985\n",
            "Test score is 0.8533333333333334\n",
            "confusion_matrix is \n",
            "[[2280   99]\n",
            " [ 341  280]] \n",
            "\n",
            "----------------------------------------\n",
            "----------------------------------------\n",
            "\n",
            "max_depth is 19\n",
            "Train score is 0.985\n",
            "Test score is 0.858\n",
            "confusion_matrix is \n",
            "[[2292   87]\n",
            " [ 339  282]] \n",
            "\n",
            "----------------------------------------\n",
            "----------------------------------------\n",
            "\n",
            "max_depth is 20\n",
            "Train score is 0.9838571428571429\n",
            "Test score is 0.852\n",
            "confusion_matrix is \n",
            "[[2271  108]\n",
            " [ 336  285]] \n",
            "\n",
            "----------------------------------------\n",
            "----------------------------------------\n",
            "\n",
            "max_depth is 21\n",
            "Train score is 0.9848571428571429\n",
            "Test score is 0.853\n",
            "confusion_matrix is \n",
            "[[2285   94]\n",
            " [ 347  274]] \n",
            "\n",
            "----------------------------------------\n",
            "----------------------------------------\n",
            "\n",
            "max_depth is 22\n",
            "Train score is 0.9848571428571429\n",
            "Test score is 0.856\n",
            "confusion_matrix is \n",
            "[[2280   99]\n",
            " [ 333  288]] \n",
            "\n",
            "----------------------------------------\n",
            "----------------------------------------\n",
            "\n",
            "max_depth is 23\n",
            "Train score is 0.9837142857142858\n",
            "Test score is 0.8533333333333334\n",
            "confusion_matrix is \n",
            "[[2283   96]\n",
            " [ 344  277]] \n",
            "\n",
            "----------------------------------------\n",
            "----------------------------------------\n",
            "\n",
            "max_depth is 24\n",
            "Train score is 0.9857142857142858\n",
            "Test score is 0.8573333333333333\n",
            "confusion_matrix is \n",
            "[[2290   89]\n",
            " [ 339  282]] \n",
            "\n",
            "----------------------------------------\n",
            "----------------------------------------\n",
            "\n",
            "max_depth is 25\n",
            "Train score is 0.9825714285714285\n",
            "Test score is 0.8526666666666667\n",
            "confusion_matrix is \n",
            "[[2282   97]\n",
            " [ 345  276]] \n",
            "\n",
            "----------------------------------------\n",
            "----------------------------------------\n",
            "\n",
            "max_depth is 26\n",
            "Train score is 0.9832857142857143\n",
            "Test score is 0.8553333333333333\n",
            "confusion_matrix is \n",
            "[[2282   97]\n",
            " [ 337  284]] \n",
            "\n",
            "----------------------------------------\n",
            "----------------------------------------\n",
            "\n",
            "max_depth is 27\n",
            "Train score is 0.9877142857142858\n",
            "Test score is 0.8506666666666667\n",
            "confusion_matrix is \n",
            "[[2285   94]\n",
            " [ 354  267]] \n",
            "\n",
            "----------------------------------------\n",
            "----------------------------------------\n",
            "\n",
            "max_depth is 28\n",
            "Train score is 0.9864285714285714\n",
            "Test score is 0.8553333333333333\n",
            "confusion_matrix is \n",
            "[[2297   82]\n",
            " [ 352  269]] \n",
            "\n",
            "----------------------------------------\n",
            "----------------------------------------\n",
            "\n",
            "max_depth is 29\n",
            "Train score is 0.9842857142857143\n",
            "Test score is 0.8523333333333334\n",
            "confusion_matrix is \n",
            "[[2282   97]\n",
            " [ 346  275]] \n",
            "\n",
            "----------------------------------------\n",
            "----------------------------------------\n",
            "\n",
            "max_depth is 30\n",
            "Train score is 0.9814285714285714\n",
            "Test score is 0.8533333333333334\n",
            "confusion_matrix is \n",
            "[[2282   97]\n",
            " [ 343  278]] \n",
            "\n",
            "----------------------------------------\n",
            "----------------------------------------\n",
            "\n",
            "max_depth is 31\n",
            "Train score is 0.9837142857142858\n",
            "Test score is 0.8546666666666667\n",
            "confusion_matrix is \n",
            "[[2284   95]\n",
            " [ 341  280]] \n",
            "\n",
            "----------------------------------------\n",
            "----------------------------------------\n",
            "\n",
            "max_depth is 32\n",
            "Train score is 0.984\n",
            "Test score is 0.8493333333333334\n",
            "confusion_matrix is \n",
            "[[2281   98]\n",
            " [ 354  267]] \n",
            "\n",
            "----------------------------------------\n",
            "----------------------------------------\n",
            "\n",
            "max_depth is 33\n",
            "Train score is 0.9835714285714285\n",
            "Test score is 0.8533333333333334\n",
            "confusion_matrix is \n",
            "[[2277  102]\n",
            " [ 338  283]] \n",
            "\n",
            "----------------------------------------\n",
            "----------------------------------------\n",
            "\n",
            "max_depth is 34\n",
            "Train score is 0.9852857142857143\n",
            "Test score is 0.848\n",
            "confusion_matrix is \n",
            "[[2288   91]\n",
            " [ 365  256]] \n",
            "\n",
            "----------------------------------------\n",
            "----------------------------------------\n",
            "\n",
            "max_depth is 35\n",
            "Train score is 0.9851428571428571\n",
            "Test score is 0.8486666666666667\n",
            "confusion_matrix is \n",
            "[[2289   90]\n",
            " [ 364  257]] \n",
            "\n",
            "----------------------------------------\n",
            "----------------------------------------\n",
            "\n",
            "max_depth is 36\n",
            "Train score is 0.9852857142857143\n",
            "Test score is 0.8516666666666667\n",
            "confusion_matrix is \n",
            "[[2285   94]\n",
            " [ 351  270]] \n",
            "\n",
            "----------------------------------------\n",
            "----------------------------------------\n",
            "\n",
            "max_depth is 37\n",
            "Train score is 0.9834285714285714\n",
            "Test score is 0.85\n",
            "confusion_matrix is \n",
            "[[2282   97]\n",
            " [ 353  268]] \n",
            "\n",
            "----------------------------------------\n",
            "----------------------------------------\n",
            "\n",
            "max_depth is 38\n",
            "Train score is 0.9848571428571429\n",
            "Test score is 0.861\n",
            "confusion_matrix is \n",
            "[[2290   89]\n",
            " [ 328  293]] \n",
            "\n",
            "----------------------------------------\n",
            "----------------------------------------\n",
            "\n",
            "max_depth is 39\n",
            "Train score is 0.9835714285714285\n",
            "Test score is 0.8596666666666667\n",
            "confusion_matrix is \n",
            "[[2288   91]\n",
            " [ 330  291]] \n",
            "\n",
            "----------------------------------------\n",
            "----------------------------------------\n",
            "\n",
            "max_depth is 40\n",
            "Train score is 0.9855714285714285\n",
            "Test score is 0.8603333333333333\n",
            "confusion_matrix is \n",
            "[[2292   87]\n",
            " [ 332  289]] \n",
            "\n",
            "----------------------------------------\n",
            "----------------------------------------\n",
            "\n",
            "max_depth is 41\n",
            "Train score is 0.983\n",
            "Test score is 0.8476666666666667\n",
            "confusion_matrix is \n",
            "[[2272  107]\n",
            " [ 350  271]] \n",
            "\n",
            "----------------------------------------\n",
            "----------------------------------------\n",
            "\n",
            "max_depth is 42\n",
            "Train score is 0.9845714285714285\n",
            "Test score is 0.8543333333333333\n",
            "confusion_matrix is \n",
            "[[2283   96]\n",
            " [ 341  280]] \n",
            "\n",
            "----------------------------------------\n",
            "----------------------------------------\n",
            "\n",
            "max_depth is 43\n",
            "Train score is 0.9837142857142858\n",
            "Test score is 0.846\n",
            "confusion_matrix is \n",
            "[[2268  111]\n",
            " [ 351  270]] \n",
            "\n",
            "----------------------------------------\n",
            "----------------------------------------\n",
            "\n",
            "max_depth is 44\n",
            "Train score is 0.9821428571428571\n",
            "Test score is 0.8573333333333333\n",
            "confusion_matrix is \n",
            "[[2301   78]\n",
            " [ 350  271]] \n",
            "\n",
            "----------------------------------------\n",
            "----------------------------------------\n",
            "\n",
            "max_depth is 45\n",
            "Train score is 0.9844285714285714\n",
            "Test score is 0.8506666666666667\n",
            "confusion_matrix is \n",
            "[[2276  103]\n",
            " [ 345  276]] \n",
            "\n",
            "----------------------------------------\n",
            "----------------------------------------\n",
            "\n",
            "max_depth is 46\n",
            "Train score is 0.9847142857142858\n",
            "Test score is 0.8486666666666667\n",
            "confusion_matrix is \n",
            "[[2282   97]\n",
            " [ 357  264]] \n",
            "\n",
            "----------------------------------------\n",
            "----------------------------------------\n",
            "\n",
            "max_depth is 47\n",
            "Train score is 0.9828571428571429\n",
            "Test score is 0.8536666666666667\n",
            "confusion_matrix is \n",
            "[[2289   90]\n",
            " [ 349  272]] \n",
            "\n",
            "----------------------------------------\n",
            "----------------------------------------\n",
            "\n",
            "max_depth is 48\n",
            "Train score is 0.9842857142857143\n",
            "Test score is 0.8573333333333333\n",
            "confusion_matrix is \n",
            "[[2304   75]\n",
            " [ 353  268]] \n",
            "\n",
            "----------------------------------------\n",
            "----------------------------------------\n",
            "\n",
            "max_depth is 49\n",
            "Train score is 0.983\n",
            "Test score is 0.8523333333333334\n",
            "confusion_matrix is \n",
            "[[2281   98]\n",
            " [ 345  276]] \n",
            "\n",
            "----------------------------------------\n"
          ],
          "name": "stdout"
        },
        {
          "output_type": "display_data",
          "data": {
            "image/png": "[encoded data removed]",
            "text/plain": [
              "<matplotlib.figure.Figure at 0x7f9171271470>"
            ]
          },
          "metadata": {
            "tags": []
          }
        }
      ]
    },
    {
      "metadata": {
        "id": "mesYim77FRhs",
        "colab_type": "code",
        "colab": {
          "base_uri": "https://localhost:8080/",
          "height": 3658
        },
        "outputId": "c729f69a-a877-46e2-a692-ae885cc144e6"
      },
      "cell_type": "code",
      "source": [
        "t = []\n",
        "s = []\n",
        "x = range(1, 20)\n",
        "for i in x:\n",
        "  clf = RandomForestClassifier(max_depth = i, class_weight = 'balanced').fit(X_train, y_train)\n",
        "  a = clf.score(X_train, y_train)\n",
        "  b = clf.score(X_test, y_test)\n",
        "  t.append(a)\n",
        "  s.append(b)\n",
        "  print('-'*40)\n",
        "  print(f'\\nmax_depth is {i}')\n",
        "  print(f'Train score is {a}')\n",
        "  print(f'Test score is {b}')\n",
        "  c = confusion_matrix(y_test, clf.predict(X_test))\n",
        "  print(f'confusion_matrix is \\n{c} \\n')\n",
        "  print('-'*40)\n",
        "  \n",
        "plt.figure(figsize = (15, 7))\n",
        "plt.plot(x, t, label = 'Train score', c = 'r')\n",
        "plt.plot(x, s, label = 'Test score', c = 'g')\n",
        "plt.xticks(x)\n",
        "plt.legend()\n",
        "plt.show()"
      ],
      "execution_count": 97,
      "outputs": [
        {
          "output_type": "stream",
          "text": [
            "----------------------------------------\n",
            "\n",
            "max_depth is 1\n",
            "Train score is 0.7977142857142857\n",
            "Test score is 0.793\n",
            "confusion_matrix is \n",
            "[[2379    0]\n",
            " [ 621    0]] \n",
            "\n",
            "----------------------------------------\n",
            "----------------------------------------\n",
            "\n",
            "max_depth is 2\n",
            "Train score is 0.8171428571428572\n",
            "Test score is 0.8136666666666666\n",
            "confusion_matrix is \n",
            "[[2373    6]\n",
            " [ 553   68]] \n",
            "\n",
            "----------------------------------------\n",
            "----------------------------------------\n",
            "\n",
            "max_depth is 3\n",
            "Train score is 0.8205714285714286\n",
            "Test score is 0.8193333333333334\n",
            "confusion_matrix is \n",
            "[[2365   14]\n",
            " [ 528   93]] \n",
            "\n",
            "----------------------------------------\n",
            "----------------------------------------\n",
            "\n",
            "max_depth is 4\n",
            "Train score is 0.8408571428571429\n",
            "Test score is 0.8473333333333334\n",
            "confusion_matrix is \n",
            "[[2359   20]\n",
            " [ 438  183]] \n",
            "\n",
            "----------------------------------------\n",
            "----------------------------------------\n",
            "\n",
            "max_depth is 5\n",
            "Train score is 0.8557142857142858\n",
            "Test score is 0.857\n",
            "confusion_matrix is \n",
            "[[2336   43]\n",
            " [ 386  235]] \n",
            "\n",
            "----------------------------------------\n",
            "----------------------------------------\n",
            "\n",
            "max_depth is 6\n",
            "Train score is 0.8634285714285714\n",
            "Test score is 0.8586666666666667\n",
            "confusion_matrix is \n",
            "[[2332   47]\n",
            " [ 377  244]] \n",
            "\n",
            "----------------------------------------\n",
            "----------------------------------------\n",
            "\n",
            "max_depth is 7\n",
            "Train score is 0.8684285714285714\n",
            "Test score is 0.8633333333333333\n",
            "confusion_matrix is \n",
            "[[2314   65]\n",
            " [ 345  276]] \n",
            "\n",
            "----------------------------------------\n",
            "----------------------------------------\n",
            "\n",
            "max_depth is 8\n",
            "Train score is 0.8748571428571429\n",
            "Test score is 0.861\n",
            "confusion_matrix is \n",
            "[[2309   70]\n",
            " [ 347  274]] \n",
            "\n",
            "----------------------------------------\n",
            "----------------------------------------\n",
            "\n",
            "max_depth is 9\n",
            "Train score is 0.8894285714285715\n",
            "Test score is 0.8633333333333333\n",
            "confusion_matrix is \n",
            "[[2294   85]\n",
            " [ 325  296]] \n",
            "\n",
            "----------------------------------------\n",
            "----------------------------------------\n",
            "\n",
            "max_depth is 10\n",
            "Train score is 0.8971428571428571\n",
            "Test score is 0.864\n",
            "confusion_matrix is \n",
            "[[2291   88]\n",
            " [ 320  301]] \n",
            "\n",
            "----------------------------------------\n",
            "----------------------------------------\n",
            "\n",
            "max_depth is 11\n",
            "Train score is 0.9161428571428571\n",
            "Test score is 0.8633333333333333\n",
            "confusion_matrix is \n",
            "[[2279  100]\n",
            " [ 310  311]] \n",
            "\n",
            "----------------------------------------\n",
            "----------------------------------------\n",
            "\n",
            "max_depth is 12\n",
            "Train score is 0.927\n",
            "Test score is 0.8573333333333333\n",
            "confusion_matrix is \n",
            "[[2281   98]\n",
            " [ 330  291]] \n",
            "\n",
            "----------------------------------------\n",
            "----------------------------------------\n",
            "\n",
            "max_depth is 13\n",
            "Train score is 0.9394285714285714\n",
            "Test score is 0.86\n",
            "confusion_matrix is \n",
            "[[2262  117]\n",
            " [ 303  318]] \n",
            "\n",
            "----------------------------------------\n",
            "----------------------------------------\n",
            "\n",
            "max_depth is 14\n",
            "Train score is 0.9567142857142857\n",
            "Test score is 0.857\n",
            "confusion_matrix is \n",
            "[[2268  111]\n",
            " [ 318  303]] \n",
            "\n",
            "----------------------------------------\n",
            "----------------------------------------\n",
            "\n",
            "max_depth is 15\n",
            "Train score is 0.9668571428571429\n",
            "Test score is 0.8606666666666667\n",
            "confusion_matrix is \n",
            "[[2259  120]\n",
            " [ 298  323]] \n",
            "\n",
            "----------------------------------------\n",
            "----------------------------------------\n",
            "\n",
            "max_depth is 16\n",
            "Train score is 0.9794285714285714\n",
            "Test score is 0.8553333333333333\n",
            "confusion_matrix is \n",
            "[[2254  125]\n",
            " [ 309  312]] \n",
            "\n",
            "----------------------------------------\n",
            "----------------------------------------\n",
            "\n",
            "max_depth is 17\n",
            "Train score is 0.9842857142857143\n",
            "Test score is 0.8463333333333334\n",
            "confusion_matrix is \n",
            "[[2252  127]\n",
            " [ 334  287]] \n",
            "\n",
            "----------------------------------------\n",
            "----------------------------------------\n",
            "\n",
            "max_depth is 18\n",
            "Train score is 0.9834285714285714\n",
            "Test score is 0.8583333333333333\n",
            "confusion_matrix is \n",
            "[[2280   99]\n",
            " [ 326  295]] \n",
            "\n",
            "----------------------------------------\n",
            "----------------------------------------\n",
            "\n",
            "max_depth is 19\n",
            "Train score is 0.9838571428571429\n",
            "Test score is 0.8566666666666667\n",
            "confusion_matrix is \n",
            "[[2267  112]\n",
            " [ 318  303]] \n",
            "\n",
            "----------------------------------------\n"
          ],
          "name": "stdout"
        },
        {
          "output_type": "display_data",
          "data": {
            "image/png": "[encoded data removed]",
            "text/plain": [
              "<matplotlib.figure.Figure at 0x7f91713a03c8>"
            ]
          },
          "metadata": {
            "tags": []
          }
        }
      ]
    },
    {
      "metadata": {
        "id": "RJZGxZYDFstR",
        "colab_type": "code",
        "colab": {
          "base_uri": "https://localhost:8080/",
          "height": 34
        },
        "outputId": "d80b9a55-861e-49ff-e60f-9e2b392b4648"
      },
      "cell_type": "code",
      "source": [
        "clf.score(X_test, y_test)"
      ],
      "execution_count": 89,
      "outputs": [
        {
          "output_type": "execute_result",
          "data": {
            "text/plain": [
              "0.8606666666666667"
            ]
          },
          "metadata": {
            "tags": []
          },
          "execution_count": 89
        }
      ]
    },
    {
      "metadata": {
        "id": "Z7wdbPu_FvGm",
        "colab_type": "code",
        "colab": {
          "base_uri": "https://localhost:8080/",
          "height": 34
        },
        "outputId": "65e2e770-2afe-4873-dd01-944e68d4d025"
      },
      "cell_type": "code",
      "source": [
        "clf.score(X_train, y_train)"
      ],
      "execution_count": 91,
      "outputs": [
        {
          "output_type": "execute_result",
          "data": {
            "text/plain": [
              "0.9837142857142858"
            ]
          },
          "metadata": {
            "tags": []
          },
          "execution_count": 91
        }
      ]
    },
    {
      "metadata": {
        "id": "1Nvj6wi8FyKO",
        "colab_type": "text"
      },
      "cell_type": "markdown",
      "source": [
        "# MinorClass Up sampling"
      ]
    },
    {
      "metadata": {
        "id": "Hw1VtcH2KvpI",
        "colab_type": "code",
        "colab": {
          "base_uri": "https://localhost:8080/",
          "height": 80
        },
        "outputId": "5234790f-f42c-4934-83d7-84802f8f5757"
      },
      "cell_type": "code",
      "source": [
        "df.head(1)"
      ],
      "execution_count": 100,
      "outputs": [
        {
          "output_type": "execute_result",
          "data": {
            "text/html": [
              "<div>\n",
              "<style scoped>\n",
              "    .dataframe tbody tr th:only-of-type {\n",
              "        vertical-align: middle;\n",
              "    }\n",
              "\n",
              "    .dataframe tbody tr th {\n",
              "        vertical-align: top;\n",
              "    }\n",
              "\n",
              "    .dataframe thead th {\n",
              "        text-align: right;\n",
              "    }\n",
              "</style>\n",
              "<table border=\"1\" class=\"dataframe\">\n",
              "  <thead>\n",
              "    <tr style=\"text-align: right;\">\n",
              "      <th></th>\n",
              "      <th>CreditScore</th>\n",
              "      <th>Age</th>\n",
              "      <th>Tenure</th>\n",
              "      <th>Balance</th>\n",
              "      <th>NumOfProducts</th>\n",
              "      <th>HasCrCard</th>\n",
              "      <th>IsActiveMember</th>\n",
              "      <th>EstimatedSalary</th>\n",
              "      <th>Exited</th>\n",
              "      <th>Geography_Germany</th>\n",
              "      <th>Geography_Spain</th>\n",
              "      <th>Gender_Male</th>\n",
              "    </tr>\n",
              "  </thead>\n",
              "  <tbody>\n",
              "    <tr>\n",
              "      <th>0</th>\n",
              "      <td>619</td>\n",
              "      <td>42</td>\n",
              "      <td>2</td>\n",
              "      <td>0.0</td>\n",
              "      <td>1</td>\n",
              "      <td>1</td>\n",
              "      <td>1</td>\n",
              "      <td>101348.88</td>\n",
              "      <td>1</td>\n",
              "      <td>0</td>\n",
              "      <td>0</td>\n",
              "      <td>0</td>\n",
              "    </tr>\n",
              "  </tbody>\n",
              "</table>\n",
              "</div>"
            ],
            "text/plain": [
              "   CreditScore  Age  Tenure  Balance  NumOfProducts  HasCrCard  \\\n",
              "0          619   42       2      0.0              1          1   \n",
              "\n",
              "   IsActiveMember  EstimatedSalary  Exited  Geography_Germany  \\\n",
              "0               1        101348.88       1                  0   \n",
              "\n",
              "   Geography_Spain  Gender_Male  \n",
              "0                0            0  "
            ]
          },
          "metadata": {
            "tags": []
          },
          "execution_count": 100
        }
      ]
    },
    {
      "metadata": {
        "id": "-uGGYGPSK7EX",
        "colab_type": "code",
        "colab": {
          "base_uri": "https://localhost:8080/",
          "height": 34
        },
        "outputId": "6efe64d2-2419-4313-9113-0fd9d386d3ae"
      },
      "cell_type": "code",
      "source": [
        "sum(df.isnull().sum())"
      ],
      "execution_count": 102,
      "outputs": [
        {
          "output_type": "execute_result",
          "data": {
            "text/plain": [
              "0"
            ]
          },
          "metadata": {
            "tags": []
          },
          "execution_count": 102
        }
      ]
    },
    {
      "metadata": {
        "id": "SOVVGZ6WKxE1",
        "colab_type": "code",
        "colab": {
          "base_uri": "https://localhost:8080/",
          "height": 330
        },
        "outputId": "c94d2baf-cf00-460f-97f9-9f5d00a3f9e2"
      },
      "cell_type": "code",
      "source": [
        "sns.countplot(df.Exited)"
      ],
      "execution_count": 101,
      "outputs": [
        {
          "output_type": "stream",
          "text": [
            "/usr/local/lib/python3.6/dist-packages/seaborn/categorical.py:1428: FutureWarning: remove_na is deprecated and is a private function. Do not use.\n",
            "  stat_data = remove_na(group_data)\n"
          ],
          "name": "stderr"
        },
        {
          "output_type": "execute_result",
          "data": {
            "text/plain": [
              "<matplotlib.axes._subplots.AxesSubplot at 0x7f91712a71d0>"
            ]
          },
          "metadata": {
            "tags": []
          },
          "execution_count": 101
        },
        {
          "output_type": "display_data",
          "data": {
            "image/png": "[encoded data removed]",
            "text/plain": [
              "<matplotlib.figure.Figure at 0x7f91897e87f0>"
            ]
          },
          "metadata": {
            "tags": []
          }
        }
      ]
    },
    {
      "metadata": {
        "id": "KbmCslxgK2vQ",
        "colab_type": "code",
        "colab": {
          "base_uri": "https://localhost:8080/",
          "height": 68
        },
        "outputId": "b172e72b-7c1d-43c8-e4b9-73ecb8fd04f7"
      },
      "cell_type": "code",
      "source": [
        "df.Exited.value_counts()"
      ],
      "execution_count": 109,
      "outputs": [
        {
          "output_type": "execute_result",
          "data": {
            "text/plain": [
              "0    7963\n",
              "1    2037\n",
              "Name: Exited, dtype: int64"
            ]
          },
          "metadata": {
            "tags": []
          },
          "execution_count": 109
        }
      ]
    },
    {
      "metadata": {
        "id": "OhlLlTqBLHce",
        "colab_type": "code",
        "colab": {}
      },
      "cell_type": "code",
      "source": [
        "from sklearn.utils import resample"
      ],
      "execution_count": 0,
      "outputs": []
    },
    {
      "metadata": {
        "id": "SfEQkRkvLQW3",
        "colab_type": "code",
        "colab": {
          "base_uri": "https://localhost:8080/",
          "height": 85
        },
        "outputId": "d62051bf-acfd-46dc-9ab9-55ae043d10b5"
      },
      "cell_type": "code",
      "source": [
        "# Separate majority and minority classes\n",
        "df_majority = df[df.Exited ==0]\n",
        "df_minority = df[df.Exited ==1]\n",
        "print(f'majority shape is {df_majority.shape}, minority shape is {df_minority.shape}')\n",
        "# Upsample minority class\n",
        "df_minority_upsampled = resample(df_minority, \n",
        "                                 replace=True,     # sample with replacement\n",
        "                                 n_samples=7963,    # to match majority class\n",
        "                                 random_state=123) # reproducible results\n",
        " \n",
        "# Combine majority class with upsampled minority class\n",
        "df_upsampled = pd.concat([df_majority, df_minority_upsampled])\n",
        " \n",
        "# Display new class counts\n",
        "df_upsampled.Exited.value_counts()"
      ],
      "execution_count": 112,
      "outputs": [
        {
          "output_type": "stream",
          "text": [
            "majority shape is (7963, 12), minority shape is (2037, 12)\n"
          ],
          "name": "stdout"
        },
        {
          "output_type": "execute_result",
          "data": {
            "text/plain": [
              "1    7963\n",
              "0    7963\n",
              "Name: Exited, dtype: int64"
            ]
          },
          "metadata": {
            "tags": []
          },
          "execution_count": 112
        }
      ]
    },
    {
      "metadata": {
        "id": "9VdU9tsgMDT-",
        "colab_type": "code",
        "colab": {
          "base_uri": "https://localhost:8080/",
          "height": 34
        },
        "outputId": "42ffbdd5-4152-4b0b-b72c-9274575f7b63"
      },
      "cell_type": "code",
      "source": [
        "df_upsampled.shape"
      ],
      "execution_count": 113,
      "outputs": [
        {
          "output_type": "execute_result",
          "data": {
            "text/plain": [
              "(15926, 12)"
            ]
          },
          "metadata": {
            "tags": []
          },
          "execution_count": 113
        }
      ]
    },
    {
      "metadata": {
        "id": "_zGFvmn8MSc7",
        "colab_type": "code",
        "colab": {}
      },
      "cell_type": "code",
      "source": [
        "df2 = df_upsampled.copy()"
      ],
      "execution_count": 0,
      "outputs": []
    },
    {
      "metadata": {
        "id": "mfpEFjl0MVUc",
        "colab_type": "code",
        "colab": {
          "base_uri": "https://localhost:8080/",
          "height": 34
        },
        "outputId": "0c6a75bf-2449-4b40-f612-12063dc825cb"
      },
      "cell_type": "code",
      "source": [
        "X = df2.drop('Exited', 1)\n",
        "y =df2.Exited\n",
        "X.shape, y.shape"
      ],
      "execution_count": 116,
      "outputs": [
        {
          "output_type": "execute_result",
          "data": {
            "text/plain": [
              "((15926, 11), (15926,))"
            ]
          },
          "metadata": {
            "tags": []
          },
          "execution_count": 116
        }
      ]
    },
    {
      "metadata": {
        "id": "mQ45BPVAOF2N",
        "colab_type": "code",
        "colab": {}
      },
      "cell_type": "code",
      "source": [
        "from sklearn.model_selection import train_test_split"
      ],
      "execution_count": 0,
      "outputs": []
    },
    {
      "metadata": {
        "id": "yJIsGhaCOJNO",
        "colab_type": "code",
        "colab": {}
      },
      "cell_type": "code",
      "source": [
        "X_train, X_test, y_train, y_test = train_test_split(X, y, test_size = .3, random_state = 0)"
      ],
      "execution_count": 0,
      "outputs": []
    },
    {
      "metadata": {
        "id": "pCU9lVS2ORQN",
        "colab_type": "code",
        "colab": {}
      },
      "cell_type": "code",
      "source": [
        "from sklearn.preprocessing import StandardScaler"
      ],
      "execution_count": 0,
      "outputs": []
    },
    {
      "metadata": {
        "id": "9oU-v9RSOVzg",
        "colab_type": "code",
        "colab": {
          "base_uri": "https://localhost:8080/",
          "height": 119
        },
        "outputId": "41ac376b-d113-47bd-c070-f38cdb3d1f00"
      },
      "cell_type": "code",
      "source": [
        "X_train = StandardScaler().fit_transform(X_train)\n",
        "X_test = StandardScaler().fit_transform(X_test)\n",
        "X_train[:1], X_test[:1]"
      ],
      "execution_count": 135,
      "outputs": [
        {
          "output_type": "execute_result",
          "data": {
            "text/plain": [
              "(array([[ 1.18639954, -0.67762727,  0.34414616,  0.39315362, -0.75391958,\n",
              "         -1.53651172,  1.10206221,  0.64617005,  1.49281511, -0.54500749,\n",
              "         -1.01993311]]),\n",
              " array([[-0.8187994 , -0.29431478, -1.34935808,  0.73492   , -0.75098819,\n",
              "          0.64475088, -0.92573014,  0.82664361,  1.46192652, -0.54138598,\n",
              "          1.        ]]))"
            ]
          },
          "metadata": {
            "tags": []
          },
          "execution_count": 135
        }
      ]
    },
    {
      "metadata": {
        "id": "xlWhpzSVPEv9",
        "colab_type": "code",
        "colab": {}
      },
      "cell_type": "code",
      "source": [
        "y_train = y_train.values\n",
        "y_test = y_test.values"
      ],
      "execution_count": 0,
      "outputs": []
    },
    {
      "metadata": {
        "id": "yQs63cLkPI0d",
        "colab_type": "code",
        "colab": {
          "base_uri": "https://localhost:8080/",
          "height": 34
        },
        "outputId": "ea705070-efbb-4464-c52b-f10bfc3dc6e5"
      },
      "cell_type": "code",
      "source": [
        "y_train[0], y_test[0]"
      ],
      "execution_count": 137,
      "outputs": [
        {
          "output_type": "execute_result",
          "data": {
            "text/plain": [
              "(1, 1)"
            ]
          },
          "metadata": {
            "tags": []
          },
          "execution_count": 137
        }
      ]
    },
    {
      "metadata": {
        "id": "7IgcbQCDMew5",
        "colab_type": "text"
      },
      "cell_type": "markdown",
      "source": [
        "## Train model"
      ]
    },
    {
      "metadata": {
        "id": "pLfM1_mHMlZZ",
        "colab_type": "code",
        "colab": {}
      },
      "cell_type": "code",
      "source": [
        "import tensorflow as tf\n",
        "from tensorflow import keras"
      ],
      "execution_count": 0,
      "outputs": []
    },
    {
      "metadata": {
        "id": "ZuiJBYPiMp-t",
        "colab_type": "code",
        "colab": {
          "base_uri": "https://localhost:8080/",
          "height": 3434
        },
        "outputId": "bc948868-dd2b-41a2-bbbe-1accd863e829"
      },
      "cell_type": "code",
      "source": [
        "model = keras.models.Sequential()\n",
        "model.add(keras.layers.Dense(9, activation = tf.nn.relu, input_dim = 11))\n",
        "model.add(keras.layers.Dense(9, activation = tf.nn.relu)) #their is no need to define the shape of data again it's only need to define when first layers adding\n",
        "model.add(keras.layers.Dense(1, activation = tf.nn.sigmoid))\n",
        "model.compile(optimizer = 'adam', loss = 'binary_crossentropy', metrics = ['accuracy'])\n",
        "model.fit(X_train, y_train, epochs = 100)"
      ],
      "execution_count": 157,
      "outputs": [
        {
          "output_type": "stream",
          "text": [
            "Epoch 1/100\n",
            "11148/11148 [==============================] - 1s 114us/step - loss: 0.6381 - acc: 0.6359\n",
            "Epoch 2/100\n",
            "11148/11148 [==============================] - 1s 46us/step - loss: 0.5663 - acc: 0.7164\n",
            "Epoch 3/100\n",
            "11148/11148 [==============================] - 0s 43us/step - loss: 0.5282 - acc: 0.7465\n",
            "Epoch 4/100\n",
            "11148/11148 [==============================] - 0s 40us/step - loss: 0.5035 - acc: 0.7558\n",
            "Epoch 5/100\n",
            "11148/11148 [==============================] - 0s 40us/step - loss: 0.4896 - acc: 0.7654\n",
            "Epoch 6/100\n",
            "11148/11148 [==============================] - 0s 40us/step - loss: 0.4814 - acc: 0.7710\n",
            "Epoch 7/100\n",
            "11148/11148 [==============================] - 0s 39us/step - loss: 0.4756 - acc: 0.7705\n",
            "Epoch 8/100\n",
            "11148/11148 [==============================] - 0s 40us/step - loss: 0.4715 - acc: 0.7744\n",
            "Epoch 9/100\n",
            "11148/11148 [==============================] - 0s 40us/step - loss: 0.4681 - acc: 0.7764\n",
            "Epoch 10/100\n",
            "11148/11148 [==============================] - 0s 40us/step - loss: 0.4656 - acc: 0.7757\n",
            "Epoch 11/100\n",
            "11148/11148 [==============================] - 0s 39us/step - loss: 0.4629 - acc: 0.7778\n",
            "Epoch 12/100\n",
            "11148/11148 [==============================] - 0s 39us/step - loss: 0.4608 - acc: 0.7798\n",
            "Epoch 13/100\n",
            "11148/11148 [==============================] - 0s 39us/step - loss: 0.4597 - acc: 0.7778\n",
            "Epoch 14/100\n",
            "11148/11148 [==============================] - 0s 39us/step - loss: 0.4587 - acc: 0.7794\n",
            "Epoch 15/100\n",
            "11148/11148 [==============================] - 0s 39us/step - loss: 0.4573 - acc: 0.7807\n",
            "Epoch 16/100\n",
            "11148/11148 [==============================] - 0s 39us/step - loss: 0.4553 - acc: 0.7818\n",
            "Epoch 17/100\n",
            "11148/11148 [==============================] - 0s 39us/step - loss: 0.4544 - acc: 0.7829\n",
            "Epoch 18/100\n",
            "11148/11148 [==============================] - 0s 39us/step - loss: 0.4529 - acc: 0.7834\n",
            "Epoch 19/100\n",
            "11148/11148 [==============================] - 0s 40us/step - loss: 0.4516 - acc: 0.7844\n",
            "Epoch 20/100\n",
            "11148/11148 [==============================] - 0s 40us/step - loss: 0.4505 - acc: 0.7842\n",
            "Epoch 21/100\n",
            "11148/11148 [==============================] - 0s 39us/step - loss: 0.4498 - acc: 0.7836\n",
            "Epoch 22/100\n",
            "11148/11148 [==============================] - 0s 40us/step - loss: 0.4490 - acc: 0.7840\n",
            "Epoch 23/100\n",
            "11148/11148 [==============================] - 0s 39us/step - loss: 0.4479 - acc: 0.7867\n",
            "Epoch 24/100\n",
            "11148/11148 [==============================] - 0s 40us/step - loss: 0.4473 - acc: 0.7856\n",
            "Epoch 25/100\n",
            "11148/11148 [==============================] - 0s 39us/step - loss: 0.4465 - acc: 0.7868\n",
            "Epoch 26/100\n",
            "11148/11148 [==============================] - 0s 40us/step - loss: 0.4454 - acc: 0.7860\n",
            "Epoch 27/100\n",
            "11148/11148 [==============================] - 0s 39us/step - loss: 0.4447 - acc: 0.7864\n",
            "Epoch 28/100\n",
            "11148/11148 [==============================] - 0s 39us/step - loss: 0.4439 - acc: 0.7876\n",
            "Epoch 29/100\n",
            "11148/11148 [==============================] - 0s 40us/step - loss: 0.4435 - acc: 0.7869\n",
            "Epoch 30/100\n",
            "11148/11148 [==============================] - 0s 40us/step - loss: 0.4424 - acc: 0.7905\n",
            "Epoch 31/100\n",
            "11148/11148 [==============================] - 0s 39us/step - loss: 0.4421 - acc: 0.7878\n",
            "Epoch 32/100\n",
            "11148/11148 [==============================] - 0s 39us/step - loss: 0.4410 - acc: 0.7874\n",
            "Epoch 33/100\n",
            "11148/11148 [==============================] - 0s 39us/step - loss: 0.4411 - acc: 0.7883\n",
            "Epoch 34/100\n",
            "11148/11148 [==============================] - 0s 39us/step - loss: 0.4395 - acc: 0.7894\n",
            "Epoch 35/100\n",
            "11148/11148 [==============================] - 0s 39us/step - loss: 0.4393 - acc: 0.7898\n",
            "Epoch 36/100\n",
            "11148/11148 [==============================] - 0s 39us/step - loss: 0.4383 - acc: 0.7883\n",
            "Epoch 37/100\n",
            "11148/11148 [==============================] - 0s 40us/step - loss: 0.4377 - acc: 0.7907\n",
            "Epoch 38/100\n",
            "11148/11148 [==============================] - 0s 40us/step - loss: 0.4368 - acc: 0.7904\n",
            "Epoch 39/100\n",
            "11148/11148 [==============================] - 0s 39us/step - loss: 0.4363 - acc: 0.7914\n",
            "Epoch 40/100\n",
            "11148/11148 [==============================] - 0s 40us/step - loss: 0.4365 - acc: 0.7912\n",
            "Epoch 41/100\n",
            "11148/11148 [==============================] - 0s 40us/step - loss: 0.4362 - acc: 0.7915\n",
            "Epoch 42/100\n",
            "11148/11148 [==============================] - 0s 40us/step - loss: 0.4356 - acc: 0.7924\n",
            "Epoch 43/100\n",
            "11148/11148 [==============================] - 0s 40us/step - loss: 0.4351 - acc: 0.7929\n",
            "Epoch 44/100\n",
            "11148/11148 [==============================] - 0s 40us/step - loss: 0.4350 - acc: 0.7923\n",
            "Epoch 45/100\n",
            "11148/11148 [==============================] - 0s 39us/step - loss: 0.4345 - acc: 0.7923\n",
            "Epoch 46/100\n",
            "11148/11148 [==============================] - 0s 40us/step - loss: 0.4340 - acc: 0.7915\n",
            "Epoch 47/100\n",
            "11148/11148 [==============================] - 0s 40us/step - loss: 0.4337 - acc: 0.7939\n",
            "Epoch 48/100\n",
            "11148/11148 [==============================] - 0s 39us/step - loss: 0.4337 - acc: 0.7942\n",
            "Epoch 49/100\n",
            "11148/11148 [==============================] - 0s 38us/step - loss: 0.4341 - acc: 0.7922\n",
            "Epoch 50/100\n",
            "11148/11148 [==============================] - 0s 40us/step - loss: 0.4336 - acc: 0.7925\n",
            "Epoch 51/100\n",
            "11148/11148 [==============================] - 0s 40us/step - loss: 0.4329 - acc: 0.7931\n",
            "Epoch 52/100\n",
            "11148/11148 [==============================] - 0s 40us/step - loss: 0.4329 - acc: 0.7931\n",
            "Epoch 53/100\n",
            "11148/11148 [==============================] - 0s 40us/step - loss: 0.4322 - acc: 0.7951\n",
            "Epoch 54/100\n",
            "11148/11148 [==============================] - 0s 40us/step - loss: 0.4328 - acc: 0.7959\n",
            "Epoch 55/100\n",
            "11148/11148 [==============================] - 0s 40us/step - loss: 0.4323 - acc: 0.7936\n",
            "Epoch 56/100\n",
            "11148/11148 [==============================] - 0s 39us/step - loss: 0.4326 - acc: 0.7933\n",
            "Epoch 57/100\n",
            "11148/11148 [==============================] - 0s 40us/step - loss: 0.4327 - acc: 0.7915\n",
            "Epoch 58/100\n",
            "11148/11148 [==============================] - 0s 40us/step - loss: 0.4319 - acc: 0.7950\n",
            "Epoch 59/100\n",
            "11148/11148 [==============================] - 0s 39us/step - loss: 0.4321 - acc: 0.7948\n",
            "Epoch 60/100\n",
            "11148/11148 [==============================] - 0s 39us/step - loss: 0.4318 - acc: 0.7944\n",
            "Epoch 61/100\n",
            "11148/11148 [==============================] - 0s 40us/step - loss: 0.4319 - acc: 0.7956\n",
            "Epoch 62/100\n",
            "11148/11148 [==============================] - 0s 40us/step - loss: 0.4313 - acc: 0.7953\n",
            "Epoch 63/100\n",
            "11148/11148 [==============================] - 0s 39us/step - loss: 0.4313 - acc: 0.7957\n",
            "Epoch 64/100\n",
            "11148/11148 [==============================] - 0s 39us/step - loss: 0.4314 - acc: 0.7940\n",
            "Epoch 65/100\n",
            "11148/11148 [==============================] - 0s 39us/step - loss: 0.4311 - acc: 0.7959\n",
            "Epoch 66/100\n",
            "11148/11148 [==============================] - 0s 39us/step - loss: 0.4309 - acc: 0.7966\n",
            "Epoch 67/100\n",
            "11148/11148 [==============================] - 0s 40us/step - loss: 0.4308 - acc: 0.7936\n",
            "Epoch 68/100\n",
            "11148/11148 [==============================] - 0s 40us/step - loss: 0.4309 - acc: 0.7953\n",
            "Epoch 69/100\n",
            "11148/11148 [==============================] - 0s 40us/step - loss: 0.4307 - acc: 0.7949\n",
            "Epoch 70/100\n",
            "11148/11148 [==============================] - 0s 40us/step - loss: 0.4308 - acc: 0.7957\n",
            "Epoch 71/100\n",
            "11148/11148 [==============================] - 0s 40us/step - loss: 0.4301 - acc: 0.7969\n",
            "Epoch 72/100\n",
            "11148/11148 [==============================] - 0s 40us/step - loss: 0.4303 - acc: 0.7953\n",
            "Epoch 73/100\n",
            "11148/11148 [==============================] - 0s 40us/step - loss: 0.4302 - acc: 0.7954\n",
            "Epoch 74/100\n",
            "11148/11148 [==============================] - 0s 39us/step - loss: 0.4302 - acc: 0.7937\n",
            "Epoch 75/100\n",
            "11148/11148 [==============================] - 0s 39us/step - loss: 0.4306 - acc: 0.7967\n",
            "Epoch 76/100\n",
            "11148/11148 [==============================] - 0s 40us/step - loss: 0.4299 - acc: 0.7954\n",
            "Epoch 77/100\n",
            "11148/11148 [==============================] - 0s 39us/step - loss: 0.4301 - acc: 0.7950\n",
            "Epoch 78/100\n",
            "11148/11148 [==============================] - 0s 40us/step - loss: 0.4299 - acc: 0.7940\n",
            "Epoch 79/100\n",
            "11148/11148 [==============================] - 0s 41us/step - loss: 0.4297 - acc: 0.7978\n",
            "Epoch 80/100\n",
            "11148/11148 [==============================] - 0s 40us/step - loss: 0.4295 - acc: 0.7961\n",
            "Epoch 81/100\n",
            "11148/11148 [==============================] - 0s 39us/step - loss: 0.4295 - acc: 0.7973\n",
            "Epoch 82/100\n",
            "11148/11148 [==============================] - 0s 40us/step - loss: 0.4295 - acc: 0.7957\n",
            "Epoch 83/100\n",
            "11148/11148 [==============================] - 0s 39us/step - loss: 0.4298 - acc: 0.7958\n",
            "Epoch 84/100\n",
            "11148/11148 [==============================] - 0s 39us/step - loss: 0.4293 - acc: 0.7985\n",
            "Epoch 85/100\n",
            "11148/11148 [==============================] - 0s 39us/step - loss: 0.4294 - acc: 0.7960\n",
            "Epoch 86/100\n",
            "11148/11148 [==============================] - 0s 39us/step - loss: 0.4291 - acc: 0.7959\n",
            "Epoch 87/100\n",
            "11148/11148 [==============================] - 0s 39us/step - loss: 0.4291 - acc: 0.7972\n",
            "Epoch 88/100\n",
            "11148/11148 [==============================] - 0s 39us/step - loss: 0.4293 - acc: 0.7962\n",
            "Epoch 89/100\n",
            "11148/11148 [==============================] - 0s 39us/step - loss: 0.4289 - acc: 0.7952\n",
            "Epoch 90/100\n",
            "11148/11148 [==============================] - 0s 39us/step - loss: 0.4289 - acc: 0.7980\n",
            "Epoch 91/100\n",
            "11148/11148 [==============================] - 0s 40us/step - loss: 0.4287 - acc: 0.7988\n",
            "Epoch 92/100\n",
            "11148/11148 [==============================] - 0s 40us/step - loss: 0.4282 - acc: 0.7977\n",
            "Epoch 93/100\n",
            "11148/11148 [==============================] - 0s 39us/step - loss: 0.4283 - acc: 0.7986\n",
            "Epoch 94/100\n",
            "11148/11148 [==============================] - 0s 40us/step - loss: 0.4281 - acc: 0.7986\n",
            "Epoch 95/100\n",
            "11148/11148 [==============================] - 0s 39us/step - loss: 0.4279 - acc: 0.7973\n",
            "Epoch 96/100\n",
            "11148/11148 [==============================] - 0s 39us/step - loss: 0.4284 - acc: 0.7965\n",
            "Epoch 97/100\n",
            "11148/11148 [==============================] - 0s 39us/step - loss: 0.4283 - acc: 0.7971\n",
            "Epoch 98/100\n",
            "11148/11148 [==============================] - 0s 39us/step - loss: 0.4283 - acc: 0.7978\n",
            "Epoch 99/100\n",
            "11148/11148 [==============================] - 0s 39us/step - loss: 0.4280 - acc: 0.7990\n",
            "Epoch 100/100\n",
            "11148/11148 [==============================] - 0s 39us/step - loss: 0.4278 - acc: 0.7982\n"
          ],
          "name": "stdout"
        },
        {
          "output_type": "execute_result",
          "data": {
            "text/plain": [
              "<tensorflow.python.keras.callbacks.History at 0x7f916f64fa20>"
            ]
          },
          "metadata": {
            "tags": []
          },
          "execution_count": 157
        }
      ]
    },
    {
      "metadata": {
        "id": "4CwCi2hyNlsi",
        "colab_type": "code",
        "colab": {
          "base_uri": "https://localhost:8080/",
          "height": 68
        },
        "outputId": "9fa03f9b-260f-4e1e-9931-a1b8ef1d19f5"
      },
      "cell_type": "code",
      "source": [
        "y_pred = model.predict(X_test)\n",
        "y_pred[:3]"
      ],
      "execution_count": 158,
      "outputs": [
        {
          "output_type": "execute_result",
          "data": {
            "text/plain": [
              "array([[0.7844013 ],\n",
              "       [0.99626017],\n",
              "       [0.31666204]], dtype=float32)"
            ]
          },
          "metadata": {
            "tags": []
          },
          "execution_count": 158
        }
      ]
    },
    {
      "metadata": {
        "id": "fDuTe9JkRLgn",
        "colab_type": "code",
        "colab": {
          "base_uri": "https://localhost:8080/",
          "height": 340
        },
        "outputId": "303e7bfd-4209-4ae8-90fd-38ce35fc676c"
      },
      "cell_type": "code",
      "source": [
        "f_ypred = np.array([1 if i > .5 else 0 for i in y_pred])\n",
        "print(f'predicted binary\\'s first three values are {f_ypred[:3]} \\n')\n",
        "c = confusion_matrix(y_test, f_ypred)\n",
        "print(f'confusion matrix is\\n\\n {c} \\n\\n')\n",
        "print(f'Precision score is :- {precision_score(y_test, f_ypred)}')\n",
        "print(f'Recall score is :- {recall_score(y_test, f_ypred)}')\n",
        "\n",
        "print(f'Classification report is \\n\\n{classification_report(y_test, f_ypred)}')"
      ],
      "execution_count": 159,
      "outputs": [
        {
          "output_type": "stream",
          "text": [
            "predicted binary's first three values are [1 1 0] \n",
            "\n",
            "confusion matrix is\n",
            "\n",
            " [[1928  436]\n",
            " [ 580 1834]] \n",
            "\n",
            "\n",
            "Precision score is :- 0.8079295154185022\n",
            "Recall score is :- 0.7597348798674399\n",
            "Classification report is \n",
            "\n",
            "             precision    recall  f1-score   support\n",
            "\n",
            "          0       0.77      0.82      0.79      2364\n",
            "          1       0.81      0.76      0.78      2414\n",
            "\n",
            "avg / total       0.79      0.79      0.79      4778\n",
            "\n"
          ],
          "name": "stdout"
        }
      ]
    },
    {
      "metadata": {
        "colab_type": "code",
        "id": "T8U40c7FS-S9",
        "colab": {}
      },
      "cell_type": "code",
      "source": [
        "y_predtrain = model.predict(X_train)"
      ],
      "execution_count": 0,
      "outputs": []
    },
    {
      "metadata": {
        "id": "giLrTLeRQUB_",
        "colab_type": "code",
        "colab": {
          "base_uri": "https://localhost:8080/",
          "height": 340
        },
        "outputId": "46b47364-4d61-4352-b5d7-c7036b5e03a5"
      },
      "cell_type": "code",
      "source": [
        "f_ypred = np.array([1 if i > .5 else 0 for i in y_predtrain])\n",
        "print(f'predicted binary\\'s first three values are {f_ypred[:3]} \\n')\n",
        "c = confusion_matrix(y_train, f_ypred)\n",
        "print(f'confusion matrix is\\n\\n {c} \\n\\n')\n",
        "print(f'Precision score is :- {precision_score(y_train, f_ypred)}')\n",
        "print(f'Recall score is :- {recall_score(y_train, f_ypred)}')\n",
        "\n",
        "print(f'Classification report is \\n\\n{classification_report(y_train, f_ypred)}')"
      ],
      "execution_count": 162,
      "outputs": [
        {
          "output_type": "stream",
          "text": [
            "predicted binary's first three values are [1 0 1] \n",
            "\n",
            "confusion matrix is\n",
            "\n",
            " [[4588 1011]\n",
            " [1231 4318]] \n",
            "\n",
            "\n",
            "Precision score is :- 0.8102833552261213\n",
            "Recall score is :- 0.7781582267075149\n",
            "Classification report is \n",
            "\n",
            "             precision    recall  f1-score   support\n",
            "\n",
            "          0       0.79      0.82      0.80      5599\n",
            "          1       0.81      0.78      0.79      5549\n",
            "\n",
            "avg / total       0.80      0.80      0.80     11148\n",
            "\n"
          ],
          "name": "stdout"
        }
      ]
    },
    {
      "metadata": {
        "id": "wEZldebUQerA",
        "colab_type": "code",
        "colab": {}
      },
      "cell_type": "code",
      "source": [
        ""
      ],
      "execution_count": 0,
      "outputs": []
    }
  ]
}