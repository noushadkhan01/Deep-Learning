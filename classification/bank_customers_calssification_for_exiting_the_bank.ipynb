{
  "nbformat": 4,
  "nbformat_minor": 0,
  "metadata": {
    "colab": {
      "name": "bank customers calssification for exiting the bank.ipynb",
      "version": "0.3.2",
      "provenance": [],
      "include_colab_link": true
    },
    "kernelspec": {
      "name": "python3",
      "display_name": "Python 3"
    },
    "accelerator": "TPU"
  },
  "cells": [
    {
      "cell_type": "markdown",
      "metadata": {
        "id": "view-in-github",
        "colab_type": "text"
      },
      "source": [
        "<a href=\"https://colab.research.google.com/github/noushadkhan01/tensorflow/blob/master/classification/bank_customers_calssification_for_exiting_the_bank.ipynb\" target=\"_parent\"><img src=\"https://colab.research.google.com/assets/colab-badge.svg\" alt=\"Open In Colab\"/></a>"
      ]
    },
    {
      "metadata": {
        "id": "S99Srbfbfibd",
        "colab_type": "code",
        "colab": {}
      },
      "cell_type": "code",
      "source": [
        "import pandas as pd\n",
        "import numpy as np\n",
        "import seaborn as sns\n",
        "import matplotlib.pyplot as plt\n",
        "%matplotlib inline"
      ],
      "execution_count": 0,
      "outputs": []
    },
    {
      "metadata": {
        "id": "79frOvwXfs_5",
        "colab_type": "text"
      },
      "cell_type": "markdown",
      "source": [
        "from google.colab import files\n",
        "files.upload()"
      ]
    },
    {
      "metadata": {
        "id": "oQv0_MRnfxdw",
        "colab_type": "code",
        "colab": {
          "base_uri": "https://localhost:8080/",
          "height": 204
        },
        "outputId": "6ff32e3b-d90d-4b1b-c29d-f387561762bc"
      },
      "cell_type": "code",
      "source": [
        "df = pd.read_csv('Churn_Modelling.csv')\n",
        "df.head()"
      ],
      "execution_count": 69,
      "outputs": [
        {
          "output_type": "execute_result",
          "data": {
            "text/html": [
              "<div>\n",
              "<style scoped>\n",
              "    .dataframe tbody tr th:only-of-type {\n",
              "        vertical-align: middle;\n",
              "    }\n",
              "\n",
              "    .dataframe tbody tr th {\n",
              "        vertical-align: top;\n",
              "    }\n",
              "\n",
              "    .dataframe thead th {\n",
              "        text-align: right;\n",
              "    }\n",
              "</style>\n",
              "<table border=\"1\" class=\"dataframe\">\n",
              "  <thead>\n",
              "    <tr style=\"text-align: right;\">\n",
              "      <th></th>\n",
              "      <th>RowNumber</th>\n",
              "      <th>CustomerId</th>\n",
              "      <th>Surname</th>\n",
              "      <th>CreditScore</th>\n",
              "      <th>Geography</th>\n",
              "      <th>Gender</th>\n",
              "      <th>Age</th>\n",
              "      <th>Tenure</th>\n",
              "      <th>Balance</th>\n",
              "      <th>NumOfProducts</th>\n",
              "      <th>HasCrCard</th>\n",
              "      <th>IsActiveMember</th>\n",
              "      <th>EstimatedSalary</th>\n",
              "      <th>Exited</th>\n",
              "    </tr>\n",
              "  </thead>\n",
              "  <tbody>\n",
              "    <tr>\n",
              "      <th>0</th>\n",
              "      <td>1</td>\n",
              "      <td>15634602</td>\n",
              "      <td>Hargrave</td>\n",
              "      <td>619</td>\n",
              "      <td>France</td>\n",
              "      <td>Female</td>\n",
              "      <td>42</td>\n",
              "      <td>2</td>\n",
              "      <td>0.00</td>\n",
              "      <td>1</td>\n",
              "      <td>1</td>\n",
              "      <td>1</td>\n",
              "      <td>101348.88</td>\n",
              "      <td>1</td>\n",
              "    </tr>\n",
              "    <tr>\n",
              "      <th>1</th>\n",
              "      <td>2</td>\n",
              "      <td>15647311</td>\n",
              "      <td>Hill</td>\n",
              "      <td>608</td>\n",
              "      <td>Spain</td>\n",
              "      <td>Female</td>\n",
              "      <td>41</td>\n",
              "      <td>1</td>\n",
              "      <td>83807.86</td>\n",
              "      <td>1</td>\n",
              "      <td>0</td>\n",
              "      <td>1</td>\n",
              "      <td>112542.58</td>\n",
              "      <td>0</td>\n",
              "    </tr>\n",
              "    <tr>\n",
              "      <th>2</th>\n",
              "      <td>3</td>\n",
              "      <td>15619304</td>\n",
              "      <td>Onio</td>\n",
              "      <td>502</td>\n",
              "      <td>France</td>\n",
              "      <td>Female</td>\n",
              "      <td>42</td>\n",
              "      <td>8</td>\n",
              "      <td>159660.80</td>\n",
              "      <td>3</td>\n",
              "      <td>1</td>\n",
              "      <td>0</td>\n",
              "      <td>113931.57</td>\n",
              "      <td>1</td>\n",
              "    </tr>\n",
              "    <tr>\n",
              "      <th>3</th>\n",
              "      <td>4</td>\n",
              "      <td>15701354</td>\n",
              "      <td>Boni</td>\n",
              "      <td>699</td>\n",
              "      <td>France</td>\n",
              "      <td>Female</td>\n",
              "      <td>39</td>\n",
              "      <td>1</td>\n",
              "      <td>0.00</td>\n",
              "      <td>2</td>\n",
              "      <td>0</td>\n",
              "      <td>0</td>\n",
              "      <td>93826.63</td>\n",
              "      <td>0</td>\n",
              "    </tr>\n",
              "    <tr>\n",
              "      <th>4</th>\n",
              "      <td>5</td>\n",
              "      <td>15737888</td>\n",
              "      <td>Mitchell</td>\n",
              "      <td>850</td>\n",
              "      <td>Spain</td>\n",
              "      <td>Female</td>\n",
              "      <td>43</td>\n",
              "      <td>2</td>\n",
              "      <td>125510.82</td>\n",
              "      <td>1</td>\n",
              "      <td>1</td>\n",
              "      <td>1</td>\n",
              "      <td>79084.10</td>\n",
              "      <td>0</td>\n",
              "    </tr>\n",
              "  </tbody>\n",
              "</table>\n",
              "</div>"
            ],
            "text/plain": [
              "   RowNumber  CustomerId   Surname  CreditScore Geography  Gender  Age  \\\n",
              "0          1    15634602  Hargrave          619    France  Female   42   \n",
              "1          2    15647311      Hill          608     Spain  Female   41   \n",
              "2          3    15619304      Onio          502    France  Female   42   \n",
              "3          4    15701354      Boni          699    France  Female   39   \n",
              "4          5    15737888  Mitchell          850     Spain  Female   43   \n",
              "\n",
              "   Tenure    Balance  NumOfProducts  HasCrCard  IsActiveMember  \\\n",
              "0       2       0.00              1          1               1   \n",
              "1       1   83807.86              1          0               1   \n",
              "2       8  159660.80              3          1               0   \n",
              "3       1       0.00              2          0               0   \n",
              "4       2  125510.82              1          1               1   \n",
              "\n",
              "   EstimatedSalary  Exited  \n",
              "0        101348.88       1  \n",
              "1        112542.58       0  \n",
              "2        113931.57       1  \n",
              "3         93826.63       0  \n",
              "4         79084.10       0  "
            ]
          },
          "metadata": {
            "tags": []
          },
          "execution_count": 69
        }
      ]
    },
    {
      "metadata": {
        "id": "zDubxtvaf7vQ",
        "colab_type": "code",
        "colab": {
          "base_uri": "https://localhost:8080/",
          "height": 34
        },
        "outputId": "69791711-3bf3-4a0f-94d6-e3d30608223f"
      },
      "cell_type": "code",
      "source": [
        "df.shape"
      ],
      "execution_count": 70,
      "outputs": [
        {
          "output_type": "execute_result",
          "data": {
            "text/plain": [
              "(10000, 14)"
            ]
          },
          "metadata": {
            "tags": []
          },
          "execution_count": 70
        }
      ]
    },
    {
      "metadata": {
        "id": "dyotbPV0f-i4",
        "colab_type": "code",
        "colab": {
          "base_uri": "https://localhost:8080/",
          "height": 340
        },
        "outputId": "f0c80bfe-fab1-4be4-c5d2-26a61c9922cc"
      },
      "cell_type": "code",
      "source": [
        "df.info()"
      ],
      "execution_count": 71,
      "outputs": [
        {
          "output_type": "stream",
          "text": [
            "<class 'pandas.core.frame.DataFrame'>\n",
            "RangeIndex: 10000 entries, 0 to 9999\n",
            "Data columns (total 14 columns):\n",
            "RowNumber          10000 non-null int64\n",
            "CustomerId         10000 non-null int64\n",
            "Surname            10000 non-null object\n",
            "CreditScore        10000 non-null int64\n",
            "Geography          10000 non-null object\n",
            "Gender             10000 non-null object\n",
            "Age                10000 non-null int64\n",
            "Tenure             10000 non-null int64\n",
            "Balance            10000 non-null float64\n",
            "NumOfProducts      10000 non-null int64\n",
            "HasCrCard          10000 non-null int64\n",
            "IsActiveMember     10000 non-null int64\n",
            "EstimatedSalary    10000 non-null float64\n",
            "Exited             10000 non-null int64\n",
            "dtypes: float64(2), int64(9), object(3)\n",
            "memory usage: 1.1+ MB\n"
          ],
          "name": "stdout"
        }
      ]
    },
    {
      "metadata": {
        "id": "HQo3UiHlf_h8",
        "colab_type": "code",
        "colab": {
          "base_uri": "https://localhost:8080/",
          "height": 317
        },
        "outputId": "8a2d2ba0-12d9-4c7f-d1b8-c7ce201647cc"
      },
      "cell_type": "code",
      "source": [
        "df.describe()"
      ],
      "execution_count": 72,
      "outputs": [
        {
          "output_type": "execute_result",
          "data": {
            "text/html": [
              "<div>\n",
              "<style scoped>\n",
              "    .dataframe tbody tr th:only-of-type {\n",
              "        vertical-align: middle;\n",
              "    }\n",
              "\n",
              "    .dataframe tbody tr th {\n",
              "        vertical-align: top;\n",
              "    }\n",
              "\n",
              "    .dataframe thead th {\n",
              "        text-align: right;\n",
              "    }\n",
              "</style>\n",
              "<table border=\"1\" class=\"dataframe\">\n",
              "  <thead>\n",
              "    <tr style=\"text-align: right;\">\n",
              "      <th></th>\n",
              "      <th>RowNumber</th>\n",
              "      <th>CustomerId</th>\n",
              "      <th>CreditScore</th>\n",
              "      <th>Age</th>\n",
              "      <th>Tenure</th>\n",
              "      <th>Balance</th>\n",
              "      <th>NumOfProducts</th>\n",
              "      <th>HasCrCard</th>\n",
              "      <th>IsActiveMember</th>\n",
              "      <th>EstimatedSalary</th>\n",
              "      <th>Exited</th>\n",
              "    </tr>\n",
              "  </thead>\n",
              "  <tbody>\n",
              "    <tr>\n",
              "      <th>count</th>\n",
              "      <td>10000.00000</td>\n",
              "      <td>1.000000e+04</td>\n",
              "      <td>10000.000000</td>\n",
              "      <td>10000.000000</td>\n",
              "      <td>10000.000000</td>\n",
              "      <td>10000.000000</td>\n",
              "      <td>10000.000000</td>\n",
              "      <td>10000.00000</td>\n",
              "      <td>10000.000000</td>\n",
              "      <td>10000.000000</td>\n",
              "      <td>10000.000000</td>\n",
              "    </tr>\n",
              "    <tr>\n",
              "      <th>mean</th>\n",
              "      <td>5000.50000</td>\n",
              "      <td>1.569094e+07</td>\n",
              "      <td>650.528800</td>\n",
              "      <td>38.921800</td>\n",
              "      <td>5.012800</td>\n",
              "      <td>76485.889288</td>\n",
              "      <td>1.530200</td>\n",
              "      <td>0.70550</td>\n",
              "      <td>0.515100</td>\n",
              "      <td>100090.239881</td>\n",
              "      <td>0.203700</td>\n",
              "    </tr>\n",
              "    <tr>\n",
              "      <th>std</th>\n",
              "      <td>2886.89568</td>\n",
              "      <td>7.193619e+04</td>\n",
              "      <td>96.653299</td>\n",
              "      <td>10.487806</td>\n",
              "      <td>2.892174</td>\n",
              "      <td>62397.405202</td>\n",
              "      <td>0.581654</td>\n",
              "      <td>0.45584</td>\n",
              "      <td>0.499797</td>\n",
              "      <td>57510.492818</td>\n",
              "      <td>0.402769</td>\n",
              "    </tr>\n",
              "    <tr>\n",
              "      <th>min</th>\n",
              "      <td>1.00000</td>\n",
              "      <td>1.556570e+07</td>\n",
              "      <td>350.000000</td>\n",
              "      <td>18.000000</td>\n",
              "      <td>0.000000</td>\n",
              "      <td>0.000000</td>\n",
              "      <td>1.000000</td>\n",
              "      <td>0.00000</td>\n",
              "      <td>0.000000</td>\n",
              "      <td>11.580000</td>\n",
              "      <td>0.000000</td>\n",
              "    </tr>\n",
              "    <tr>\n",
              "      <th>25%</th>\n",
              "      <td>2500.75000</td>\n",
              "      <td>1.562853e+07</td>\n",
              "      <td>584.000000</td>\n",
              "      <td>32.000000</td>\n",
              "      <td>3.000000</td>\n",
              "      <td>0.000000</td>\n",
              "      <td>1.000000</td>\n",
              "      <td>0.00000</td>\n",
              "      <td>0.000000</td>\n",
              "      <td>51002.110000</td>\n",
              "      <td>0.000000</td>\n",
              "    </tr>\n",
              "    <tr>\n",
              "      <th>50%</th>\n",
              "      <td>5000.50000</td>\n",
              "      <td>1.569074e+07</td>\n",
              "      <td>652.000000</td>\n",
              "      <td>37.000000</td>\n",
              "      <td>5.000000</td>\n",
              "      <td>97198.540000</td>\n",
              "      <td>1.000000</td>\n",
              "      <td>1.00000</td>\n",
              "      <td>1.000000</td>\n",
              "      <td>100193.915000</td>\n",
              "      <td>0.000000</td>\n",
              "    </tr>\n",
              "    <tr>\n",
              "      <th>75%</th>\n",
              "      <td>7500.25000</td>\n",
              "      <td>1.575323e+07</td>\n",
              "      <td>718.000000</td>\n",
              "      <td>44.000000</td>\n",
              "      <td>7.000000</td>\n",
              "      <td>127644.240000</td>\n",
              "      <td>2.000000</td>\n",
              "      <td>1.00000</td>\n",
              "      <td>1.000000</td>\n",
              "      <td>149388.247500</td>\n",
              "      <td>0.000000</td>\n",
              "    </tr>\n",
              "    <tr>\n",
              "      <th>max</th>\n",
              "      <td>10000.00000</td>\n",
              "      <td>1.581569e+07</td>\n",
              "      <td>850.000000</td>\n",
              "      <td>92.000000</td>\n",
              "      <td>10.000000</td>\n",
              "      <td>250898.090000</td>\n",
              "      <td>4.000000</td>\n",
              "      <td>1.00000</td>\n",
              "      <td>1.000000</td>\n",
              "      <td>199992.480000</td>\n",
              "      <td>1.000000</td>\n",
              "    </tr>\n",
              "  </tbody>\n",
              "</table>\n",
              "</div>"
            ],
            "text/plain": [
              "         RowNumber    CustomerId   CreditScore           Age        Tenure  \\\n",
              "count  10000.00000  1.000000e+04  10000.000000  10000.000000  10000.000000   \n",
              "mean    5000.50000  1.569094e+07    650.528800     38.921800      5.012800   \n",
              "std     2886.89568  7.193619e+04     96.653299     10.487806      2.892174   \n",
              "min        1.00000  1.556570e+07    350.000000     18.000000      0.000000   \n",
              "25%     2500.75000  1.562853e+07    584.000000     32.000000      3.000000   \n",
              "50%     5000.50000  1.569074e+07    652.000000     37.000000      5.000000   \n",
              "75%     7500.25000  1.575323e+07    718.000000     44.000000      7.000000   \n",
              "max    10000.00000  1.581569e+07    850.000000     92.000000     10.000000   \n",
              "\n",
              "             Balance  NumOfProducts    HasCrCard  IsActiveMember  \\\n",
              "count   10000.000000   10000.000000  10000.00000    10000.000000   \n",
              "mean    76485.889288       1.530200      0.70550        0.515100   \n",
              "std     62397.405202       0.581654      0.45584        0.499797   \n",
              "min         0.000000       1.000000      0.00000        0.000000   \n",
              "25%         0.000000       1.000000      0.00000        0.000000   \n",
              "50%     97198.540000       1.000000      1.00000        1.000000   \n",
              "75%    127644.240000       2.000000      1.00000        1.000000   \n",
              "max    250898.090000       4.000000      1.00000        1.000000   \n",
              "\n",
              "       EstimatedSalary        Exited  \n",
              "count     10000.000000  10000.000000  \n",
              "mean     100090.239881      0.203700  \n",
              "std       57510.492818      0.402769  \n",
              "min          11.580000      0.000000  \n",
              "25%       51002.110000      0.000000  \n",
              "50%      100193.915000      0.000000  \n",
              "75%      149388.247500      0.000000  \n",
              "max      199992.480000      1.000000  "
            ]
          },
          "metadata": {
            "tags": []
          },
          "execution_count": 72
        }
      ]
    },
    {
      "metadata": {
        "id": "nE0p3BFggAto",
        "colab_type": "text"
      },
      "cell_type": "markdown",
      "source": [
        "## check for null values"
      ]
    },
    {
      "metadata": {
        "id": "jNEcDk-_gDs-",
        "colab_type": "code",
        "colab": {
          "base_uri": "https://localhost:8080/",
          "height": 68
        },
        "outputId": "c7a48212-9c82-4b31-dc03-1f2cb140b194"
      },
      "cell_type": "code",
      "source": [
        "df.isnull().sum().sort_values(ascending = False)[:2]"
      ],
      "execution_count": 73,
      "outputs": [
        {
          "output_type": "execute_result",
          "data": {
            "text/plain": [
              "Exited             0\n",
              "EstimatedSalary    0\n",
              "dtype: int64"
            ]
          },
          "metadata": {
            "tags": []
          },
          "execution_count": 73
        }
      ]
    },
    {
      "metadata": {
        "id": "pCkbns8fgH_F",
        "colab_type": "text"
      },
      "cell_type": "markdown",
      "source": [
        "**^^as u can see there is no null value**"
      ]
    },
    {
      "metadata": {
        "id": "uv6nWlkWgUB0",
        "colab_type": "code",
        "colab": {
          "base_uri": "https://localhost:8080/",
          "height": 221
        },
        "outputId": "29e5671d-e020-431c-f6f2-0f7bdad652d3"
      },
      "cell_type": "code",
      "source": [
        "df.skew()"
      ],
      "execution_count": 74,
      "outputs": [
        {
          "output_type": "execute_result",
          "data": {
            "text/plain": [
              "RowNumber          0.000000\n",
              "CustomerId         0.001149\n",
              "CreditScore       -0.071607\n",
              "Age                1.011320\n",
              "Tenure             0.010991\n",
              "Balance           -0.141109\n",
              "NumOfProducts      0.745568\n",
              "HasCrCard         -0.901812\n",
              "IsActiveMember    -0.060437\n",
              "EstimatedSalary    0.002085\n",
              "Exited             1.471611\n",
              "dtype: float64"
            ]
          },
          "metadata": {
            "tags": []
          },
          "execution_count": 74
        }
      ]
    },
    {
      "metadata": {
        "id": "q7OojanNgllv",
        "colab_type": "code",
        "colab": {
          "base_uri": "https://localhost:8080/",
          "height": 34
        },
        "outputId": "814b05ca-650f-43ef-f45a-7fb9e9271329"
      },
      "cell_type": "code",
      "source": [
        "np.log1p(df.Age).skew()"
      ],
      "execution_count": 75,
      "outputs": [
        {
          "output_type": "execute_result",
          "data": {
            "text/plain": [
              "0.20336041516983316"
            ]
          },
          "metadata": {
            "tags": []
          },
          "execution_count": 75
        }
      ]
    },
    {
      "metadata": {
        "id": "u7d9RSYyiOKm",
        "colab_type": "text"
      },
      "cell_type": "markdown",
      "source": [
        "## import important dependencies"
      ]
    },
    {
      "metadata": {
        "id": "kHURLRKli0yL",
        "colab_type": "code",
        "colab": {}
      },
      "cell_type": "code",
      "source": [
        "import tensorflow as tf\n",
        "from tensorflow import keras"
      ],
      "execution_count": 0,
      "outputs": []
    },
    {
      "metadata": {
        "id": "h3LD0pKijiDY",
        "colab_type": "code",
        "colab": {
          "base_uri": "https://localhost:8080/",
          "height": 80
        },
        "outputId": "5605dfdc-3063-4a3e-e31f-4bbc25fcd382"
      },
      "cell_type": "code",
      "source": [
        "df.head(1)"
      ],
      "execution_count": 77,
      "outputs": [
        {
          "output_type": "execute_result",
          "data": {
            "text/html": [
              "<div>\n",
              "<style scoped>\n",
              "    .dataframe tbody tr th:only-of-type {\n",
              "        vertical-align: middle;\n",
              "    }\n",
              "\n",
              "    .dataframe tbody tr th {\n",
              "        vertical-align: top;\n",
              "    }\n",
              "\n",
              "    .dataframe thead th {\n",
              "        text-align: right;\n",
              "    }\n",
              "</style>\n",
              "<table border=\"1\" class=\"dataframe\">\n",
              "  <thead>\n",
              "    <tr style=\"text-align: right;\">\n",
              "      <th></th>\n",
              "      <th>RowNumber</th>\n",
              "      <th>CustomerId</th>\n",
              "      <th>Surname</th>\n",
              "      <th>CreditScore</th>\n",
              "      <th>Geography</th>\n",
              "      <th>Gender</th>\n",
              "      <th>Age</th>\n",
              "      <th>Tenure</th>\n",
              "      <th>Balance</th>\n",
              "      <th>NumOfProducts</th>\n",
              "      <th>HasCrCard</th>\n",
              "      <th>IsActiveMember</th>\n",
              "      <th>EstimatedSalary</th>\n",
              "      <th>Exited</th>\n",
              "    </tr>\n",
              "  </thead>\n",
              "  <tbody>\n",
              "    <tr>\n",
              "      <th>0</th>\n",
              "      <td>1</td>\n",
              "      <td>15634602</td>\n",
              "      <td>Hargrave</td>\n",
              "      <td>619</td>\n",
              "      <td>France</td>\n",
              "      <td>Female</td>\n",
              "      <td>42</td>\n",
              "      <td>2</td>\n",
              "      <td>0.0</td>\n",
              "      <td>1</td>\n",
              "      <td>1</td>\n",
              "      <td>1</td>\n",
              "      <td>101348.88</td>\n",
              "      <td>1</td>\n",
              "    </tr>\n",
              "  </tbody>\n",
              "</table>\n",
              "</div>"
            ],
            "text/plain": [
              "   RowNumber  CustomerId   Surname  CreditScore Geography  Gender  Age  \\\n",
              "0          1    15634602  Hargrave          619    France  Female   42   \n",
              "\n",
              "   Tenure  Balance  NumOfProducts  HasCrCard  IsActiveMember  EstimatedSalary  \\\n",
              "0       2      0.0              1          1               1        101348.88   \n",
              "\n",
              "   Exited  \n",
              "0       1  "
            ]
          },
          "metadata": {
            "tags": []
          },
          "execution_count": 77
        }
      ]
    },
    {
      "metadata": {
        "id": "bqgrcYKKj2de",
        "colab_type": "code",
        "colab": {
          "base_uri": "https://localhost:8080/",
          "height": 80
        },
        "outputId": "13a69fc8-4069-4feb-d24a-20e0e957f2a4"
      },
      "cell_type": "code",
      "source": [
        "df = df.iloc[:, 3:]\n",
        "df.head(1)"
      ],
      "execution_count": 78,
      "outputs": [
        {
          "output_type": "execute_result",
          "data": {
            "text/html": [
              "<div>\n",
              "<style scoped>\n",
              "    .dataframe tbody tr th:only-of-type {\n",
              "        vertical-align: middle;\n",
              "    }\n",
              "\n",
              "    .dataframe tbody tr th {\n",
              "        vertical-align: top;\n",
              "    }\n",
              "\n",
              "    .dataframe thead th {\n",
              "        text-align: right;\n",
              "    }\n",
              "</style>\n",
              "<table border=\"1\" class=\"dataframe\">\n",
              "  <thead>\n",
              "    <tr style=\"text-align: right;\">\n",
              "      <th></th>\n",
              "      <th>CreditScore</th>\n",
              "      <th>Geography</th>\n",
              "      <th>Gender</th>\n",
              "      <th>Age</th>\n",
              "      <th>Tenure</th>\n",
              "      <th>Balance</th>\n",
              "      <th>NumOfProducts</th>\n",
              "      <th>HasCrCard</th>\n",
              "      <th>IsActiveMember</th>\n",
              "      <th>EstimatedSalary</th>\n",
              "      <th>Exited</th>\n",
              "    </tr>\n",
              "  </thead>\n",
              "  <tbody>\n",
              "    <tr>\n",
              "      <th>0</th>\n",
              "      <td>619</td>\n",
              "      <td>France</td>\n",
              "      <td>Female</td>\n",
              "      <td>42</td>\n",
              "      <td>2</td>\n",
              "      <td>0.0</td>\n",
              "      <td>1</td>\n",
              "      <td>1</td>\n",
              "      <td>1</td>\n",
              "      <td>101348.88</td>\n",
              "      <td>1</td>\n",
              "    </tr>\n",
              "  </tbody>\n",
              "</table>\n",
              "</div>"
            ],
            "text/plain": [
              "   CreditScore Geography  Gender  Age  Tenure  Balance  NumOfProducts  \\\n",
              "0          619    France  Female   42       2      0.0              1   \n",
              "\n",
              "   HasCrCard  IsActiveMember  EstimatedSalary  Exited  \n",
              "0          1               1        101348.88       1  "
            ]
          },
          "metadata": {
            "tags": []
          },
          "execution_count": 78
        }
      ]
    },
    {
      "metadata": {
        "id": "I2DQlX3LkAjW",
        "colab_type": "code",
        "colab": {
          "base_uri": "https://localhost:8080/",
          "height": 80
        },
        "outputId": "38630a4c-72b2-431c-9b97-e40e01e87c09"
      },
      "cell_type": "code",
      "source": [
        "df = pd.get_dummies(df, drop_first = True)\n",
        "df.head(1)"
      ],
      "execution_count": 84,
      "outputs": [
        {
          "output_type": "execute_result",
          "data": {
            "text/html": [
              "<div>\n",
              "<style scoped>\n",
              "    .dataframe tbody tr th:only-of-type {\n",
              "        vertical-align: middle;\n",
              "    }\n",
              "\n",
              "    .dataframe tbody tr th {\n",
              "        vertical-align: top;\n",
              "    }\n",
              "\n",
              "    .dataframe thead th {\n",
              "        text-align: right;\n",
              "    }\n",
              "</style>\n",
              "<table border=\"1\" class=\"dataframe\">\n",
              "  <thead>\n",
              "    <tr style=\"text-align: right;\">\n",
              "      <th></th>\n",
              "      <th>CreditScore</th>\n",
              "      <th>Age</th>\n",
              "      <th>Tenure</th>\n",
              "      <th>Balance</th>\n",
              "      <th>NumOfProducts</th>\n",
              "      <th>HasCrCard</th>\n",
              "      <th>IsActiveMember</th>\n",
              "      <th>EstimatedSalary</th>\n",
              "      <th>Exited</th>\n",
              "      <th>Geography_Germany</th>\n",
              "      <th>Geography_Spain</th>\n",
              "      <th>Gender_Male</th>\n",
              "    </tr>\n",
              "  </thead>\n",
              "  <tbody>\n",
              "    <tr>\n",
              "      <th>0</th>\n",
              "      <td>619</td>\n",
              "      <td>42</td>\n",
              "      <td>2</td>\n",
              "      <td>0.0</td>\n",
              "      <td>1</td>\n",
              "      <td>1</td>\n",
              "      <td>1</td>\n",
              "      <td>101348.88</td>\n",
              "      <td>1</td>\n",
              "      <td>0</td>\n",
              "      <td>0</td>\n",
              "      <td>0</td>\n",
              "    </tr>\n",
              "  </tbody>\n",
              "</table>\n",
              "</div>"
            ],
            "text/plain": [
              "   CreditScore  Age  Tenure  Balance  NumOfProducts  HasCrCard  \\\n",
              "0          619   42       2      0.0              1          1   \n",
              "\n",
              "   IsActiveMember  EstimatedSalary  Exited  Geography_Germany  \\\n",
              "0               1        101348.88       1                  0   \n",
              "\n",
              "   Geography_Spain  Gender_Male  \n",
              "0                0            0  "
            ]
          },
          "metadata": {
            "tags": []
          },
          "execution_count": 84
        }
      ]
    },
    {
      "metadata": {
        "id": "yAMvq6oFkIge",
        "colab_type": "code",
        "colab": {
          "base_uri": "https://localhost:8080/",
          "height": 34
        },
        "outputId": "ef8b5f83-f0a8-4af1-d63e-77225a148e1d"
      },
      "cell_type": "code",
      "source": [
        "X = df.drop('Exited', 1)\n",
        "y = df.Exited\n",
        "X.shape, y.shape"
      ],
      "execution_count": 85,
      "outputs": [
        {
          "output_type": "execute_result",
          "data": {
            "text/plain": [
              "((10000, 11), (10000,))"
            ]
          },
          "metadata": {
            "tags": []
          },
          "execution_count": 85
        }
      ]
    },
    {
      "metadata": {
        "id": "3vllGMuVkSo2",
        "colab_type": "text"
      },
      "cell_type": "markdown",
      "source": [
        "## StandardScaler"
      ]
    },
    {
      "metadata": {
        "id": "TCWLZVx3kfZY",
        "colab_type": "text"
      },
      "cell_type": "markdown",
      "source": [
        "We need to scale out data before applying to neural network becuase of speed"
      ]
    },
    {
      "metadata": {
        "id": "rW0Ev8GCl0XC",
        "colab_type": "code",
        "colab": {}
      },
      "cell_type": "code",
      "source": [
        "from sklearn.model_selection import train_test_split"
      ],
      "execution_count": 0,
      "outputs": []
    },
    {
      "metadata": {
        "id": "7A5r1i7fl308",
        "colab_type": "code",
        "colab": {
          "base_uri": "https://localhost:8080/",
          "height": 34
        },
        "outputId": "0eacf701-3294-4c04-8c46-98272e4db032"
      },
      "cell_type": "code",
      "source": [
        "X_train, X_test, y_train, y_test =train_test_split(X, y, test_size = 0.3, random_state = 0)\n",
        "X_train.shape, X_test.shape, y_train.shape, y_test.shape"
      ],
      "execution_count": 87,
      "outputs": [
        {
          "output_type": "execute_result",
          "data": {
            "text/plain": [
              "((7000, 11), (3000, 11), (7000,), (3000,))"
            ]
          },
          "metadata": {
            "tags": []
          },
          "execution_count": 87
        }
      ]
    },
    {
      "metadata": {
        "id": "-5ZEcWv_knNX",
        "colab_type": "code",
        "colab": {}
      },
      "cell_type": "code",
      "source": [
        "from sklearn.preprocessing import StandardScaler"
      ],
      "execution_count": 0,
      "outputs": []
    },
    {
      "metadata": {
        "id": "MKdMfJJ6lXv6",
        "colab_type": "code",
        "colab": {
          "base_uri": "https://localhost:8080/",
          "height": 119
        },
        "outputId": "7e203e19-c2d5-457e-b4d0-e06a85e2e97d"
      },
      "cell_type": "code",
      "source": [
        "X_train = StandardScaler().fit_transform(X_train)\n",
        "X_test = StandardScaler().fit_transform(X_test)\n",
        "X_train[:1], X_test[:1]"
      ],
      "execution_count": 89,
      "outputs": [
        {
          "output_type": "execute_result",
          "data": {
            "text/plain": [
              "(array([[-0.09792126, -0.55759842, -1.03635146,  1.13249447,  0.81039385,\n",
              "          0.64198477,  0.96683535, -0.76862426, -0.56987189, -0.5731713 ,\n",
              "          0.92295821]]),\n",
              " array([[-0.56233235, -0.39245718,  1.00826365,  0.83794103, -0.87153075,\n",
              "          0.65569297,  0.97823676,  1.61444413,  1.66826321, -0.57529746,\n",
              "         -1.12586575]]))"
            ]
          },
          "metadata": {
            "tags": []
          },
          "execution_count": 89
        }
      ]
    },
    {
      "metadata": {
        "id": "anfg2SMklcv5",
        "colab_type": "code",
        "colab": {
          "base_uri": "https://localhost:8080/",
          "height": 34
        },
        "outputId": "8fc5fefe-34a5-40d6-be39-8d10b8938385"
      },
      "cell_type": "code",
      "source": [
        "y_train = y_train.values\n",
        "y_test = y_test.values\n",
        "y_train[:2], y_test[:2]"
      ],
      "execution_count": 119,
      "outputs": [
        {
          "output_type": "execute_result",
          "data": {
            "text/plain": [
              "(array([1, 0]), array([0, 1]))"
            ]
          },
          "metadata": {
            "tags": []
          },
          "execution_count": 119
        }
      ]
    },
    {
      "metadata": {
        "id": "7VghYEDmlm9G",
        "colab_type": "text"
      },
      "cell_type": "markdown",
      "source": [
        "# Make ANN"
      ]
    },
    {
      "metadata": {
        "id": "bP5A2Qxcmw9m",
        "colab_type": "code",
        "colab": {}
      },
      "cell_type": "code",
      "source": [
        "from tensorflow import keras"
      ],
      "execution_count": 0,
      "outputs": []
    },
    {
      "metadata": {
        "id": "MhsZ8esrm0Va",
        "colab_type": "text"
      },
      "cell_type": "markdown",
      "source": [
        "## import Sequential from keras\n",
        "**it is required to initialize our neural network model**"
      ]
    },
    {
      "metadata": {
        "id": "KQhGzWV9oza1",
        "colab_type": "text"
      },
      "cell_type": "markdown",
      "source": [
        "### Step 1:- create ann model by sequential"
      ]
    },
    {
      "metadata": {
        "id": "1UDYUiWInC4S",
        "colab_type": "code",
        "colab": {
          "base_uri": "https://localhost:8080/",
          "height": 34
        },
        "outputId": "3c363296-5e89-460b-d71e-894f988e069c"
      },
      "cell_type": "code",
      "source": [
        "#1 first initialize our keras model by Sequential\n",
        "model = keras.models.Sequential()\n",
        "model"
      ],
      "execution_count": 111,
      "outputs": [
        {
          "output_type": "execute_result",
          "data": {
            "text/plain": [
              "<tensorflow.python.keras.engine.sequential.Sequential at 0x7fe8e9037e80>"
            ]
          },
          "metadata": {
            "tags": []
          },
          "execution_count": 111
        }
      ]
    },
    {
      "metadata": {
        "id": "YTm7qlIMoyVA",
        "colab_type": "text"
      },
      "cell_type": "markdown",
      "source": [
        "### Step 2:- Add dense layer"
      ]
    },
    {
      "metadata": {
        "id": "QWMXKUoyrxnv",
        "colab_type": "text"
      },
      "cell_type": "markdown",
      "source": [
        "if a data is linenarly separable then their is no need to add hidden layer or don't even need a neural networks by convention"
      ]
    },
    {
      "metadata": {
        "id": "UI3bNueisCfC",
        "colab_type": "text"
      },
      "cell_type": "markdown",
      "source": [
        "**Tip:-- ** no. of nodes in hidden layers is the average of no. of nodes in input layers and no. of node in output layer"
      ]
    },
    {
      "metadata": {
        "id": "n7_6nHTpsmmM",
        "colab_type": "code",
        "colab": {
          "base_uri": "https://localhost:8080/",
          "height": 34
        },
        "outputId": "3157418a-5dab-4eb1-84b7-9949e47a41ca"
      },
      "cell_type": "code",
      "source": [
        "ninput = 11 #no of independent variables\n",
        "noutput = 1 #output is either 1 or either 0 so no of hidden layers in output is 1\n",
        "nhidden = (ninput + noutput) / 2\n",
        "nhidden"
      ],
      "execution_count": 110,
      "outputs": [
        {
          "output_type": "execute_result",
          "data": {
            "text/plain": [
              "6.0"
            ]
          },
          "metadata": {
            "tags": []
          },
          "execution_count": 110
        }
      ]
    },
    {
      "metadata": {
        "id": "-X7gEIosogyu",
        "colab_type": "code",
        "colab": {}
      },
      "cell_type": "code",
      "source": [
        "model.add(keras.layers.Dense(units = 6, activation = tf.nn.relu, input_dim = 11))"
      ],
      "execution_count": 0,
      "outputs": []
    },
    {
      "metadata": {
        "id": "nKeq0BavvReV",
        "colab_type": "code",
        "colab": {
          "base_uri": "https://localhost:8080/",
          "height": 34
        },
        "outputId": "85c25c60-3dc4-46ad-9dca-0ac04d9defbe"
      },
      "cell_type": "code",
      "source": [
        "model"
      ],
      "execution_count": 113,
      "outputs": [
        {
          "output_type": "execute_result",
          "data": {
            "text/plain": [
              "<tensorflow.python.keras.engine.sequential.Sequential at 0x7fe8e9037e80>"
            ]
          },
          "metadata": {
            "tags": []
          },
          "execution_count": 113
        }
      ]
    },
    {
      "metadata": {
        "id": "b2FBW04kKM_p",
        "colab_type": "text"
      },
      "cell_type": "markdown",
      "source": [
        "### add 2nd layer"
      ]
    },
    {
      "metadata": {
        "id": "nJ-IE_P-KYq_",
        "colab_type": "code",
        "colab": {
          "base_uri": "https://localhost:8080/",
          "height": 34
        },
        "outputId": "00334299-87af-47d9-cbea-6d5265969f7d"
      },
      "cell_type": "code",
      "source": [
        "model.add(keras.layers.Dense(units = 6, activation = tf.nn.relu))\n",
        "model"
      ],
      "execution_count": 114,
      "outputs": [
        {
          "output_type": "execute_result",
          "data": {
            "text/plain": [
              "<tensorflow.python.keras.engine.sequential.Sequential at 0x7fe8e9037e80>"
            ]
          },
          "metadata": {
            "tags": []
          },
          "execution_count": 114
        }
      ]
    },
    {
      "metadata": {
        "id": "-bWgJ-TnKm-E",
        "colab_type": "text"
      },
      "cell_type": "markdown",
      "source": [
        "### Step 3:- add output layer"
      ]
    },
    {
      "metadata": {
        "id": "WVfmLyW1LcN-",
        "colab_type": "text"
      },
      "cell_type": "markdown",
      "source": [
        "**there are two types of activation function for output of categorical varibles **\n",
        "- 1**softmax**, which is used when dependent varible have more than two categorical variables\n",
        "- 2 **sigmoid** , which is used when dependent varable have 2 categorical variables"
      ]
    },
    {
      "metadata": {
        "id": "CNMiNKekKzMi",
        "colab_type": "code",
        "colab": {}
      },
      "cell_type": "code",
      "source": [
        "model.add(keras.layers.Dense(units = 1, activation = tf.nn.sigmoid))"
      ],
      "execution_count": 0,
      "outputs": []
    },
    {
      "metadata": {
        "id": "awDpLdM8L3V3",
        "colab_type": "code",
        "colab": {
          "base_uri": "https://localhost:8080/",
          "height": 34
        },
        "outputId": "7cf22280-b85a-4823-c618-8a62d29d6408"
      },
      "cell_type": "code",
      "source": [
        "model"
      ],
      "execution_count": 117,
      "outputs": [
        {
          "output_type": "execute_result",
          "data": {
            "text/plain": [
              "<tensorflow.python.keras.engine.sequential.Sequential at 0x7fe8e9037e80>"
            ]
          },
          "metadata": {
            "tags": []
          },
          "execution_count": 117
        }
      ]
    },
    {
      "metadata": {
        "id": "yiYLtGE8ML-z",
        "colab_type": "text"
      },
      "cell_type": "markdown",
      "source": [
        "## Step 4:-- compile the model\n",
        "apply stochastic gradient descent method"
      ]
    },
    {
      "metadata": {
        "id": "QTa5eId2MiQk",
        "colab_type": "code",
        "colab": {
          "base_uri": "https://localhost:8080/",
          "height": 34
        },
        "outputId": "a1f53280-4dab-4ba6-95ee-23180a2cf106"
      },
      "cell_type": "code",
      "source": [
        "model.compile(optimizer = 'adam', loss = 'binary_crossentropy', metrics = ['accuracy'])\n",
        "model"
      ],
      "execution_count": 118,
      "outputs": [
        {
          "output_type": "execute_result",
          "data": {
            "text/plain": [
              "<tensorflow.python.keras.engine.sequential.Sequential at 0x7fe8e9037e80>"
            ]
          },
          "metadata": {
            "tags": []
          },
          "execution_count": 118
        }
      ]
    },
    {
      "metadata": {
        "id": "1WSsamwMN_HI",
        "colab_type": "text"
      },
      "cell_type": "markdown",
      "source": [
        "### Step 5:-- fit the model"
      ]
    },
    {
      "metadata": {
        "id": "aaI6lPV7O7sT",
        "colab_type": "text"
      },
      "cell_type": "markdown",
      "source": [
        "batch_size = no. of observation afterwhich u want to update the weights"
      ]
    },
    {
      "metadata": {
        "id": "RfIf7cI6OEtv",
        "colab_type": "code",
        "colab": {
          "base_uri": "https://localhost:8080/",
          "height": 3454
        },
        "outputId": "eeb6b873-5cde-42d7-92d9-46799f3ad14b"
      },
      "cell_type": "code",
      "source": [
        "model.fit(X_train, y_train, batch_size = 10 , epochs = 100)"
      ],
      "execution_count": 120,
      "outputs": [
        {
          "output_type": "stream",
          "text": [
            "Epoch 1/100\n",
            "7000/7000 [==============================] - 2s 246us/step - loss: 0.5145 - acc: 0.7784\n",
            "Epoch 2/100\n",
            "7000/7000 [==============================] - 1s 96us/step - loss: 0.4372 - acc: 0.8077\n",
            "Epoch 3/100\n",
            "7000/7000 [==============================] - 1s 105us/step - loss: 0.4112 - acc: 0.8157\n",
            "Epoch 4/100\n",
            "7000/7000 [==============================] - 1s 96us/step - loss: 0.3962 - acc: 0.8196\n",
            "Epoch 5/100\n",
            "7000/7000 [==============================] - 1s 95us/step - loss: 0.3866 - acc: 0.8219\n",
            "Epoch 6/100\n",
            "7000/7000 [==============================] - 1s 96us/step - loss: 0.3800 - acc: 0.8237\n",
            "Epoch 7/100\n",
            "7000/7000 [==============================] - 1s 96us/step - loss: 0.3751 - acc: 0.8261\n",
            "Epoch 8/100\n",
            "7000/7000 [==============================] - 1s 94us/step - loss: 0.3716 - acc: 0.8263\n",
            "Epoch 9/100\n",
            "7000/7000 [==============================] - 1s 96us/step - loss: 0.3683 - acc: 0.8296\n",
            "Epoch 10/100\n",
            "7000/7000 [==============================] - 1s 97us/step - loss: 0.3654 - acc: 0.8394\n",
            "Epoch 11/100\n",
            "7000/7000 [==============================] - 1s 96us/step - loss: 0.3633 - acc: 0.8519\n",
            "Epoch 12/100\n",
            "7000/7000 [==============================] - 1s 96us/step - loss: 0.3603 - acc: 0.8547\n",
            "Epoch 13/100\n",
            "7000/7000 [==============================] - 1s 96us/step - loss: 0.3583 - acc: 0.8563\n",
            "Epoch 14/100\n",
            "7000/7000 [==============================] - 1s 95us/step - loss: 0.3568 - acc: 0.8586\n",
            "Epoch 15/100\n",
            "7000/7000 [==============================] - 1s 97us/step - loss: 0.3548 - acc: 0.8593\n",
            "Epoch 16/100\n",
            "7000/7000 [==============================] - 1s 96us/step - loss: 0.3532 - acc: 0.8597\n",
            "Epoch 17/100\n",
            "7000/7000 [==============================] - 1s 95us/step - loss: 0.3520 - acc: 0.8597\n",
            "Epoch 18/100\n",
            "7000/7000 [==============================] - 1s 96us/step - loss: 0.3507 - acc: 0.8603\n",
            "Epoch 19/100\n",
            "7000/7000 [==============================] - 1s 94us/step - loss: 0.3490 - acc: 0.8633\n",
            "Epoch 20/100\n",
            "7000/7000 [==============================] - 1s 96us/step - loss: 0.3483 - acc: 0.8617\n",
            "Epoch 21/100\n",
            "7000/7000 [==============================] - 1s 97us/step - loss: 0.3481 - acc: 0.8611\n",
            "Epoch 22/100\n",
            "7000/7000 [==============================] - 1s 97us/step - loss: 0.3468 - acc: 0.8641\n",
            "Epoch 23/100\n",
            "7000/7000 [==============================] - 1s 96us/step - loss: 0.3465 - acc: 0.8630\n",
            "Epoch 24/100\n",
            "7000/7000 [==============================] - 1s 93us/step - loss: 0.3457 - acc: 0.8623\n",
            "Epoch 25/100\n",
            "7000/7000 [==============================] - 1s 97us/step - loss: 0.3450 - acc: 0.8634\n",
            "Epoch 26/100\n",
            "7000/7000 [==============================] - 1s 95us/step - loss: 0.3441 - acc: 0.8609\n",
            "Epoch 27/100\n",
            "7000/7000 [==============================] - 1s 96us/step - loss: 0.3442 - acc: 0.8631\n",
            "Epoch 28/100\n",
            "7000/7000 [==============================] - 1s 95us/step - loss: 0.3438 - acc: 0.8626\n",
            "Epoch 29/100\n",
            "7000/7000 [==============================] - 1s 96us/step - loss: 0.3439 - acc: 0.8627\n",
            "Epoch 30/100\n",
            "7000/7000 [==============================] - 1s 96us/step - loss: 0.3430 - acc: 0.8640\n",
            "Epoch 31/100\n",
            "7000/7000 [==============================] - 1s 96us/step - loss: 0.3427 - acc: 0.8631\n",
            "Epoch 32/100\n",
            "7000/7000 [==============================] - 1s 96us/step - loss: 0.3420 - acc: 0.8616\n",
            "Epoch 33/100\n",
            "7000/7000 [==============================] - 1s 96us/step - loss: 0.3422 - acc: 0.8661\n",
            "Epoch 34/100\n",
            "7000/7000 [==============================] - 1s 95us/step - loss: 0.3417 - acc: 0.8626\n",
            "Epoch 35/100\n",
            "7000/7000 [==============================] - 1s 95us/step - loss: 0.3415 - acc: 0.8647\n",
            "Epoch 36/100\n",
            "7000/7000 [==============================] - 1s 97us/step - loss: 0.3417 - acc: 0.8631\n",
            "Epoch 37/100\n",
            "7000/7000 [==============================] - 1s 95us/step - loss: 0.3409 - acc: 0.8631\n",
            "Epoch 38/100\n",
            "7000/7000 [==============================] - 1s 96us/step - loss: 0.3411 - acc: 0.8637\n",
            "Epoch 39/100\n",
            "7000/7000 [==============================] - 1s 94us/step - loss: 0.3407 - acc: 0.8633\n",
            "Epoch 40/100\n",
            "7000/7000 [==============================] - 1s 97us/step - loss: 0.3404 - acc: 0.8626\n",
            "Epoch 41/100\n",
            "7000/7000 [==============================] - 1s 97us/step - loss: 0.3400 - acc: 0.8621\n",
            "Epoch 42/100\n",
            "7000/7000 [==============================] - 1s 95us/step - loss: 0.3397 - acc: 0.8603\n",
            "Epoch 43/100\n",
            "7000/7000 [==============================] - 1s 96us/step - loss: 0.3401 - acc: 0.8627\n",
            "Epoch 44/100\n",
            "7000/7000 [==============================] - 1s 97us/step - loss: 0.3393 - acc: 0.8627\n",
            "Epoch 45/100\n",
            "7000/7000 [==============================] - 1s 96us/step - loss: 0.3395 - acc: 0.8624\n",
            "Epoch 46/100\n",
            "7000/7000 [==============================] - 1s 97us/step - loss: 0.3391 - acc: 0.8613\n",
            "Epoch 47/100\n",
            "7000/7000 [==============================] - 1s 96us/step - loss: 0.3397 - acc: 0.8629\n",
            "Epoch 48/100\n",
            "7000/7000 [==============================] - 1s 94us/step - loss: 0.3383 - acc: 0.8626\n",
            "Epoch 49/100\n",
            "7000/7000 [==============================] - 1s 96us/step - loss: 0.3391 - acc: 0.8621\n",
            "Epoch 50/100\n",
            "7000/7000 [==============================] - 1s 96us/step - loss: 0.3387 - acc: 0.8624\n",
            "Epoch 51/100\n",
            "7000/7000 [==============================] - 1s 94us/step - loss: 0.3383 - acc: 0.8617\n",
            "Epoch 52/100\n",
            "7000/7000 [==============================] - 1s 96us/step - loss: 0.3383 - acc: 0.8610\n",
            "Epoch 53/100\n",
            "7000/7000 [==============================] - 1s 97us/step - loss: 0.3388 - acc: 0.8614\n",
            "Epoch 54/100\n",
            "7000/7000 [==============================] - 1s 97us/step - loss: 0.3385 - acc: 0.8639\n",
            "Epoch 55/100\n",
            "7000/7000 [==============================] - 1s 96us/step - loss: 0.3385 - acc: 0.8626\n",
            "Epoch 56/100\n",
            "7000/7000 [==============================] - 1s 97us/step - loss: 0.3383 - acc: 0.8640\n",
            "Epoch 57/100\n",
            "7000/7000 [==============================] - 1s 97us/step - loss: 0.3378 - acc: 0.8631\n",
            "Epoch 58/100\n",
            "7000/7000 [==============================] - 1s 97us/step - loss: 0.3389 - acc: 0.8631\n",
            "Epoch 59/100\n",
            "7000/7000 [==============================] - 1s 96us/step - loss: 0.3380 - acc: 0.8623\n",
            "Epoch 60/100\n",
            "7000/7000 [==============================] - 1s 96us/step - loss: 0.3384 - acc: 0.8624\n",
            "Epoch 61/100\n",
            "7000/7000 [==============================] - 1s 96us/step - loss: 0.3376 - acc: 0.8634\n",
            "Epoch 62/100\n",
            "7000/7000 [==============================] - 1s 96us/step - loss: 0.3380 - acc: 0.8607\n",
            "Epoch 63/100\n",
            "7000/7000 [==============================] - 1s 96us/step - loss: 0.3379 - acc: 0.8627\n",
            "Epoch 64/100\n",
            "7000/7000 [==============================] - 1s 96us/step - loss: 0.3375 - acc: 0.8616\n",
            "Epoch 65/100\n",
            "7000/7000 [==============================] - 1s 96us/step - loss: 0.3376 - acc: 0.8609\n",
            "Epoch 66/100\n",
            "7000/7000 [==============================] - 1s 96us/step - loss: 0.3375 - acc: 0.8637\n",
            "Epoch 67/100\n",
            "7000/7000 [==============================] - 1s 94us/step - loss: 0.3374 - acc: 0.8629\n",
            "Epoch 68/100\n",
            "7000/7000 [==============================] - 1s 95us/step - loss: 0.3378 - acc: 0.8614\n",
            "Epoch 69/100\n",
            "7000/7000 [==============================] - 1s 95us/step - loss: 0.3372 - acc: 0.8654\n",
            "Epoch 70/100\n",
            "7000/7000 [==============================] - 1s 97us/step - loss: 0.3373 - acc: 0.8621\n",
            "Epoch 71/100\n",
            "7000/7000 [==============================] - 1s 95us/step - loss: 0.3373 - acc: 0.8624\n",
            "Epoch 72/100\n",
            "7000/7000 [==============================] - 1s 96us/step - loss: 0.3370 - acc: 0.8627\n",
            "Epoch 73/100\n",
            "7000/7000 [==============================] - 1s 96us/step - loss: 0.3373 - acc: 0.8626\n",
            "Epoch 74/100\n",
            "7000/7000 [==============================] - 1s 97us/step - loss: 0.3376 - acc: 0.8647\n",
            "Epoch 75/100\n",
            "7000/7000 [==============================] - 1s 95us/step - loss: 0.3368 - acc: 0.8621\n",
            "Epoch 76/100\n",
            "7000/7000 [==============================] - 1s 95us/step - loss: 0.3372 - acc: 0.8623\n",
            "Epoch 77/100\n",
            "7000/7000 [==============================] - 1s 98us/step - loss: 0.3374 - acc: 0.8646\n",
            "Epoch 78/100\n",
            "7000/7000 [==============================] - 1s 97us/step - loss: 0.3368 - acc: 0.8630\n",
            "Epoch 79/100\n",
            "7000/7000 [==============================] - 1s 96us/step - loss: 0.3371 - acc: 0.8634\n",
            "Epoch 80/100\n",
            "7000/7000 [==============================] - 1s 95us/step - loss: 0.3373 - acc: 0.8640\n",
            "Epoch 81/100\n",
            "7000/7000 [==============================] - 1s 95us/step - loss: 0.3373 - acc: 0.8629\n",
            "Epoch 82/100\n",
            "7000/7000 [==============================] - 1s 97us/step - loss: 0.3367 - acc: 0.8647\n",
            "Epoch 83/100\n",
            "7000/7000 [==============================] - 1s 95us/step - loss: 0.3366 - acc: 0.8629\n",
            "Epoch 84/100\n",
            "7000/7000 [==============================] - 1s 96us/step - loss: 0.3368 - acc: 0.8620\n",
            "Epoch 85/100\n",
            "7000/7000 [==============================] - 1s 94us/step - loss: 0.3369 - acc: 0.8640\n",
            "Epoch 86/100\n",
            "7000/7000 [==============================] - 1s 95us/step - loss: 0.3368 - acc: 0.8629\n",
            "Epoch 87/100\n",
            "7000/7000 [==============================] - 1s 96us/step - loss: 0.3370 - acc: 0.8643\n",
            "Epoch 88/100\n",
            "7000/7000 [==============================] - 1s 98us/step - loss: 0.3366 - acc: 0.8641\n",
            "Epoch 89/100\n",
            "7000/7000 [==============================] - 1s 96us/step - loss: 0.3368 - acc: 0.8634\n",
            "Epoch 90/100\n",
            "7000/7000 [==============================] - 1s 98us/step - loss: 0.3365 - acc: 0.8643\n",
            "Epoch 91/100\n",
            "7000/7000 [==============================] - 1s 94us/step - loss: 0.3367 - acc: 0.8629\n",
            "Epoch 92/100\n",
            "7000/7000 [==============================] - 1s 96us/step - loss: 0.3361 - acc: 0.8619\n",
            "Epoch 93/100\n",
            "7000/7000 [==============================] - 1s 96us/step - loss: 0.3365 - acc: 0.8637\n",
            "Epoch 94/100\n",
            "7000/7000 [==============================] - 1s 96us/step - loss: 0.3361 - acc: 0.8619\n",
            "Epoch 95/100\n",
            "7000/7000 [==============================] - 1s 96us/step - loss: 0.3365 - acc: 0.8644\n",
            "Epoch 96/100\n",
            "7000/7000 [==============================] - 1s 99us/step - loss: 0.3362 - acc: 0.8636\n",
            "Epoch 97/100\n",
            "7000/7000 [==============================] - 1s 95us/step - loss: 0.3355 - acc: 0.8630\n",
            "Epoch 98/100\n",
            "7000/7000 [==============================] - 1s 96us/step - loss: 0.3364 - acc: 0.8633\n",
            "Epoch 99/100\n",
            "7000/7000 [==============================] - 1s 97us/step - loss: 0.3357 - acc: 0.8630\n",
            "Epoch 100/100\n",
            "7000/7000 [==============================] - 1s 96us/step - loss: 0.3364 - acc: 0.8631\n"
          ],
          "name": "stdout"
        },
        {
          "output_type": "execute_result",
          "data": {
            "text/plain": [
              "<tensorflow.python.keras.callbacks.History at 0x7fe8e8f3fb00>"
            ]
          },
          "metadata": {
            "tags": []
          },
          "execution_count": 120
        }
      ]
    },
    {
      "metadata": {
        "id": "QzwDRGL5PfWC",
        "colab_type": "text"
      },
      "cell_type": "markdown",
      "source": [
        "### Step 7:- make predictions"
      ]
    },
    {
      "metadata": {
        "id": "wBVoGp-QQL2F",
        "colab_type": "code",
        "colab": {
          "base_uri": "https://localhost:8080/",
          "height": 51
        },
        "outputId": "80034919-614d-4151-8b5a-c7fdc612200e"
      },
      "cell_type": "code",
      "source": [
        "y_pred = model.predict(X_test)\n",
        "y_pred[:2]"
      ],
      "execution_count": 121,
      "outputs": [
        {
          "output_type": "execute_result",
          "data": {
            "text/plain": [
              "array([[0.17092817],\n",
              "       [0.29962748]], dtype=float32)"
            ]
          },
          "metadata": {
            "tags": []
          },
          "execution_count": 121
        }
      ]
    },
    {
      "metadata": {
        "id": "V052NBjxQWvJ",
        "colab_type": "code",
        "colab": {
          "base_uri": "https://localhost:8080/",
          "height": 34
        },
        "outputId": "5a68483b-beb9-489e-e2e0-cd6869596b2a"
      },
      "cell_type": "code",
      "source": [
        "y_pred.max()"
      ],
      "execution_count": 123,
      "outputs": [
        {
          "output_type": "execute_result",
          "data": {
            "text/plain": [
              "0.9448578"
            ]
          },
          "metadata": {
            "tags": []
          },
          "execution_count": 123
        }
      ]
    },
    {
      "metadata": {
        "id": "2ihqHnKnQjn7",
        "colab_type": "code",
        "colab": {
          "base_uri": "https://localhost:8080/",
          "height": 34
        },
        "outputId": "e05c1ce5-c33d-4efd-a5d4-ad84260266a2"
      },
      "cell_type": "code",
      "source": [
        "y_pred.min()"
      ],
      "execution_count": 124,
      "outputs": [
        {
          "output_type": "execute_result",
          "data": {
            "text/plain": [
              "0.0009304676"
            ]
          },
          "metadata": {
            "tags": []
          },
          "execution_count": 124
        }
      ]
    },
    {
      "metadata": {
        "id": "tLLJfbymQmsK",
        "colab_type": "code",
        "colab": {
          "base_uri": "https://localhost:8080/",
          "height": 282
        },
        "outputId": "0fbb6c4f-2546-49f4-c09c-09ebadc0fcd9"
      },
      "cell_type": "code",
      "source": [
        "sns.distplot(y_pred)"
      ],
      "execution_count": 126,
      "outputs": [
        {
          "output_type": "execute_result",
          "data": {
            "text/plain": [
              "<matplotlib.axes._subplots.AxesSubplot at 0x7fe8e8ac0e80>"
            ]
          },
          "metadata": {
            "tags": []
          },
          "execution_count": 126
        },
        {
          "output_type": "display_data",
          "data": {
            "image/png": "[encoded data removed]",
            "text/plain": [
              "<matplotlib.figure.Figure at 0x7fe8e8ac0860>"
            ]
          },
          "metadata": {
            "tags": []
          }
        }
      ]
    },
    {
      "metadata": {
        "id": "DXb8NQKjQr4x",
        "colab_type": "code",
        "colab": {
          "base_uri": "https://localhost:8080/",
          "height": 51
        },
        "outputId": "8154b20f-ae04-47a5-98cb-00cad68a1878"
      },
      "cell_type": "code",
      "source": [
        "f_ypred = y_pred > .5\n",
        "f_ypred[:2]"
      ],
      "execution_count": 129,
      "outputs": [
        {
          "output_type": "execute_result",
          "data": {
            "text/plain": [
              "array([[False],\n",
              "       [False]])"
            ]
          },
          "metadata": {
            "tags": []
          },
          "execution_count": 129
        }
      ]
    },
    {
      "metadata": {
        "id": "R8OQ1214Rrsa",
        "colab_type": "code",
        "colab": {}
      },
      "cell_type": "code",
      "source": [
        "from sklearn.metrics import classification_report, confusion_matrix"
      ],
      "execution_count": 0,
      "outputs": []
    },
    {
      "metadata": {
        "id": "r0RNTEFURMVh",
        "colab_type": "code",
        "colab": {
          "base_uri": "https://localhost:8080/",
          "height": 51
        },
        "outputId": "b26a167c-76c2-4284-a9f0-c422e98a5dfb"
      },
      "cell_type": "code",
      "source": [
        "f_ypred = [1 if i > .5 else 0 for i in y_pred]\n",
        "confusion_matrix(y_test, f_ypred)"
      ],
      "execution_count": 136,
      "outputs": [
        {
          "output_type": "execute_result",
          "data": {
            "text/plain": [
              "array([[2303,   76],\n",
              "       [ 336,  285]])"
            ]
          },
          "metadata": {
            "tags": []
          },
          "execution_count": 136
        }
      ]
    },
    {
      "metadata": {
        "id": "m4yS40lcSK4S",
        "colab_type": "code",
        "colab": {
          "base_uri": "https://localhost:8080/",
          "height": 51
        },
        "outputId": "af6e112d-d29b-438e-e0b8-54356017490f"
      },
      "cell_type": "code",
      "source": [
        "f_ypred = [1 if i > .8 else 0 for i in y_pred]\n",
        "confusion_matrix(y_test, f_ypred)"
      ],
      "execution_count": 148,
      "outputs": [
        {
          "output_type": "execute_result",
          "data": {
            "text/plain": [
              "array([[2373,    6],\n",
              "       [ 499,  122]])"
            ]
          },
          "metadata": {
            "tags": []
          },
          "execution_count": 148
        }
      ]
    }
  ]
}