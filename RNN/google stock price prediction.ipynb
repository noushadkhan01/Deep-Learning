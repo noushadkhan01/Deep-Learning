{
  "nbformat": 4,
  "nbformat_minor": 0,
  "metadata": {
    "colab": {
      "name": "Untitled25.ipynb",
      "version": "0.3.2",
      "provenance": [],
      "include_colab_link": true
    },
    "kernelspec": {
      "name": "python3",
      "display_name": "Python 3"
    },
    "accelerator": "GPU"
  },
  "cells": [
    {
      "cell_type": "markdown",
      "metadata": {
        "id": "view-in-github",
        "colab_type": "text"
      },
      "source": [
        "<a href=\"https://colab.research.google.com/github/noushadkhan01/tensorflow/blob/master/RNN/google%20stock%20price%20prediction.ipynb\" target=\"_parent\"><img src=\"https://colab.research.google.com/assets/colab-badge.svg\" alt=\"Open In Colab\"/></a>"
      ]
    },
    {
      "metadata": {
        "id": "BCGtJLRaZVRo",
        "colab_type": "code",
        "colab": {}
      },
      "cell_type": "code",
      "source": [
        "import pandas as pd\n",
        "import numpy as np\n",
        "import matplotlib.pyplot as plt\n",
        "%matplotlib inline"
      ],
      "execution_count": 0,
      "outputs": []
    },
    {
      "metadata": {
        "id": "2wpxGkGrZlL6",
        "colab_type": "text"
      },
      "cell_type": "markdown",
      "source": [
        "from google.colab import files\n",
        "files.upload()"
      ]
    },
    {
      "metadata": {
        "id": "5EqQV7MeZs-s",
        "colab_type": "code",
        "colab": {
          "base_uri": "https://localhost:8080/",
          "height": 34
        },
        "outputId": "ed691f34-d612-497c-d496-a5a523222cb1"
      },
      "cell_type": "code",
      "source": [
        "!ls"
      ],
      "execution_count": 4,
      "outputs": [
        {
          "output_type": "stream",
          "text": [
            "Google_Stock_Price_Test.csv  Google_Stock_Price_Train.csv  sample_data\n"
          ],
          "name": "stdout"
        }
      ]
    },
    {
      "metadata": {
        "id": "7PeL-RCLZqN1",
        "colab_type": "code",
        "colab": {
          "base_uri": "https://localhost:8080/",
          "height": 111
        },
        "outputId": "26b3c1cb-137b-4bd8-9450-faac882bfa31"
      },
      "cell_type": "code",
      "source": [
        "train = pd.read_csv('Google_Stock_Price_Train.csv')\n",
        "train.head(2)"
      ],
      "execution_count": 38,
      "outputs": [
        {
          "output_type": "execute_result",
          "data": {
            "text/html": [
              "<div>\n",
              "<style scoped>\n",
              "    .dataframe tbody tr th:only-of-type {\n",
              "        vertical-align: middle;\n",
              "    }\n",
              "\n",
              "    .dataframe tbody tr th {\n",
              "        vertical-align: top;\n",
              "    }\n",
              "\n",
              "    .dataframe thead th {\n",
              "        text-align: right;\n",
              "    }\n",
              "</style>\n",
              "<table border=\"1\" class=\"dataframe\">\n",
              "  <thead>\n",
              "    <tr style=\"text-align: right;\">\n",
              "      <th></th>\n",
              "      <th>Date</th>\n",
              "      <th>Open</th>\n",
              "      <th>High</th>\n",
              "      <th>Low</th>\n",
              "      <th>Close</th>\n",
              "      <th>Volume</th>\n",
              "    </tr>\n",
              "  </thead>\n",
              "  <tbody>\n",
              "    <tr>\n",
              "      <th>0</th>\n",
              "      <td>1/3/2012</td>\n",
              "      <td>325.25</td>\n",
              "      <td>332.83</td>\n",
              "      <td>324.97</td>\n",
              "      <td>663.59</td>\n",
              "      <td>7,380,500</td>\n",
              "    </tr>\n",
              "    <tr>\n",
              "      <th>1</th>\n",
              "      <td>1/4/2012</td>\n",
              "      <td>331.27</td>\n",
              "      <td>333.87</td>\n",
              "      <td>329.08</td>\n",
              "      <td>666.45</td>\n",
              "      <td>5,749,400</td>\n",
              "    </tr>\n",
              "  </tbody>\n",
              "</table>\n",
              "</div>"
            ],
            "text/plain": [
              "       Date    Open    High     Low   Close     Volume\n",
              "0  1/3/2012  325.25  332.83  324.97  663.59  7,380,500\n",
              "1  1/4/2012  331.27  333.87  329.08  666.45  5,749,400"
            ]
          },
          "metadata": {
            "tags": []
          },
          "execution_count": 38
        }
      ]
    },
    {
      "metadata": {
        "id": "ICupPHJVaXBb",
        "colab_type": "code",
        "colab": {
          "base_uri": "https://localhost:8080/",
          "height": 34
        },
        "outputId": "bc413040-0e1e-4671-eb3f-d8f34e3a5b6d"
      },
      "cell_type": "code",
      "source": [
        "train.shape"
      ],
      "execution_count": 39,
      "outputs": [
        {
          "output_type": "execute_result",
          "data": {
            "text/plain": [
              "(1258, 6)"
            ]
          },
          "metadata": {
            "tags": []
          },
          "execution_count": 39
        }
      ]
    },
    {
      "metadata": {
        "id": "F6XulEp3aYtN",
        "colab_type": "code",
        "colab": {
          "base_uri": "https://localhost:8080/",
          "height": 111
        },
        "outputId": "1189ecfb-71e6-4594-a68d-3d923984a55e"
      },
      "cell_type": "code",
      "source": [
        "test = pd.read_csv('Google_Stock_Price_Test.csv')\n",
        "test.head(2)"
      ],
      "execution_count": 40,
      "outputs": [
        {
          "output_type": "execute_result",
          "data": {
            "text/html": [
              "<div>\n",
              "<style scoped>\n",
              "    .dataframe tbody tr th:only-of-type {\n",
              "        vertical-align: middle;\n",
              "    }\n",
              "\n",
              "    .dataframe tbody tr th {\n",
              "        vertical-align: top;\n",
              "    }\n",
              "\n",
              "    .dataframe thead th {\n",
              "        text-align: right;\n",
              "    }\n",
              "</style>\n",
              "<table border=\"1\" class=\"dataframe\">\n",
              "  <thead>\n",
              "    <tr style=\"text-align: right;\">\n",
              "      <th></th>\n",
              "      <th>Date</th>\n",
              "      <th>Open</th>\n",
              "      <th>High</th>\n",
              "      <th>Low</th>\n",
              "      <th>Close</th>\n",
              "      <th>Volume</th>\n",
              "    </tr>\n",
              "  </thead>\n",
              "  <tbody>\n",
              "    <tr>\n",
              "      <th>0</th>\n",
              "      <td>1/3/2017</td>\n",
              "      <td>778.81</td>\n",
              "      <td>789.63</td>\n",
              "      <td>775.80</td>\n",
              "      <td>786.14</td>\n",
              "      <td>1,657,300</td>\n",
              "    </tr>\n",
              "    <tr>\n",
              "      <th>1</th>\n",
              "      <td>1/4/2017</td>\n",
              "      <td>788.36</td>\n",
              "      <td>791.34</td>\n",
              "      <td>783.16</td>\n",
              "      <td>786.90</td>\n",
              "      <td>1,073,000</td>\n",
              "    </tr>\n",
              "  </tbody>\n",
              "</table>\n",
              "</div>"
            ],
            "text/plain": [
              "       Date    Open    High     Low   Close     Volume\n",
              "0  1/3/2017  778.81  789.63  775.80  786.14  1,657,300\n",
              "1  1/4/2017  788.36  791.34  783.16  786.90  1,073,000"
            ]
          },
          "metadata": {
            "tags": []
          },
          "execution_count": 40
        }
      ]
    },
    {
      "metadata": {
        "id": "0eszhyosafA5",
        "colab_type": "code",
        "colab": {
          "base_uri": "https://localhost:8080/",
          "height": 34
        },
        "outputId": "aea8952f-7274-4eae-d4b2-4206085b553b"
      },
      "cell_type": "code",
      "source": [
        "test.shape"
      ],
      "execution_count": 41,
      "outputs": [
        {
          "output_type": "execute_result",
          "data": {
            "text/plain": [
              "(20, 6)"
            ]
          },
          "metadata": {
            "tags": []
          },
          "execution_count": 41
        }
      ]
    },
    {
      "metadata": {
        "id": "FNGuE_PDaggH",
        "colab_type": "text"
      },
      "cell_type": "markdown",
      "source": [
        "**We need to train on single column of training data like Open or Close or Low or High, so choose only one of them**"
      ]
    },
    {
      "metadata": {
        "id": "KAakOPiOaxGk",
        "colab_type": "code",
        "colab": {
          "base_uri": "https://localhost:8080/",
          "height": 111
        },
        "outputId": "eaad5b6a-3f9f-4082-ae8d-a24556eba6d7"
      },
      "cell_type": "code",
      "source": [
        "train = train.iloc[:, 1:2]\n",
        "test = test.iloc[:, 1:2]\n",
        "train[:2]"
      ],
      "execution_count": 42,
      "outputs": [
        {
          "output_type": "execute_result",
          "data": {
            "text/html": [
              "<div>\n",
              "<style scoped>\n",
              "    .dataframe tbody tr th:only-of-type {\n",
              "        vertical-align: middle;\n",
              "    }\n",
              "\n",
              "    .dataframe tbody tr th {\n",
              "        vertical-align: top;\n",
              "    }\n",
              "\n",
              "    .dataframe thead th {\n",
              "        text-align: right;\n",
              "    }\n",
              "</style>\n",
              "<table border=\"1\" class=\"dataframe\">\n",
              "  <thead>\n",
              "    <tr style=\"text-align: right;\">\n",
              "      <th></th>\n",
              "      <th>Open</th>\n",
              "    </tr>\n",
              "  </thead>\n",
              "  <tbody>\n",
              "    <tr>\n",
              "      <th>0</th>\n",
              "      <td>325.25</td>\n",
              "    </tr>\n",
              "    <tr>\n",
              "      <th>1</th>\n",
              "      <td>331.27</td>\n",
              "    </tr>\n",
              "  </tbody>\n",
              "</table>\n",
              "</div>"
            ],
            "text/plain": [
              "     Open\n",
              "0  325.25\n",
              "1  331.27"
            ]
          },
          "metadata": {
            "tags": []
          },
          "execution_count": 42
        }
      ]
    },
    {
      "metadata": {
        "id": "hj_ci8-Ta4Ct",
        "colab_type": "code",
        "colab": {
          "base_uri": "https://localhost:8080/",
          "height": 80
        },
        "outputId": "234a323b-6304-4271-d67e-7f09af9911cf"
      },
      "cell_type": "code",
      "source": [
        "test.head(1)"
      ],
      "execution_count": 43,
      "outputs": [
        {
          "output_type": "execute_result",
          "data": {
            "text/html": [
              "<div>\n",
              "<style scoped>\n",
              "    .dataframe tbody tr th:only-of-type {\n",
              "        vertical-align: middle;\n",
              "    }\n",
              "\n",
              "    .dataframe tbody tr th {\n",
              "        vertical-align: top;\n",
              "    }\n",
              "\n",
              "    .dataframe thead th {\n",
              "        text-align: right;\n",
              "    }\n",
              "</style>\n",
              "<table border=\"1\" class=\"dataframe\">\n",
              "  <thead>\n",
              "    <tr style=\"text-align: right;\">\n",
              "      <th></th>\n",
              "      <th>Open</th>\n",
              "    </tr>\n",
              "  </thead>\n",
              "  <tbody>\n",
              "    <tr>\n",
              "      <th>0</th>\n",
              "      <td>778.81</td>\n",
              "    </tr>\n",
              "  </tbody>\n",
              "</table>\n",
              "</div>"
            ],
            "text/plain": [
              "     Open\n",
              "0  778.81"
            ]
          },
          "metadata": {
            "tags": []
          },
          "execution_count": 43
        }
      ]
    },
    {
      "metadata": {
        "id": "iRTTeO7Ma5h0",
        "colab_type": "text"
      },
      "cell_type": "markdown",
      "source": [
        "wee need numpy array to train our model so get it into numpy array"
      ]
    },
    {
      "metadata": {
        "id": "LUPWCbrGbDsL",
        "colab_type": "code",
        "colab": {
          "base_uri": "https://localhost:8080/",
          "height": 68
        },
        "outputId": "d105b888-6a14-4d54-b095-a467e982af41"
      },
      "cell_type": "code",
      "source": [
        "train = train.values\n",
        "test = test.values\n",
        "train[:2], test[:2]"
      ],
      "execution_count": 44,
      "outputs": [
        {
          "output_type": "execute_result",
          "data": {
            "text/plain": [
              "(array([[325.25],\n",
              "        [331.27]]), array([[778.81],\n",
              "        [788.36]]))"
            ]
          },
          "metadata": {
            "tags": []
          },
          "execution_count": 44
        }
      ]
    },
    {
      "metadata": {
        "id": "M8qDJCEbbH9x",
        "colab_type": "text"
      },
      "cell_type": "markdown",
      "source": [
        "# Preprocessing"
      ]
    },
    {
      "metadata": {
        "id": "4oKQbNeVb06l",
        "colab_type": "code",
        "colab": {}
      },
      "cell_type": "code",
      "source": [
        "from sklearn.preprocessing import MinMaxScaler"
      ],
      "execution_count": 0,
      "outputs": []
    },
    {
      "metadata": {
        "id": "4_yc_f2nf2aV",
        "colab_type": "code",
        "colab": {}
      },
      "cell_type": "code",
      "source": [
        "train = t.copy()\n",
        "test = s.copy()"
      ],
      "execution_count": 0,
      "outputs": []
    },
    {
      "metadata": {
        "id": "0kh7aaLqb36K",
        "colab_type": "code",
        "colab": {
          "base_uri": "https://localhost:8080/",
          "height": 68
        },
        "outputId": "d918281a-2b6b-4e86-c28a-11a24f63a06d"
      },
      "cell_type": "code",
      "source": [
        "sc = MinMaxScaler()\n",
        "sc.fit(train)\n",
        "train = sc.transform(train)\n",
        "test = sc.transform(test)\n",
        "train[:2], test[:2]"
      ],
      "execution_count": 94,
      "outputs": [
        {
          "output_type": "execute_result",
          "data": {
            "text/plain": [
              "(array([[0.08581368],\n",
              "        [0.09701243]]), array([[0.92955205],\n",
              "        [0.94731751]]))"
            ]
          },
          "metadata": {
            "tags": []
          },
          "execution_count": 94
        }
      ]
    },
    {
      "metadata": {
        "id": "-g7wW_khfcCu",
        "colab_type": "code",
        "colab": {
          "base_uri": "https://localhost:8080/",
          "height": 34
        },
        "outputId": "72fd4aaf-33af-4638-d3e9-98580a08a48b"
      },
      "cell_type": "code",
      "source": [
        "train.shape, test.shape"
      ],
      "execution_count": 62,
      "outputs": [
        {
          "output_type": "execute_result",
          "data": {
            "text/plain": [
              "((1258, 1), (20, 1))"
            ]
          },
          "metadata": {
            "tags": []
          },
          "execution_count": 62
        }
      ]
    },
    {
      "metadata": {
        "id": "DmwmJoAuepNe",
        "colab_type": "text"
      },
      "cell_type": "markdown",
      "source": [
        "# Make Training and testing data\n",
        "**its very important part because in RNN we use time stamp of 1 means we predict the price of next day on the basis of current day \n",
        "means the input data(X_train) is current day and output (y_train) is the next day data**"
      ]
    },
    {
      "metadata": {
        "id": "SP5jTkboespd",
        "colab_type": "code",
        "colab": {
          "base_uri": "https://localhost:8080/",
          "height": 51
        },
        "outputId": "3b820a93-4aac-45ca-f303-d0b621cbf96b"
      },
      "cell_type": "code",
      "source": [
        "X_train = train[:-1, :]\n",
        "X_train[:2]"
      ],
      "execution_count": 95,
      "outputs": [
        {
          "output_type": "execute_result",
          "data": {
            "text/plain": [
              "array([[0.08581368],\n",
              "       [0.09701243]])"
            ]
          },
          "metadata": {
            "tags": []
          },
          "execution_count": 95
        }
      ]
    },
    {
      "metadata": {
        "id": "G9KlYbnbfrMQ",
        "colab_type": "code",
        "colab": {
          "base_uri": "https://localhost:8080/",
          "height": 34
        },
        "outputId": "cfda65e5-2752-489c-fdf9-7c5dcdaeb977"
      },
      "cell_type": "code",
      "source": [
        "X_train.shape"
      ],
      "execution_count": 64,
      "outputs": [
        {
          "output_type": "execute_result",
          "data": {
            "text/plain": [
              "(1257, 1)"
            ]
          },
          "metadata": {
            "tags": []
          },
          "execution_count": 64
        }
      ]
    },
    {
      "metadata": {
        "id": "oOec64wXf_NP",
        "colab_type": "code",
        "colab": {
          "base_uri": "https://localhost:8080/",
          "height": 34
        },
        "outputId": "3ff092ae-4129-4183-d69e-c57efed6edb6"
      },
      "cell_type": "code",
      "source": [
        "y_train = train[1:]\n",
        "y_train.shape"
      ],
      "execution_count": 96,
      "outputs": [
        {
          "output_type": "execute_result",
          "data": {
            "text/plain": [
              "(1257, 1)"
            ]
          },
          "metadata": {
            "tags": []
          },
          "execution_count": 96
        }
      ]
    },
    {
      "metadata": {
        "id": "QyqpM5vNfu91",
        "colab_type": "code",
        "colab": {
          "base_uri": "https://localhost:8080/",
          "height": 34
        },
        "outputId": "d638aacf-c86d-478c-a429-da4fb6c9b184"
      },
      "cell_type": "code",
      "source": [
        "test.shape"
      ],
      "execution_count": 59,
      "outputs": [
        {
          "output_type": "execute_result",
          "data": {
            "text/plain": [
              "(20, 1)"
            ]
          },
          "metadata": {
            "tags": []
          },
          "execution_count": 59
        }
      ]
    },
    {
      "metadata": {
        "id": "-6gwe-Z5mX4g",
        "colab_type": "code",
        "colab": {
          "base_uri": "https://localhost:8080/",
          "height": 34
        },
        "outputId": "2ae0416a-1c4b-4bb2-e6b7-b63ac1474969"
      },
      "cell_type": "code",
      "source": [
        "X_train = np.reshape(X_train, (X_train.shape[0], X_train.shape[1], 1))\n",
        "X_train.shape"
      ],
      "execution_count": 97,
      "outputs": [
        {
          "output_type": "execute_result",
          "data": {
            "text/plain": [
              "(1257, 1, 1)"
            ]
          },
          "metadata": {
            "tags": []
          },
          "execution_count": 97
        }
      ]
    },
    {
      "metadata": {
        "id": "-BcWmcy9coJg",
        "colab_type": "text"
      },
      "cell_type": "markdown",
      "source": [
        "# Make RNN"
      ]
    },
    {
      "metadata": {
        "id": "8XniTJQhelpb",
        "colab_type": "code",
        "colab": {}
      },
      "cell_type": "code",
      "source": [
        "import tensorflow as tf"
      ],
      "execution_count": 0,
      "outputs": []
    },
    {
      "metadata": {
        "id": "KbRTKPUsgHoX",
        "colab_type": "code",
        "colab": {
          "base_uri": "https://localhost:8080/",
          "height": 3434
        },
        "outputId": "0e1d6fd9-a7ac-493b-9e0b-91e4e424b9f2"
      },
      "cell_type": "code",
      "source": [
        "\n",
        "\n",
        "\n",
        "# Part 2 - Building the RNN\n",
        "\n",
        "# Importing the Keras libraries and packages\n",
        "from keras.models import Sequential\n",
        "from keras.layers import Dense\n",
        "from keras.layers import LSTM\n",
        "from keras.layers import Dropout\n",
        "\n",
        "# Initialising the RNN\n",
        "regressor = Sequential()\n",
        "\n",
        "# Adding the first LSTM layer and some Dropout regularisation\n",
        "regressor.add(LSTM(units = 50, return_sequences = True, input_shape = (X_train.shape[1], 1)))\n",
        "regressor.add(Dropout(0.2))\n",
        "\n",
        "# Adding a second LSTM layer and some Dropout regularisation\n",
        "regressor.add(LSTM(units = 50, return_sequences = True))\n",
        "regressor.add(Dropout(0.2))\n",
        "\n",
        "# Adding a third LSTM layer and some Dropout regularisation\n",
        "regressor.add(LSTM(units = 50, return_sequences = True))\n",
        "regressor.add(Dropout(0.2))\n",
        "\n",
        "# Adding a fourth LSTM layer and some Dropout regularisation\n",
        "regressor.add(LSTM(units = 50))\n",
        "regressor.add(Dropout(0.2))\n",
        "\n",
        "# Adding the output layer\n",
        "regressor.add(Dense(units = 1))\n",
        "\n",
        "# Compiling the RNN\n",
        "regressor.compile(optimizer = 'adam', loss = 'mean_squared_error', metrics = ['accuracy'])\n",
        "\n",
        "# Fitting the RNN to the Training set\n",
        "regressor.fit(X_train, y_train, epochs = 100, batch_size = 32)"
      ],
      "execution_count": 106,
      "outputs": [
        {
          "output_type": "stream",
          "text": [
            "Epoch 1/100\n",
            "1257/1257 [==============================] - 6s 5ms/step - loss: 0.2188 - acc: 7.9554e-04\n",
            "Epoch 2/100\n",
            "1257/1257 [==============================] - 1s 852us/step - loss: 0.0563 - acc: 0.0016\n",
            "Epoch 3/100\n",
            "1257/1257 [==============================] - 1s 851us/step - loss: 0.0246 - acc: 0.0016\n",
            "Epoch 4/100\n",
            "1257/1257 [==============================] - 1s 860us/step - loss: 0.0096 - acc: 0.0016\n",
            "Epoch 5/100\n",
            "1257/1257 [==============================] - 1s 852us/step - loss: 0.0085 - acc: 0.0016\n",
            "Epoch 6/100\n",
            "1257/1257 [==============================] - 1s 859us/step - loss: 0.0067 - acc: 0.0016\n",
            "Epoch 7/100\n",
            "1257/1257 [==============================] - 1s 853us/step - loss: 0.0065 - acc: 0.0016\n",
            "Epoch 8/100\n",
            "1257/1257 [==============================] - 1s 864us/step - loss: 0.0050 - acc: 0.0016\n",
            "Epoch 9/100\n",
            "1257/1257 [==============================] - 1s 854us/step - loss: 0.0053 - acc: 0.0016\n",
            "Epoch 10/100\n",
            "1257/1257 [==============================] - 1s 856us/step - loss: 0.0044 - acc: 0.0016\n",
            "Epoch 11/100\n",
            "1257/1257 [==============================] - 1s 858us/step - loss: 0.0047 - acc: 0.0016\n",
            "Epoch 12/100\n",
            "1257/1257 [==============================] - 1s 854us/step - loss: 0.0045 - acc: 0.0016\n",
            "Epoch 13/100\n",
            "1257/1257 [==============================] - 1s 866us/step - loss: 0.0041 - acc: 0.0016\n",
            "Epoch 14/100\n",
            "1257/1257 [==============================] - 1s 853us/step - loss: 0.0036 - acc: 0.0016\n",
            "Epoch 15/100\n",
            "1257/1257 [==============================] - 1s 871us/step - loss: 0.0035 - acc: 0.0016\n",
            "Epoch 16/100\n",
            "1257/1257 [==============================] - 1s 862us/step - loss: 0.0037 - acc: 0.0016\n",
            "Epoch 17/100\n",
            "1257/1257 [==============================] - 1s 875us/step - loss: 0.0034 - acc: 0.0016\n",
            "Epoch 18/100\n",
            "1257/1257 [==============================] - 1s 866us/step - loss: 0.0033 - acc: 0.0016\n",
            "Epoch 19/100\n",
            "1257/1257 [==============================] - 1s 877us/step - loss: 0.0029 - acc: 0.0016\n",
            "Epoch 20/100\n",
            "1257/1257 [==============================] - 1s 880us/step - loss: 0.0034 - acc: 0.0016\n",
            "Epoch 21/100\n",
            "1257/1257 [==============================] - 1s 888us/step - loss: 0.0032 - acc: 0.0016\n",
            "Epoch 22/100\n",
            "1257/1257 [==============================] - 1s 872us/step - loss: 0.0033 - acc: 0.0016\n",
            "Epoch 23/100\n",
            "1257/1257 [==============================] - 1s 868us/step - loss: 0.0029 - acc: 0.0016\n",
            "Epoch 24/100\n",
            "1257/1257 [==============================] - 1s 874us/step - loss: 0.0031 - acc: 0.0016\n",
            "Epoch 25/100\n",
            "1257/1257 [==============================] - 1s 880us/step - loss: 0.0031 - acc: 0.0016\n",
            "Epoch 26/100\n",
            "1257/1257 [==============================] - 1s 883us/step - loss: 0.0032 - acc: 0.0016\n",
            "Epoch 27/100\n",
            "1257/1257 [==============================] - 1s 888us/step - loss: 0.0030 - acc: 0.0016\n",
            "Epoch 28/100\n",
            "1257/1257 [==============================] - 1s 884us/step - loss: 0.0028 - acc: 0.0016\n",
            "Epoch 29/100\n",
            "1257/1257 [==============================] - 1s 898us/step - loss: 0.0026 - acc: 0.0016\n",
            "Epoch 30/100\n",
            "1257/1257 [==============================] - 1s 893us/step - loss: 0.0027 - acc: 0.0016\n",
            "Epoch 31/100\n",
            "1257/1257 [==============================] - 1s 877us/step - loss: 0.0027 - acc: 0.0016\n",
            "Epoch 32/100\n",
            "1257/1257 [==============================] - 1s 882us/step - loss: 0.0026 - acc: 0.0016\n",
            "Epoch 33/100\n",
            "1257/1257 [==============================] - 1s 888us/step - loss: 0.0024 - acc: 0.0016\n",
            "Epoch 34/100\n",
            "1257/1257 [==============================] - 1s 877us/step - loss: 0.0027 - acc: 0.0016\n",
            "Epoch 35/100\n",
            "1257/1257 [==============================] - 1s 881us/step - loss: 0.0026 - acc: 0.0016\n",
            "Epoch 36/100\n",
            "1257/1257 [==============================] - 1s 876us/step - loss: 0.0027 - acc: 0.0016\n",
            "Epoch 37/100\n",
            "1257/1257 [==============================] - 1s 875us/step - loss: 0.0027 - acc: 0.0016\n",
            "Epoch 38/100\n",
            "1257/1257 [==============================] - 1s 888us/step - loss: 0.0026 - acc: 0.0016\n",
            "Epoch 39/100\n",
            "1257/1257 [==============================] - 1s 882us/step - loss: 0.0024 - acc: 0.0016\n",
            "Epoch 40/100\n",
            "1257/1257 [==============================] - 1s 883us/step - loss: 0.0024 - acc: 0.0016\n",
            "Epoch 41/100\n",
            "1257/1257 [==============================] - 1s 874us/step - loss: 0.0024 - acc: 0.0016\n",
            "Epoch 42/100\n",
            "1257/1257 [==============================] - 1s 899us/step - loss: 0.0024 - acc: 0.0016\n",
            "Epoch 43/100\n",
            "1257/1257 [==============================] - 1s 872us/step - loss: 0.0024 - acc: 0.0016\n",
            "Epoch 44/100\n",
            "1257/1257 [==============================] - 1s 890us/step - loss: 0.0023 - acc: 0.0016\n",
            "Epoch 45/100\n",
            "1257/1257 [==============================] - 1s 892us/step - loss: 0.0022 - acc: 0.0016\n",
            "Epoch 46/100\n",
            "1257/1257 [==============================] - 1s 866us/step - loss: 0.0024 - acc: 0.0016\n",
            "Epoch 47/100\n",
            "1257/1257 [==============================] - 1s 880us/step - loss: 0.0023 - acc: 0.0016\n",
            "Epoch 48/100\n",
            "1257/1257 [==============================] - 1s 890us/step - loss: 0.0021 - acc: 0.0016\n",
            "Epoch 49/100\n",
            "1257/1257 [==============================] - 1s 878us/step - loss: 0.0023 - acc: 0.0016\n",
            "Epoch 50/100\n",
            "1257/1257 [==============================] - 1s 875us/step - loss: 0.0022 - acc: 0.0016\n",
            "Epoch 51/100\n",
            "1257/1257 [==============================] - 1s 884us/step - loss: 0.0022 - acc: 0.0016\n",
            "Epoch 52/100\n",
            "1257/1257 [==============================] - 1s 884us/step - loss: 0.0024 - acc: 0.0016\n",
            "Epoch 53/100\n",
            "1257/1257 [==============================] - 1s 886us/step - loss: 0.0022 - acc: 0.0016\n",
            "Epoch 54/100\n",
            "1257/1257 [==============================] - 1s 882us/step - loss: 0.0023 - acc: 0.0016\n",
            "Epoch 55/100\n",
            "1257/1257 [==============================] - 1s 891us/step - loss: 0.0023 - acc: 0.0016\n",
            "Epoch 56/100\n",
            "1257/1257 [==============================] - 1s 885us/step - loss: 0.0023 - acc: 0.0016\n",
            "Epoch 57/100\n",
            "1257/1257 [==============================] - 1s 884us/step - loss: 0.0023 - acc: 0.0016\n",
            "Epoch 58/100\n",
            "1257/1257 [==============================] - 1s 892us/step - loss: 0.0023 - acc: 0.0016\n",
            "Epoch 59/100\n",
            "1257/1257 [==============================] - 1s 878us/step - loss: 0.0024 - acc: 0.0016\n",
            "Epoch 60/100\n",
            "1257/1257 [==============================] - 1s 862us/step - loss: 0.0021 - acc: 0.0016\n",
            "Epoch 61/100\n",
            "1257/1257 [==============================] - 1s 869us/step - loss: 0.0023 - acc: 0.0016\n",
            "Epoch 62/100\n",
            "1257/1257 [==============================] - 1s 872us/step - loss: 0.0024 - acc: 0.0016\n",
            "Epoch 63/100\n",
            "1257/1257 [==============================] - 1s 866us/step - loss: 0.0020 - acc: 0.0016\n",
            "Epoch 64/100\n",
            "1257/1257 [==============================] - 1s 879us/step - loss: 0.0020 - acc: 0.0016\n",
            "Epoch 65/100\n",
            "1257/1257 [==============================] - 1s 873us/step - loss: 0.0022 - acc: 0.0016\n",
            "Epoch 66/100\n",
            "1257/1257 [==============================] - 1s 865us/step - loss: 0.0021 - acc: 0.0016\n",
            "Epoch 67/100\n",
            "1257/1257 [==============================] - 1s 871us/step - loss: 0.0021 - acc: 0.0016\n",
            "Epoch 68/100\n",
            "1257/1257 [==============================] - 1s 874us/step - loss: 0.0021 - acc: 0.0016\n",
            "Epoch 69/100\n",
            "1257/1257 [==============================] - 1s 913us/step - loss: 0.0020 - acc: 0.0016\n",
            "Epoch 70/100\n",
            "1257/1257 [==============================] - 1s 878us/step - loss: 0.0021 - acc: 0.0016\n",
            "Epoch 71/100\n",
            "1257/1257 [==============================] - 1s 897us/step - loss: 0.0020 - acc: 0.0016\n",
            "Epoch 72/100\n",
            "1257/1257 [==============================] - 1s 878us/step - loss: 0.0019 - acc: 0.0016\n",
            "Epoch 73/100\n",
            "1257/1257 [==============================] - 1s 878us/step - loss: 0.0021 - acc: 0.0016\n",
            "Epoch 74/100\n",
            "1257/1257 [==============================] - 1s 867us/step - loss: 0.0020 - acc: 0.0016\n",
            "Epoch 75/100\n",
            "1257/1257 [==============================] - 1s 874us/step - loss: 0.0019 - acc: 0.0016\n",
            "Epoch 76/100\n",
            "1257/1257 [==============================] - 1s 882us/step - loss: 0.0021 - acc: 0.0016\n",
            "Epoch 77/100\n",
            "1257/1257 [==============================] - 1s 882us/step - loss: 0.0020 - acc: 0.0016\n",
            "Epoch 78/100\n",
            "1257/1257 [==============================] - 1s 887us/step - loss: 0.0021 - acc: 0.0016\n",
            "Epoch 79/100\n",
            "1257/1257 [==============================] - 1s 868us/step - loss: 0.0019 - acc: 0.0016\n",
            "Epoch 80/100\n",
            "1257/1257 [==============================] - 1s 869us/step - loss: 0.0021 - acc: 0.0016\n",
            "Epoch 81/100\n",
            "1257/1257 [==============================] - 1s 871us/step - loss: 0.0022 - acc: 0.0016\n",
            "Epoch 82/100\n",
            "1257/1257 [==============================] - 1s 877us/step - loss: 0.0020 - acc: 0.0016\n",
            "Epoch 83/100\n",
            "1257/1257 [==============================] - 1s 870us/step - loss: 0.0021 - acc: 0.0016\n",
            "Epoch 84/100\n",
            "1257/1257 [==============================] - 1s 870us/step - loss: 0.0021 - acc: 0.0016\n",
            "Epoch 85/100\n",
            "1257/1257 [==============================] - 1s 866us/step - loss: 0.0021 - acc: 0.0016\n",
            "Epoch 86/100\n",
            "1257/1257 [==============================] - 1s 885us/step - loss: 0.0020 - acc: 0.0016\n",
            "Epoch 87/100\n",
            "1257/1257 [==============================] - 1s 886us/step - loss: 0.0021 - acc: 0.0016\n",
            "Epoch 88/100\n",
            "1257/1257 [==============================] - 1s 870us/step - loss: 0.0019 - acc: 0.0016\n",
            "Epoch 89/100\n",
            "1257/1257 [==============================] - 1s 871us/step - loss: 0.0019 - acc: 0.0016\n",
            "Epoch 90/100\n",
            "1257/1257 [==============================] - 1s 873us/step - loss: 0.0020 - acc: 0.0016\n",
            "Epoch 91/100\n",
            "1257/1257 [==============================] - 1s 869us/step - loss: 0.0018 - acc: 0.0016\n",
            "Epoch 92/100\n",
            "1257/1257 [==============================] - 1s 872us/step - loss: 0.0020 - acc: 0.0016\n",
            "Epoch 93/100\n",
            "1257/1257 [==============================] - 1s 868us/step - loss: 0.0018 - acc: 0.0016\n",
            "Epoch 94/100\n",
            "1257/1257 [==============================] - 1s 872us/step - loss: 0.0021 - acc: 0.0016\n",
            "Epoch 95/100\n",
            "1257/1257 [==============================] - 1s 887us/step - loss: 0.0020 - acc: 0.0016\n",
            "Epoch 96/100\n",
            "1257/1257 [==============================] - 1s 870us/step - loss: 0.0019 - acc: 0.0016\n",
            "Epoch 97/100\n",
            "1257/1257 [==============================] - 1s 900us/step - loss: 0.0018 - acc: 0.0016\n",
            "Epoch 98/100\n",
            "1257/1257 [==============================] - 1s 883us/step - loss: 0.0019 - acc: 0.0016\n",
            "Epoch 99/100\n",
            "1257/1257 [==============================] - 1s 897us/step - loss: 0.0020 - acc: 0.0016\n",
            "Epoch 100/100\n",
            "1257/1257 [==============================] - 1s 886us/step - loss: 0.0019 - acc: 0.0016\n"
          ],
          "name": "stdout"
        },
        {
          "output_type": "execute_result",
          "data": {
            "text/plain": [
              "<keras.callbacks.History at 0x7fbc0c488128>"
            ]
          },
          "metadata": {
            "tags": []
          },
          "execution_count": 106
        }
      ]
    },
    {
      "metadata": {
        "id": "-2TIJj02pg6k",
        "colab_type": "code",
        "colab": {
          "base_uri": "https://localhost:8080/",
          "height": 68
        },
        "outputId": "a153c57e-f37d-47bf-83dd-7109c4aff191"
      },
      "cell_type": "code",
      "source": [
        "X_train[:2]"
      ],
      "execution_count": 103,
      "outputs": [
        {
          "output_type": "execute_result",
          "data": {
            "text/plain": [
              "array([[[0.08581368]],\n",
              "\n",
              "       [[0.09701243]]])"
            ]
          },
          "metadata": {
            "tags": []
          },
          "execution_count": 103
        }
      ]
    },
    {
      "metadata": {
        "colab_type": "code",
        "outputId": "f033c991-15f1-4bbb-9ae6-af5a80951769",
        "id": "Go_HmRjFjB02",
        "colab": {
          "base_uri": "https://localhost:8080/",
          "height": 111
        }
      },
      "cell_type": "code",
      "source": [
        "train = pd.read_csv('Google_Stock_Price_Train.csv', parse_dates = ['Date'])\n",
        "train = train.sort_values(by = 'Date')\n",
        "train.tail(2)"
      ],
      "execution_count": 74,
      "outputs": [
        {
          "output_type": "execute_result",
          "data": {
            "text/html": [
              "<div>\n",
              "<style scoped>\n",
              "    .dataframe tbody tr th:only-of-type {\n",
              "        vertical-align: middle;\n",
              "    }\n",
              "\n",
              "    .dataframe tbody tr th {\n",
              "        vertical-align: top;\n",
              "    }\n",
              "\n",
              "    .dataframe thead th {\n",
              "        text-align: right;\n",
              "    }\n",
              "</style>\n",
              "<table border=\"1\" class=\"dataframe\">\n",
              "  <thead>\n",
              "    <tr style=\"text-align: right;\">\n",
              "      <th></th>\n",
              "      <th>Date</th>\n",
              "      <th>Open</th>\n",
              "      <th>High</th>\n",
              "      <th>Low</th>\n",
              "      <th>Close</th>\n",
              "      <th>Volume</th>\n",
              "    </tr>\n",
              "  </thead>\n",
              "  <tbody>\n",
              "    <tr>\n",
              "      <th>1256</th>\n",
              "      <td>2016-12-29</td>\n",
              "      <td>783.33</td>\n",
              "      <td>785.93</td>\n",
              "      <td>778.92</td>\n",
              "      <td>782.79</td>\n",
              "      <td>744,300</td>\n",
              "    </tr>\n",
              "    <tr>\n",
              "      <th>1257</th>\n",
              "      <td>2016-12-30</td>\n",
              "      <td>782.75</td>\n",
              "      <td>782.78</td>\n",
              "      <td>770.41</td>\n",
              "      <td>771.82</td>\n",
              "      <td>1,770,000</td>\n",
              "    </tr>\n",
              "  </tbody>\n",
              "</table>\n",
              "</div>"
            ],
            "text/plain": [
              "           Date    Open    High     Low   Close     Volume\n",
              "1256 2016-12-29  783.33  785.93  778.92  782.79    744,300\n",
              "1257 2016-12-30  782.75  782.78  770.41  771.82  1,770,000"
            ]
          },
          "metadata": {
            "tags": []
          },
          "execution_count": 74
        }
      ]
    },
    {
      "metadata": {
        "colab_type": "code",
        "outputId": "eb82acaf-a909-4449-b688-7522ec4562a4",
        "id": "JODgSJHojB1F",
        "colab": {
          "base_uri": "https://localhost:8080/",
          "height": 111
        }
      },
      "cell_type": "code",
      "source": [
        "test = pd.read_csv('Google_Stock_Price_Test.csv', parse_dates = ['Date'])\n",
        "test = test.sort_values(by = 'Date')\n",
        "test.head(2)"
      ],
      "execution_count": 75,
      "outputs": [
        {
          "output_type": "execute_result",
          "data": {
            "text/html": [
              "<div>\n",
              "<style scoped>\n",
              "    .dataframe tbody tr th:only-of-type {\n",
              "        vertical-align: middle;\n",
              "    }\n",
              "\n",
              "    .dataframe tbody tr th {\n",
              "        vertical-align: top;\n",
              "    }\n",
              "\n",
              "    .dataframe thead th {\n",
              "        text-align: right;\n",
              "    }\n",
              "</style>\n",
              "<table border=\"1\" class=\"dataframe\">\n",
              "  <thead>\n",
              "    <tr style=\"text-align: right;\">\n",
              "      <th></th>\n",
              "      <th>Date</th>\n",
              "      <th>Open</th>\n",
              "      <th>High</th>\n",
              "      <th>Low</th>\n",
              "      <th>Close</th>\n",
              "      <th>Volume</th>\n",
              "    </tr>\n",
              "  </thead>\n",
              "  <tbody>\n",
              "    <tr>\n",
              "      <th>0</th>\n",
              "      <td>2017-01-03</td>\n",
              "      <td>778.81</td>\n",
              "      <td>789.63</td>\n",
              "      <td>775.80</td>\n",
              "      <td>786.14</td>\n",
              "      <td>1,657,300</td>\n",
              "    </tr>\n",
              "    <tr>\n",
              "      <th>1</th>\n",
              "      <td>2017-01-04</td>\n",
              "      <td>788.36</td>\n",
              "      <td>791.34</td>\n",
              "      <td>783.16</td>\n",
              "      <td>786.90</td>\n",
              "      <td>1,073,000</td>\n",
              "    </tr>\n",
              "  </tbody>\n",
              "</table>\n",
              "</div>"
            ],
            "text/plain": [
              "        Date    Open    High     Low   Close     Volume\n",
              "0 2017-01-03  778.81  789.63  775.80  786.14  1,657,300\n",
              "1 2017-01-04  788.36  791.34  783.16  786.90  1,073,000"
            ]
          },
          "metadata": {
            "tags": []
          },
          "execution_count": 75
        }
      ]
    },
    {
      "metadata": {
        "id": "URQ2VPhFjXXm",
        "colab_type": "code",
        "colab": {
          "base_uri": "https://localhost:8080/",
          "height": 80
        },
        "outputId": "295ee0b6-e91f-4589-9f6e-cec9ad459f5f"
      },
      "cell_type": "code",
      "source": [
        "test.tail(1)"
      ],
      "execution_count": 76,
      "outputs": [
        {
          "output_type": "execute_result",
          "data": {
            "text/html": [
              "<div>\n",
              "<style scoped>\n",
              "    .dataframe tbody tr th:only-of-type {\n",
              "        vertical-align: middle;\n",
              "    }\n",
              "\n",
              "    .dataframe tbody tr th {\n",
              "        vertical-align: top;\n",
              "    }\n",
              "\n",
              "    .dataframe thead th {\n",
              "        text-align: right;\n",
              "    }\n",
              "</style>\n",
              "<table border=\"1\" class=\"dataframe\">\n",
              "  <thead>\n",
              "    <tr style=\"text-align: right;\">\n",
              "      <th></th>\n",
              "      <th>Date</th>\n",
              "      <th>Open</th>\n",
              "      <th>High</th>\n",
              "      <th>Low</th>\n",
              "      <th>Close</th>\n",
              "      <th>Volume</th>\n",
              "    </tr>\n",
              "  </thead>\n",
              "  <tbody>\n",
              "    <tr>\n",
              "      <th>19</th>\n",
              "      <td>2017-01-31</td>\n",
              "      <td>796.86</td>\n",
              "      <td>801.25</td>\n",
              "      <td>790.52</td>\n",
              "      <td>796.79</td>\n",
              "      <td>2,160,600</td>\n",
              "    </tr>\n",
              "  </tbody>\n",
              "</table>\n",
              "</div>"
            ],
            "text/plain": [
              "         Date    Open    High     Low   Close     Volume\n",
              "19 2017-01-31  796.86  801.25  790.52  796.79  2,160,600"
            ]
          },
          "metadata": {
            "tags": []
          },
          "execution_count": 76
        }
      ]
    },
    {
      "metadata": {
        "id": "8WwLkQSJkdyo",
        "colab_type": "code",
        "colab": {
          "base_uri": "https://localhost:8080/",
          "height": 80
        },
        "outputId": "4653594a-39de-41e8-c839-147e93937c49"
      },
      "cell_type": "code",
      "source": [
        "X_test = train.iloc[1256:1257, 1:2]\n",
        "X_test"
      ],
      "execution_count": 88,
      "outputs": [
        {
          "output_type": "execute_result",
          "data": {
            "text/html": [
              "<div>\n",
              "<style scoped>\n",
              "    .dataframe tbody tr th:only-of-type {\n",
              "        vertical-align: middle;\n",
              "    }\n",
              "\n",
              "    .dataframe tbody tr th {\n",
              "        vertical-align: top;\n",
              "    }\n",
              "\n",
              "    .dataframe thead th {\n",
              "        text-align: right;\n",
              "    }\n",
              "</style>\n",
              "<table border=\"1\" class=\"dataframe\">\n",
              "  <thead>\n",
              "    <tr style=\"text-align: right;\">\n",
              "      <th></th>\n",
              "      <th>Open</th>\n",
              "    </tr>\n",
              "  </thead>\n",
              "  <tbody>\n",
              "    <tr>\n",
              "      <th>1256</th>\n",
              "      <td>783.33</td>\n",
              "    </tr>\n",
              "  </tbody>\n",
              "</table>\n",
              "</div>"
            ],
            "text/plain": [
              "        Open\n",
              "1256  783.33"
            ]
          },
          "metadata": {
            "tags": []
          },
          "execution_count": 88
        }
      ]
    },
    {
      "metadata": {
        "id": "Xveo28nMkwEt",
        "colab_type": "code",
        "colab": {
          "base_uri": "https://localhost:8080/",
          "height": 34
        },
        "outputId": "d9f8bba9-d820-408f-ee67-4ecd2d5a6d1b"
      },
      "cell_type": "code",
      "source": [
        "X_test = X_test.values\n",
        "X_test"
      ],
      "execution_count": 89,
      "outputs": [
        {
          "output_type": "execute_result",
          "data": {
            "text/plain": [
              "array([[783.33]])"
            ]
          },
          "metadata": {
            "tags": []
          },
          "execution_count": 89
        }
      ]
    },
    {
      "metadata": {
        "id": "YU3az453liAx",
        "colab_type": "code",
        "colab": {
          "base_uri": "https://localhost:8080/",
          "height": 34
        },
        "outputId": "ff8b4aa3-cafe-469d-feea-1f97f3af0109"
      },
      "cell_type": "code",
      "source": [
        "X_test.shape"
      ],
      "execution_count": 90,
      "outputs": [
        {
          "output_type": "execute_result",
          "data": {
            "text/plain": [
              "(1, 1)"
            ]
          },
          "metadata": {
            "tags": []
          },
          "execution_count": 90
        }
      ]
    },
    {
      "metadata": {
        "id": "J-r72MBhlkxG",
        "colab_type": "code",
        "colab": {
          "base_uri": "https://localhost:8080/",
          "height": 34
        },
        "outputId": "4778503a-7738-46e4-9734-c0b1ebe08277"
      },
      "cell_type": "code",
      "source": [
        "X_test = np.reshape(X_test, (X_test.shape[0], X_test.shape[1], 1))\n",
        "X_test.shape"
      ],
      "execution_count": 91,
      "outputs": [
        {
          "output_type": "execute_result",
          "data": {
            "text/plain": [
              "(1, 1, 1)"
            ]
          },
          "metadata": {
            "tags": []
          },
          "execution_count": 91
        }
      ]
    },
    {
      "metadata": {
        "id": "Y8TemnKRl_0k",
        "colab_type": "code",
        "colab": {
          "base_uri": "https://localhost:8080/",
          "height": 34
        },
        "outputId": "c99e1aa1-d113-4ba9-bef5-3563b5a7981e"
      },
      "cell_type": "code",
      "source": [
        "X_test"
      ],
      "execution_count": 110,
      "outputs": [
        {
          "output_type": "execute_result",
          "data": {
            "text/plain": [
              "array([[[783.33]]])"
            ]
          },
          "metadata": {
            "tags": []
          },
          "execution_count": 110
        }
      ]
    },
    {
      "metadata": {
        "id": "D2fNn0aJrINw",
        "colab_type": "code",
        "colab": {}
      },
      "cell_type": "code",
      "source": [
        "y_predict = regressor.predict(X_test)"
      ],
      "execution_count": 0,
      "outputs": []
    },
    {
      "metadata": {
        "id": "MTpp8xz0rQGS",
        "colab_type": "code",
        "colab": {
          "base_uri": "https://localhost:8080/",
          "height": 34
        },
        "outputId": "321db8dc-b5b7-485c-d438-bffdfcd72284"
      },
      "cell_type": "code",
      "source": [
        "y_predict"
      ],
      "execution_count": 112,
      "outputs": [
        {
          "output_type": "execute_result",
          "data": {
            "text/plain": [
              "array([[-0.20455475]], dtype=float32)"
            ]
          },
          "metadata": {
            "tags": []
          },
          "execution_count": 112
        }
      ]
    },
    {
      "metadata": {
        "id": "A_2nlESFrRsX",
        "colab_type": "code",
        "colab": {
          "base_uri": "https://localhost:8080/",
          "height": 34
        },
        "outputId": "9f343808-d907-48af-98ec-efa56b49dd67"
      },
      "cell_type": "code",
      "source": [
        "sc.inverse_transform(y_predict)"
      ],
      "execution_count": 113,
      "outputs": [
        {
          "output_type": "execute_result",
          "data": {
            "text/plain": [
              "array([[169.15955]], dtype=float32)"
            ]
          },
          "metadata": {
            "tags": []
          },
          "execution_count": 113
        }
      ]
    },
    {
      "metadata": {
        "id": "ktLKsiKwrYfd",
        "colab_type": "code",
        "colab": {}
      },
      "cell_type": "code",
      "source": [
        "test"
      ],
      "execution_count": 0,
      "outputs": []
    }
  ]
}