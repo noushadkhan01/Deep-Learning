{
  "nbformat": 4,
  "nbformat_minor": 0,
  "metadata": {
    "colab": {
      "name": "bank customers calssification for exiting the bank.ipynb",
      "version": "0.3.2",
      "provenance": [],
      "include_colab_link": true
    },
    "kernelspec": {
      "name": "python3",
      "display_name": "Python 3"
    },
    "accelerator": "TPU"
  },
  "cells": [
    {
      "cell_type": "markdown",
      "metadata": {
        "id": "view-in-github",
        "colab_type": "text"
      },
      "source": [
        "<a href=\"https://colab.research.google.com/github/noushadkhan01/tensorflow/blob/master/classification/bank_customers_calssification_for_exiting_the_bank2.ipynb\" target=\"_parent\"><img src=\"https://colab.research.google.com/assets/colab-badge.svg\" alt=\"Open In Colab\"/></a>"
      ]
    },
    {
      "metadata": {
        "id": "S99Srbfbfibd",
        "colab_type": "code",
        "colab": {}
      },
      "cell_type": "code",
      "source": [
        "import pandas as pd\n",
        "import numpy as np\n",
        "import seaborn as sns\n",
        "import matplotlib.pyplot as plt\n",
        "%matplotlib inline"
      ],
      "execution_count": 0,
      "outputs": []
    },
    {
      "metadata": {
        "id": "79frOvwXfs_5",
        "colab_type": "text"
      },
      "cell_type": "markdown",
      "source": [
        "from google.colab import files\n",
        "files.upload()"
      ]
    },
    {
      "metadata": {
        "id": "cVEWMpdfxZOw",
        "colab_type": "code",
        "outputId": "9b28a0b3-5820-4692-e592-74e25897b7ae",
        "colab": {
          "base_uri": "https://localhost:8080/",
          "height": 51
        }
      },
      "cell_type": "code",
      "source": [
        "!ls"
      ],
      "execution_count": 2,
      "outputs": [
        {
          "output_type": "stream",
          "text": [
            "cleaned_test.csv   kaggle.json\t     sample_data\n",
            "cleaned_train.csv  Machine-Learning  submission_epochs100.csv\n"
          ],
          "name": "stdout"
        }
      ]
    },
    {
      "metadata": {
        "id": "13-RhZ8SxbvY",
        "colab_type": "code",
        "outputId": "cef35d65-6c9c-4726-a075-48753a7c6d9b",
        "colab": {
          "base_uri": "https://localhost:8080/",
          "height": 119
        }
      },
      "cell_type": "code",
      "source": [
        "!git clone https://github.com/noushadkhan01/tensorflow.git"
      ],
      "execution_count": 3,
      "outputs": [
        {
          "output_type": "stream",
          "text": [
            "Cloning into 'tensorflow'...\n",
            "remote: Enumerating objects: 30, done.\u001b[K\n",
            "remote: Counting objects:   3% (1/30)   \u001b[K\rremote: Counting objects:   6% (2/30)   \u001b[K\rremote: Counting objects:  10% (3/30)   \u001b[K\rremote: Counting objects:  13% (4/30)   \u001b[K\rremote: Counting objects:  16% (5/30)   \u001b[K\rremote: Counting objects:  20% (6/30)   \u001b[K\rremote: Counting objects:  23% (7/30)   \u001b[K\rremote: Counting objects:  26% (8/30)   \u001b[K\rremote: Counting objects:  30% (9/30)   \u001b[K\rremote: Counting objects:  33% (10/30)   \u001b[K\rremote: Counting objects:  36% (11/30)   \u001b[K\rremote: Counting objects:  40% (12/30)   \u001b[K\rremote: Counting objects:  43% (13/30)   \u001b[K\rremote: Counting objects:  46% (14/30)   \u001b[K\rremote: Counting objects:  50% (15/30)   \u001b[K\rremote: Counting objects:  53% (16/30)   \u001b[K\rremote: Counting objects:  56% (17/30)   \u001b[K\rremote: Counting objects:  60% (18/30)   \u001b[K\rremote: Counting objects:  63% (19/30)   \u001b[K\rremote: Counting objects:  66% (20/30)   \u001b[K\rremote: Counting objects:  70% (21/30)   \u001b[K\rremote: Counting objects:  73% (22/30)   \u001b[K\rremote: Counting objects:  76% (23/30)   \u001b[K\rremote: Counting objects:  80% (24/30)   \u001b[K\rremote: Counting objects:  83% (25/30)   \u001b[K\rremote: Counting objects:  86% (26/30)   \u001b[K\rremote: Counting objects:  90% (27/30)   \u001b[K\rremote: Counting objects:  93% (28/30)   \u001b[K\rremote: Counting objects:  96% (29/30)   \u001b[K\rremote: Counting objects: 100% (30/30)   \u001b[K\rremote: Counting objects: 100% (30/30), done.\u001b[K\n",
            "remote: Compressing objects:   3% (1/26)   \u001b[K\rremote: Compressing objects:   7% (2/26)   \u001b[K\rremote: Compressing objects:  11% (3/26)   \u001b[K\rremote: Compressing objects:  15% (4/26)   \u001b[K\rremote: Compressing objects:  19% (5/26)   \u001b[K\rremote: Compressing objects:  23% (6/26)   \u001b[K\rremote: Compressing objects:  26% (7/26)   \u001b[K\rremote: Compressing objects:  30% (8/26)   \u001b[K\rremote: Compressing objects:  34% (9/26)   \u001b[K\rremote: Compressing objects:  38% (10/26)   \u001b[K\rremote: Compressing objects:  42% (11/26)   \u001b[K\rremote: Compressing objects:  46% (12/26)   \u001b[K\rremote: Compressing objects:  50% (13/26)   \u001b[K\rremote: Compressing objects:  53% (14/26)   \u001b[K\rremote: Compressing objects:  57% (15/26)   \u001b[K\rremote: Compressing objects:  61% (16/26)   \u001b[K\rremote: Compressing objects:  65% (17/26)   \u001b[K\rremote: Compressing objects:  69% (18/26)   \u001b[K\rremote: Compressing objects:  73% (19/26)   \u001b[K\rremote: Compressing objects:  76% (20/26)   \u001b[K\rremote: Compressing objects:  80% (21/26)   \u001b[K\rremote: Compressing objects:  84% (22/26)   \u001b[K\rremote: Compressing objects:  88% (23/26)   \u001b[K\rremote: Compressing objects:  92% (24/26)   \u001b[K\rremote: Compressing objects:  96% (25/26)   \u001b[K\rremote: Compressing objects: 100% (26/26)   \u001b[K\rremote: Compressing objects: 100% (26/26), done.\u001b[K\n",
            "Unpacking objects:   3% (1/30)   \rUnpacking objects:   6% (2/30)   \rUnpacking objects:  10% (3/30)   \rUnpacking objects:  13% (4/30)   \rUnpacking objects:  16% (5/30)   \rUnpacking objects:  20% (6/30)   \rUnpacking objects:  23% (7/30)   \rUnpacking objects:  26% (8/30)   \rUnpacking objects:  30% (9/30)   \rUnpacking objects:  33% (10/30)   \rUnpacking objects:  36% (11/30)   \rUnpacking objects:  40% (12/30)   \rUnpacking objects:  43% (13/30)   \rUnpacking objects:  46% (14/30)   \rUnpacking objects:  50% (15/30)   \rremote: Total 30 (delta 11), reused 0 (delta 0), pack-reused 0\u001b[K\n",
            "Unpacking objects:  53% (16/30)   \rUnpacking objects:  56% (17/30)   \rUnpacking objects:  60% (18/30)   \rUnpacking objects:  63% (19/30)   \rUnpacking objects:  66% (20/30)   \rUnpacking objects:  70% (21/30)   \rUnpacking objects:  73% (22/30)   \rUnpacking objects:  76% (23/30)   \rUnpacking objects:  80% (24/30)   \rUnpacking objects:  83% (25/30)   \rUnpacking objects:  86% (26/30)   \rUnpacking objects:  90% (27/30)   \rUnpacking objects:  93% (28/30)   \rUnpacking objects:  96% (29/30)   \rUnpacking objects: 100% (30/30)   \rUnpacking objects: 100% (30/30), done.\n"
          ],
          "name": "stdout"
        }
      ]
    },
    {
      "metadata": {
        "id": "2ONBK5xExbd4",
        "colab_type": "code",
        "outputId": "47afef83-14b1-4e86-afc1-4dd5d2d84a97",
        "colab": {
          "base_uri": "https://localhost:8080/",
          "height": 51
        }
      },
      "cell_type": "code",
      "source": [
        "!ls"
      ],
      "execution_count": 4,
      "outputs": [
        {
          "output_type": "stream",
          "text": [
            "cleaned_test.csv   kaggle.json\t     sample_data\t       tensorflow\n",
            "cleaned_train.csv  Machine-Learning  submission_epochs100.csv\n"
          ],
          "name": "stdout"
        }
      ]
    },
    {
      "metadata": {
        "id": "oQv0_MRnfxdw",
        "colab_type": "code",
        "outputId": "b1628829-6837-42ec-9e83-7c9d1e528ab2",
        "colab": {
          "base_uri": "https://localhost:8080/",
          "height": 204
        }
      },
      "cell_type": "code",
      "source": [
        "df = pd.read_csv('tensorflow/classification/Churn_Modelling.csv')\n",
        "df.head()"
      ],
      "execution_count": 5,
      "outputs": [
        {
          "output_type": "execute_result",
          "data": {
            "text/html": [
              "<div>\n",
              "<style scoped>\n",
              "    .dataframe tbody tr th:only-of-type {\n",
              "        vertical-align: middle;\n",
              "    }\n",
              "\n",
              "    .dataframe tbody tr th {\n",
              "        vertical-align: top;\n",
              "    }\n",
              "\n",
              "    .dataframe thead th {\n",
              "        text-align: right;\n",
              "    }\n",
              "</style>\n",
              "<table border=\"1\" class=\"dataframe\">\n",
              "  <thead>\n",
              "    <tr style=\"text-align: right;\">\n",
              "      <th></th>\n",
              "      <th>RowNumber</th>\n",
              "      <th>CustomerId</th>\n",
              "      <th>Surname</th>\n",
              "      <th>CreditScore</th>\n",
              "      <th>Geography</th>\n",
              "      <th>Gender</th>\n",
              "      <th>Age</th>\n",
              "      <th>Tenure</th>\n",
              "      <th>Balance</th>\n",
              "      <th>NumOfProducts</th>\n",
              "      <th>HasCrCard</th>\n",
              "      <th>IsActiveMember</th>\n",
              "      <th>EstimatedSalary</th>\n",
              "      <th>Exited</th>\n",
              "    </tr>\n",
              "  </thead>\n",
              "  <tbody>\n",
              "    <tr>\n",
              "      <th>0</th>\n",
              "      <td>1</td>\n",
              "      <td>15634602</td>\n",
              "      <td>Hargrave</td>\n",
              "      <td>619</td>\n",
              "      <td>France</td>\n",
              "      <td>Female</td>\n",
              "      <td>42</td>\n",
              "      <td>2</td>\n",
              "      <td>0.00</td>\n",
              "      <td>1</td>\n",
              "      <td>1</td>\n",
              "      <td>1</td>\n",
              "      <td>101348.88</td>\n",
              "      <td>1</td>\n",
              "    </tr>\n",
              "    <tr>\n",
              "      <th>1</th>\n",
              "      <td>2</td>\n",
              "      <td>15647311</td>\n",
              "      <td>Hill</td>\n",
              "      <td>608</td>\n",
              "      <td>Spain</td>\n",
              "      <td>Female</td>\n",
              "      <td>41</td>\n",
              "      <td>1</td>\n",
              "      <td>83807.86</td>\n",
              "      <td>1</td>\n",
              "      <td>0</td>\n",
              "      <td>1</td>\n",
              "      <td>112542.58</td>\n",
              "      <td>0</td>\n",
              "    </tr>\n",
              "    <tr>\n",
              "      <th>2</th>\n",
              "      <td>3</td>\n",
              "      <td>15619304</td>\n",
              "      <td>Onio</td>\n",
              "      <td>502</td>\n",
              "      <td>France</td>\n",
              "      <td>Female</td>\n",
              "      <td>42</td>\n",
              "      <td>8</td>\n",
              "      <td>159660.80</td>\n",
              "      <td>3</td>\n",
              "      <td>1</td>\n",
              "      <td>0</td>\n",
              "      <td>113931.57</td>\n",
              "      <td>1</td>\n",
              "    </tr>\n",
              "    <tr>\n",
              "      <th>3</th>\n",
              "      <td>4</td>\n",
              "      <td>15701354</td>\n",
              "      <td>Boni</td>\n",
              "      <td>699</td>\n",
              "      <td>France</td>\n",
              "      <td>Female</td>\n",
              "      <td>39</td>\n",
              "      <td>1</td>\n",
              "      <td>0.00</td>\n",
              "      <td>2</td>\n",
              "      <td>0</td>\n",
              "      <td>0</td>\n",
              "      <td>93826.63</td>\n",
              "      <td>0</td>\n",
              "    </tr>\n",
              "    <tr>\n",
              "      <th>4</th>\n",
              "      <td>5</td>\n",
              "      <td>15737888</td>\n",
              "      <td>Mitchell</td>\n",
              "      <td>850</td>\n",
              "      <td>Spain</td>\n",
              "      <td>Female</td>\n",
              "      <td>43</td>\n",
              "      <td>2</td>\n",
              "      <td>125510.82</td>\n",
              "      <td>1</td>\n",
              "      <td>1</td>\n",
              "      <td>1</td>\n",
              "      <td>79084.10</td>\n",
              "      <td>0</td>\n",
              "    </tr>\n",
              "  </tbody>\n",
              "</table>\n",
              "</div>"
            ],
            "text/plain": [
              "   RowNumber  CustomerId   Surname  CreditScore Geography  Gender  Age  \\\n",
              "0          1    15634602  Hargrave          619    France  Female   42   \n",
              "1          2    15647311      Hill          608     Spain  Female   41   \n",
              "2          3    15619304      Onio          502    France  Female   42   \n",
              "3          4    15701354      Boni          699    France  Female   39   \n",
              "4          5    15737888  Mitchell          850     Spain  Female   43   \n",
              "\n",
              "   Tenure    Balance  NumOfProducts  HasCrCard  IsActiveMember  \\\n",
              "0       2       0.00              1          1               1   \n",
              "1       1   83807.86              1          0               1   \n",
              "2       8  159660.80              3          1               0   \n",
              "3       1       0.00              2          0               0   \n",
              "4       2  125510.82              1          1               1   \n",
              "\n",
              "   EstimatedSalary  Exited  \n",
              "0        101348.88       1  \n",
              "1        112542.58       0  \n",
              "2        113931.57       1  \n",
              "3         93826.63       0  \n",
              "4         79084.10       0  "
            ]
          },
          "metadata": {
            "tags": []
          },
          "execution_count": 5
        }
      ]
    },
    {
      "metadata": {
        "id": "zDubxtvaf7vQ",
        "colab_type": "code",
        "outputId": "3ba21fbe-ff14-470b-dd09-c7a931020b57",
        "colab": {
          "base_uri": "https://localhost:8080/",
          "height": 34
        }
      },
      "cell_type": "code",
      "source": [
        "df.shape"
      ],
      "execution_count": 6,
      "outputs": [
        {
          "output_type": "execute_result",
          "data": {
            "text/plain": [
              "(10000, 14)"
            ]
          },
          "metadata": {
            "tags": []
          },
          "execution_count": 6
        }
      ]
    },
    {
      "metadata": {
        "id": "dyotbPV0f-i4",
        "colab_type": "code",
        "outputId": "dc810679-2d00-48a3-e5ac-e2000bc4fe03",
        "colab": {
          "base_uri": "https://localhost:8080/",
          "height": 340
        }
      },
      "cell_type": "code",
      "source": [
        "df.info()"
      ],
      "execution_count": 7,
      "outputs": [
        {
          "output_type": "stream",
          "text": [
            "<class 'pandas.core.frame.DataFrame'>\n",
            "RangeIndex: 10000 entries, 0 to 9999\n",
            "Data columns (total 14 columns):\n",
            "RowNumber          10000 non-null int64\n",
            "CustomerId         10000 non-null int64\n",
            "Surname            10000 non-null object\n",
            "CreditScore        10000 non-null int64\n",
            "Geography          10000 non-null object\n",
            "Gender             10000 non-null object\n",
            "Age                10000 non-null int64\n",
            "Tenure             10000 non-null int64\n",
            "Balance            10000 non-null float64\n",
            "NumOfProducts      10000 non-null int64\n",
            "HasCrCard          10000 non-null int64\n",
            "IsActiveMember     10000 non-null int64\n",
            "EstimatedSalary    10000 non-null float64\n",
            "Exited             10000 non-null int64\n",
            "dtypes: float64(2), int64(9), object(3)\n",
            "memory usage: 1.1+ MB\n"
          ],
          "name": "stdout"
        }
      ]
    },
    {
      "metadata": {
        "id": "HQo3UiHlf_h8",
        "colab_type": "code",
        "outputId": "f9837ab5-455b-4525-a089-83a0c1408666",
        "colab": {
          "base_uri": "https://localhost:8080/",
          "height": 317
        }
      },
      "cell_type": "code",
      "source": [
        "df.describe()"
      ],
      "execution_count": 8,
      "outputs": [
        {
          "output_type": "execute_result",
          "data": {
            "text/html": [
              "<div>\n",
              "<style scoped>\n",
              "    .dataframe tbody tr th:only-of-type {\n",
              "        vertical-align: middle;\n",
              "    }\n",
              "\n",
              "    .dataframe tbody tr th {\n",
              "        vertical-align: top;\n",
              "    }\n",
              "\n",
              "    .dataframe thead th {\n",
              "        text-align: right;\n",
              "    }\n",
              "</style>\n",
              "<table border=\"1\" class=\"dataframe\">\n",
              "  <thead>\n",
              "    <tr style=\"text-align: right;\">\n",
              "      <th></th>\n",
              "      <th>RowNumber</th>\n",
              "      <th>CustomerId</th>\n",
              "      <th>CreditScore</th>\n",
              "      <th>Age</th>\n",
              "      <th>Tenure</th>\n",
              "      <th>Balance</th>\n",
              "      <th>NumOfProducts</th>\n",
              "      <th>HasCrCard</th>\n",
              "      <th>IsActiveMember</th>\n",
              "      <th>EstimatedSalary</th>\n",
              "      <th>Exited</th>\n",
              "    </tr>\n",
              "  </thead>\n",
              "  <tbody>\n",
              "    <tr>\n",
              "      <th>count</th>\n",
              "      <td>10000.00000</td>\n",
              "      <td>1.000000e+04</td>\n",
              "      <td>10000.000000</td>\n",
              "      <td>10000.000000</td>\n",
              "      <td>10000.000000</td>\n",
              "      <td>10000.000000</td>\n",
              "      <td>10000.000000</td>\n",
              "      <td>10000.00000</td>\n",
              "      <td>10000.000000</td>\n",
              "      <td>10000.000000</td>\n",
              "      <td>10000.000000</td>\n",
              "    </tr>\n",
              "    <tr>\n",
              "      <th>mean</th>\n",
              "      <td>5000.50000</td>\n",
              "      <td>1.569094e+07</td>\n",
              "      <td>650.528800</td>\n",
              "      <td>38.921800</td>\n",
              "      <td>5.012800</td>\n",
              "      <td>76485.889288</td>\n",
              "      <td>1.530200</td>\n",
              "      <td>0.70550</td>\n",
              "      <td>0.515100</td>\n",
              "      <td>100090.239881</td>\n",
              "      <td>0.203700</td>\n",
              "    </tr>\n",
              "    <tr>\n",
              "      <th>std</th>\n",
              "      <td>2886.89568</td>\n",
              "      <td>7.193619e+04</td>\n",
              "      <td>96.653299</td>\n",
              "      <td>10.487806</td>\n",
              "      <td>2.892174</td>\n",
              "      <td>62397.405202</td>\n",
              "      <td>0.581654</td>\n",
              "      <td>0.45584</td>\n",
              "      <td>0.499797</td>\n",
              "      <td>57510.492818</td>\n",
              "      <td>0.402769</td>\n",
              "    </tr>\n",
              "    <tr>\n",
              "      <th>min</th>\n",
              "      <td>1.00000</td>\n",
              "      <td>1.556570e+07</td>\n",
              "      <td>350.000000</td>\n",
              "      <td>18.000000</td>\n",
              "      <td>0.000000</td>\n",
              "      <td>0.000000</td>\n",
              "      <td>1.000000</td>\n",
              "      <td>0.00000</td>\n",
              "      <td>0.000000</td>\n",
              "      <td>11.580000</td>\n",
              "      <td>0.000000</td>\n",
              "    </tr>\n",
              "    <tr>\n",
              "      <th>25%</th>\n",
              "      <td>2500.75000</td>\n",
              "      <td>1.562853e+07</td>\n",
              "      <td>584.000000</td>\n",
              "      <td>32.000000</td>\n",
              "      <td>3.000000</td>\n",
              "      <td>0.000000</td>\n",
              "      <td>1.000000</td>\n",
              "      <td>0.00000</td>\n",
              "      <td>0.000000</td>\n",
              "      <td>51002.110000</td>\n",
              "      <td>0.000000</td>\n",
              "    </tr>\n",
              "    <tr>\n",
              "      <th>50%</th>\n",
              "      <td>5000.50000</td>\n",
              "      <td>1.569074e+07</td>\n",
              "      <td>652.000000</td>\n",
              "      <td>37.000000</td>\n",
              "      <td>5.000000</td>\n",
              "      <td>97198.540000</td>\n",
              "      <td>1.000000</td>\n",
              "      <td>1.00000</td>\n",
              "      <td>1.000000</td>\n",
              "      <td>100193.915000</td>\n",
              "      <td>0.000000</td>\n",
              "    </tr>\n",
              "    <tr>\n",
              "      <th>75%</th>\n",
              "      <td>7500.25000</td>\n",
              "      <td>1.575323e+07</td>\n",
              "      <td>718.000000</td>\n",
              "      <td>44.000000</td>\n",
              "      <td>7.000000</td>\n",
              "      <td>127644.240000</td>\n",
              "      <td>2.000000</td>\n",
              "      <td>1.00000</td>\n",
              "      <td>1.000000</td>\n",
              "      <td>149388.247500</td>\n",
              "      <td>0.000000</td>\n",
              "    </tr>\n",
              "    <tr>\n",
              "      <th>max</th>\n",
              "      <td>10000.00000</td>\n",
              "      <td>1.581569e+07</td>\n",
              "      <td>850.000000</td>\n",
              "      <td>92.000000</td>\n",
              "      <td>10.000000</td>\n",
              "      <td>250898.090000</td>\n",
              "      <td>4.000000</td>\n",
              "      <td>1.00000</td>\n",
              "      <td>1.000000</td>\n",
              "      <td>199992.480000</td>\n",
              "      <td>1.000000</td>\n",
              "    </tr>\n",
              "  </tbody>\n",
              "</table>\n",
              "</div>"
            ],
            "text/plain": [
              "         RowNumber    CustomerId   CreditScore           Age        Tenure  \\\n",
              "count  10000.00000  1.000000e+04  10000.000000  10000.000000  10000.000000   \n",
              "mean    5000.50000  1.569094e+07    650.528800     38.921800      5.012800   \n",
              "std     2886.89568  7.193619e+04     96.653299     10.487806      2.892174   \n",
              "min        1.00000  1.556570e+07    350.000000     18.000000      0.000000   \n",
              "25%     2500.75000  1.562853e+07    584.000000     32.000000      3.000000   \n",
              "50%     5000.50000  1.569074e+07    652.000000     37.000000      5.000000   \n",
              "75%     7500.25000  1.575323e+07    718.000000     44.000000      7.000000   \n",
              "max    10000.00000  1.581569e+07    850.000000     92.000000     10.000000   \n",
              "\n",
              "             Balance  NumOfProducts    HasCrCard  IsActiveMember  \\\n",
              "count   10000.000000   10000.000000  10000.00000    10000.000000   \n",
              "mean    76485.889288       1.530200      0.70550        0.515100   \n",
              "std     62397.405202       0.581654      0.45584        0.499797   \n",
              "min         0.000000       1.000000      0.00000        0.000000   \n",
              "25%         0.000000       1.000000      0.00000        0.000000   \n",
              "50%     97198.540000       1.000000      1.00000        1.000000   \n",
              "75%    127644.240000       2.000000      1.00000        1.000000   \n",
              "max    250898.090000       4.000000      1.00000        1.000000   \n",
              "\n",
              "       EstimatedSalary        Exited  \n",
              "count     10000.000000  10000.000000  \n",
              "mean     100090.239881      0.203700  \n",
              "std       57510.492818      0.402769  \n",
              "min          11.580000      0.000000  \n",
              "25%       51002.110000      0.000000  \n",
              "50%      100193.915000      0.000000  \n",
              "75%      149388.247500      0.000000  \n",
              "max      199992.480000      1.000000  "
            ]
          },
          "metadata": {
            "tags": []
          },
          "execution_count": 8
        }
      ]
    },
    {
      "metadata": {
        "id": "nE0p3BFggAto",
        "colab_type": "text"
      },
      "cell_type": "markdown",
      "source": [
        "## check for null values"
      ]
    },
    {
      "metadata": {
        "id": "jNEcDk-_gDs-",
        "colab_type": "code",
        "outputId": "e7998361-7f0d-4f67-ecf2-42e617f7da58",
        "colab": {
          "base_uri": "https://localhost:8080/",
          "height": 68
        }
      },
      "cell_type": "code",
      "source": [
        "df.isnull().sum().sort_values(ascending = False)[:2]"
      ],
      "execution_count": 9,
      "outputs": [
        {
          "output_type": "execute_result",
          "data": {
            "text/plain": [
              "Exited             0\n",
              "EstimatedSalary    0\n",
              "dtype: int64"
            ]
          },
          "metadata": {
            "tags": []
          },
          "execution_count": 9
        }
      ]
    },
    {
      "metadata": {
        "id": "pCkbns8fgH_F",
        "colab_type": "text"
      },
      "cell_type": "markdown",
      "source": [
        "**^^as u can see there is no null value**"
      ]
    },
    {
      "metadata": {
        "id": "uv6nWlkWgUB0",
        "colab_type": "code",
        "outputId": "cdbc2238-84b7-423c-d4ff-51803030336e",
        "colab": {
          "base_uri": "https://localhost:8080/",
          "height": 221
        }
      },
      "cell_type": "code",
      "source": [
        "df.skew()"
      ],
      "execution_count": 10,
      "outputs": [
        {
          "output_type": "execute_result",
          "data": {
            "text/plain": [
              "RowNumber          0.000000\n",
              "CustomerId         0.001149\n",
              "CreditScore       -0.071607\n",
              "Age                1.011320\n",
              "Tenure             0.010991\n",
              "Balance           -0.141109\n",
              "NumOfProducts      0.745568\n",
              "HasCrCard         -0.901812\n",
              "IsActiveMember    -0.060437\n",
              "EstimatedSalary    0.002085\n",
              "Exited             1.471611\n",
              "dtype: float64"
            ]
          },
          "metadata": {
            "tags": []
          },
          "execution_count": 10
        }
      ]
    },
    {
      "metadata": {
        "id": "q7OojanNgllv",
        "colab_type": "code",
        "outputId": "d6581ecf-af51-46b1-d682-65386b85c83e",
        "colab": {
          "base_uri": "https://localhost:8080/",
          "height": 34
        }
      },
      "cell_type": "code",
      "source": [
        "np.log1p(df.Age).skew()"
      ],
      "execution_count": 11,
      "outputs": [
        {
          "output_type": "execute_result",
          "data": {
            "text/plain": [
              "0.20336041516983316"
            ]
          },
          "metadata": {
            "tags": []
          },
          "execution_count": 11
        }
      ]
    },
    {
      "metadata": {
        "id": "u7d9RSYyiOKm",
        "colab_type": "text"
      },
      "cell_type": "markdown",
      "source": [
        "## import important dependencies"
      ]
    },
    {
      "metadata": {
        "id": "kHURLRKli0yL",
        "colab_type": "code",
        "colab": {}
      },
      "cell_type": "code",
      "source": [
        "import tensorflow as tf\n",
        "from tensorflow import keras"
      ],
      "execution_count": 0,
      "outputs": []
    },
    {
      "metadata": {
        "id": "h3LD0pKijiDY",
        "colab_type": "code",
        "outputId": "d8c3e867-da08-4300-ce2c-d7594ba7b5db",
        "colab": {
          "base_uri": "https://localhost:8080/",
          "height": 80
        }
      },
      "cell_type": "code",
      "source": [
        "df.head(1)"
      ],
      "execution_count": 13,
      "outputs": [
        {
          "output_type": "execute_result",
          "data": {
            "text/html": [
              "<div>\n",
              "<style scoped>\n",
              "    .dataframe tbody tr th:only-of-type {\n",
              "        vertical-align: middle;\n",
              "    }\n",
              "\n",
              "    .dataframe tbody tr th {\n",
              "        vertical-align: top;\n",
              "    }\n",
              "\n",
              "    .dataframe thead th {\n",
              "        text-align: right;\n",
              "    }\n",
              "</style>\n",
              "<table border=\"1\" class=\"dataframe\">\n",
              "  <thead>\n",
              "    <tr style=\"text-align: right;\">\n",
              "      <th></th>\n",
              "      <th>RowNumber</th>\n",
              "      <th>CustomerId</th>\n",
              "      <th>Surname</th>\n",
              "      <th>CreditScore</th>\n",
              "      <th>Geography</th>\n",
              "      <th>Gender</th>\n",
              "      <th>Age</th>\n",
              "      <th>Tenure</th>\n",
              "      <th>Balance</th>\n",
              "      <th>NumOfProducts</th>\n",
              "      <th>HasCrCard</th>\n",
              "      <th>IsActiveMember</th>\n",
              "      <th>EstimatedSalary</th>\n",
              "      <th>Exited</th>\n",
              "    </tr>\n",
              "  </thead>\n",
              "  <tbody>\n",
              "    <tr>\n",
              "      <th>0</th>\n",
              "      <td>1</td>\n",
              "      <td>15634602</td>\n",
              "      <td>Hargrave</td>\n",
              "      <td>619</td>\n",
              "      <td>France</td>\n",
              "      <td>Female</td>\n",
              "      <td>42</td>\n",
              "      <td>2</td>\n",
              "      <td>0.0</td>\n",
              "      <td>1</td>\n",
              "      <td>1</td>\n",
              "      <td>1</td>\n",
              "      <td>101348.88</td>\n",
              "      <td>1</td>\n",
              "    </tr>\n",
              "  </tbody>\n",
              "</table>\n",
              "</div>"
            ],
            "text/plain": [
              "   RowNumber  CustomerId   Surname  CreditScore Geography  Gender  Age  \\\n",
              "0          1    15634602  Hargrave          619    France  Female   42   \n",
              "\n",
              "   Tenure  Balance  NumOfProducts  HasCrCard  IsActiveMember  EstimatedSalary  \\\n",
              "0       2      0.0              1          1               1        101348.88   \n",
              "\n",
              "   Exited  \n",
              "0       1  "
            ]
          },
          "metadata": {
            "tags": []
          },
          "execution_count": 13
        }
      ]
    },
    {
      "metadata": {
        "id": "bqgrcYKKj2de",
        "colab_type": "code",
        "outputId": "3744a8bd-667a-4b7e-9430-47b29bc84adb",
        "colab": {
          "base_uri": "https://localhost:8080/",
          "height": 80
        }
      },
      "cell_type": "code",
      "source": [
        "df = df.iloc[:, 3:]\n",
        "df.head(1)"
      ],
      "execution_count": 14,
      "outputs": [
        {
          "output_type": "execute_result",
          "data": {
            "text/html": [
              "<div>\n",
              "<style scoped>\n",
              "    .dataframe tbody tr th:only-of-type {\n",
              "        vertical-align: middle;\n",
              "    }\n",
              "\n",
              "    .dataframe tbody tr th {\n",
              "        vertical-align: top;\n",
              "    }\n",
              "\n",
              "    .dataframe thead th {\n",
              "        text-align: right;\n",
              "    }\n",
              "</style>\n",
              "<table border=\"1\" class=\"dataframe\">\n",
              "  <thead>\n",
              "    <tr style=\"text-align: right;\">\n",
              "      <th></th>\n",
              "      <th>CreditScore</th>\n",
              "      <th>Geography</th>\n",
              "      <th>Gender</th>\n",
              "      <th>Age</th>\n",
              "      <th>Tenure</th>\n",
              "      <th>Balance</th>\n",
              "      <th>NumOfProducts</th>\n",
              "      <th>HasCrCard</th>\n",
              "      <th>IsActiveMember</th>\n",
              "      <th>EstimatedSalary</th>\n",
              "      <th>Exited</th>\n",
              "    </tr>\n",
              "  </thead>\n",
              "  <tbody>\n",
              "    <tr>\n",
              "      <th>0</th>\n",
              "      <td>619</td>\n",
              "      <td>France</td>\n",
              "      <td>Female</td>\n",
              "      <td>42</td>\n",
              "      <td>2</td>\n",
              "      <td>0.0</td>\n",
              "      <td>1</td>\n",
              "      <td>1</td>\n",
              "      <td>1</td>\n",
              "      <td>101348.88</td>\n",
              "      <td>1</td>\n",
              "    </tr>\n",
              "  </tbody>\n",
              "</table>\n",
              "</div>"
            ],
            "text/plain": [
              "   CreditScore Geography  Gender  Age  Tenure  Balance  NumOfProducts  \\\n",
              "0          619    France  Female   42       2      0.0              1   \n",
              "\n",
              "   HasCrCard  IsActiveMember  EstimatedSalary  Exited  \n",
              "0          1               1        101348.88       1  "
            ]
          },
          "metadata": {
            "tags": []
          },
          "execution_count": 14
        }
      ]
    },
    {
      "metadata": {
        "id": "I2DQlX3LkAjW",
        "colab_type": "code",
        "outputId": "7436990c-5f08-4e2c-d152-a981f2a080f9",
        "colab": {
          "base_uri": "https://localhost:8080/",
          "height": 80
        }
      },
      "cell_type": "code",
      "source": [
        "df = pd.get_dummies(df, drop_first = True)\n",
        "df.head(1)"
      ],
      "execution_count": 15,
      "outputs": [
        {
          "output_type": "execute_result",
          "data": {
            "text/html": [
              "<div>\n",
              "<style scoped>\n",
              "    .dataframe tbody tr th:only-of-type {\n",
              "        vertical-align: middle;\n",
              "    }\n",
              "\n",
              "    .dataframe tbody tr th {\n",
              "        vertical-align: top;\n",
              "    }\n",
              "\n",
              "    .dataframe thead th {\n",
              "        text-align: right;\n",
              "    }\n",
              "</style>\n",
              "<table border=\"1\" class=\"dataframe\">\n",
              "  <thead>\n",
              "    <tr style=\"text-align: right;\">\n",
              "      <th></th>\n",
              "      <th>CreditScore</th>\n",
              "      <th>Age</th>\n",
              "      <th>Tenure</th>\n",
              "      <th>Balance</th>\n",
              "      <th>NumOfProducts</th>\n",
              "      <th>HasCrCard</th>\n",
              "      <th>IsActiveMember</th>\n",
              "      <th>EstimatedSalary</th>\n",
              "      <th>Exited</th>\n",
              "      <th>Geography_Germany</th>\n",
              "      <th>Geography_Spain</th>\n",
              "      <th>Gender_Male</th>\n",
              "    </tr>\n",
              "  </thead>\n",
              "  <tbody>\n",
              "    <tr>\n",
              "      <th>0</th>\n",
              "      <td>619</td>\n",
              "      <td>42</td>\n",
              "      <td>2</td>\n",
              "      <td>0.0</td>\n",
              "      <td>1</td>\n",
              "      <td>1</td>\n",
              "      <td>1</td>\n",
              "      <td>101348.88</td>\n",
              "      <td>1</td>\n",
              "      <td>0</td>\n",
              "      <td>0</td>\n",
              "      <td>0</td>\n",
              "    </tr>\n",
              "  </tbody>\n",
              "</table>\n",
              "</div>"
            ],
            "text/plain": [
              "   CreditScore  Age  Tenure  Balance  NumOfProducts  HasCrCard  \\\n",
              "0          619   42       2      0.0              1          1   \n",
              "\n",
              "   IsActiveMember  EstimatedSalary  Exited  Geography_Germany  \\\n",
              "0               1        101348.88       1                  0   \n",
              "\n",
              "   Geography_Spain  Gender_Male  \n",
              "0                0            0  "
            ]
          },
          "metadata": {
            "tags": []
          },
          "execution_count": 15
        }
      ]
    },
    {
      "metadata": {
        "id": "yAMvq6oFkIge",
        "colab_type": "code",
        "outputId": "e0417e5c-1cdd-41c6-e9b6-482303158736",
        "colab": {
          "base_uri": "https://localhost:8080/",
          "height": 34
        }
      },
      "cell_type": "code",
      "source": [
        "X = df.drop('Exited', 1)\n",
        "y = df.Exited\n",
        "X.shape, y.shape"
      ],
      "execution_count": 16,
      "outputs": [
        {
          "output_type": "execute_result",
          "data": {
            "text/plain": [
              "((10000, 11), (10000,))"
            ]
          },
          "metadata": {
            "tags": []
          },
          "execution_count": 16
        }
      ]
    },
    {
      "metadata": {
        "id": "3vllGMuVkSo2",
        "colab_type": "text"
      },
      "cell_type": "markdown",
      "source": [
        "## StandardScaler"
      ]
    },
    {
      "metadata": {
        "id": "TCWLZVx3kfZY",
        "colab_type": "text"
      },
      "cell_type": "markdown",
      "source": [
        "We need to scale out data before applying to neural network becuase of speed"
      ]
    },
    {
      "metadata": {
        "id": "rW0Ev8GCl0XC",
        "colab_type": "code",
        "colab": {}
      },
      "cell_type": "code",
      "source": [
        "from sklearn.model_selection import train_test_split"
      ],
      "execution_count": 0,
      "outputs": []
    },
    {
      "metadata": {
        "id": "7A5r1i7fl308",
        "colab_type": "code",
        "outputId": "c2752864-172f-484f-ceae-67956935246d",
        "colab": {
          "base_uri": "https://localhost:8080/",
          "height": 34
        }
      },
      "cell_type": "code",
      "source": [
        "X_train, X_test, y_train, y_test =train_test_split(X, y, test_size = 0.3, random_state = 0)\n",
        "X_train.shape, X_test.shape, y_train.shape, y_test.shape"
      ],
      "execution_count": 40,
      "outputs": [
        {
          "output_type": "execute_result",
          "data": {
            "text/plain": [
              "((7000, 11), (3000, 11), (7000,), (3000,))"
            ]
          },
          "metadata": {
            "tags": []
          },
          "execution_count": 40
        }
      ]
    },
    {
      "metadata": {
        "id": "laD8ISmM8kiI",
        "colab_type": "code",
        "colab": {
          "base_uri": "https://localhost:8080/",
          "height": 85
        },
        "outputId": "afa67bc0-1e19-4e77-bc79-cd12188d320b"
      },
      "cell_type": "code",
      "source": [
        "columns = X_train.columns\n",
        "columns"
      ],
      "execution_count": 43,
      "outputs": [
        {
          "output_type": "execute_result",
          "data": {
            "text/plain": [
              "Index(['CreditScore', 'Age', 'Tenure', 'Balance', 'NumOfProducts', 'HasCrCard',\n",
              "       'IsActiveMember', 'EstimatedSalary', 'Geography_Germany',\n",
              "       'Geography_Spain', 'Gender_Male'],\n",
              "      dtype='object')"
            ]
          },
          "metadata": {
            "tags": []
          },
          "execution_count": 43
        }
      ]
    },
    {
      "metadata": {
        "id": "VWBCVvi68a9F",
        "colab_type": "code",
        "colab": {
          "base_uri": "https://localhost:8080/",
          "height": 80
        },
        "outputId": "ae1b764d-44cc-473f-a4d4-6408b53f3773"
      },
      "cell_type": "code",
      "source": [
        "X_train.head(1)"
      ],
      "execution_count": 41,
      "outputs": [
        {
          "output_type": "execute_result",
          "data": {
            "text/html": [
              "<div>\n",
              "<style scoped>\n",
              "    .dataframe tbody tr th:only-of-type {\n",
              "        vertical-align: middle;\n",
              "    }\n",
              "\n",
              "    .dataframe tbody tr th {\n",
              "        vertical-align: top;\n",
              "    }\n",
              "\n",
              "    .dataframe thead th {\n",
              "        text-align: right;\n",
              "    }\n",
              "</style>\n",
              "<table border=\"1\" class=\"dataframe\">\n",
              "  <thead>\n",
              "    <tr style=\"text-align: right;\">\n",
              "      <th></th>\n",
              "      <th>CreditScore</th>\n",
              "      <th>Age</th>\n",
              "      <th>Tenure</th>\n",
              "      <th>Balance</th>\n",
              "      <th>NumOfProducts</th>\n",
              "      <th>HasCrCard</th>\n",
              "      <th>IsActiveMember</th>\n",
              "      <th>EstimatedSalary</th>\n",
              "      <th>Geography_Germany</th>\n",
              "      <th>Geography_Spain</th>\n",
              "      <th>Gender_Male</th>\n",
              "    </tr>\n",
              "  </thead>\n",
              "  <tbody>\n",
              "    <tr>\n",
              "      <th>7681</th>\n",
              "      <td>641</td>\n",
              "      <td>33</td>\n",
              "      <td>2</td>\n",
              "      <td>146193.6</td>\n",
              "      <td>2</td>\n",
              "      <td>1</td>\n",
              "      <td>1</td>\n",
              "      <td>55796.83</td>\n",
              "      <td>0</td>\n",
              "      <td>0</td>\n",
              "      <td>1</td>\n",
              "    </tr>\n",
              "  </tbody>\n",
              "</table>\n",
              "</div>"
            ],
            "text/plain": [
              "      CreditScore  Age  Tenure   Balance  NumOfProducts  HasCrCard  \\\n",
              "7681          641   33       2  146193.6              2          1   \n",
              "\n",
              "      IsActiveMember  EstimatedSalary  Geography_Germany  Geography_Spain  \\\n",
              "7681               1         55796.83                  0                0   \n",
              "\n",
              "      Gender_Male  \n",
              "7681            1  "
            ]
          },
          "metadata": {
            "tags": []
          },
          "execution_count": 41
        }
      ]
    },
    {
      "metadata": {
        "id": "01dfGR6H8ctx",
        "colab_type": "code",
        "colab": {
          "base_uri": "https://localhost:8080/",
          "height": 80
        },
        "outputId": "0f57d9c5-d789-4876-f26a-115c5f9fd5ec"
      },
      "cell_type": "code",
      "source": [
        "X_test.head(1)"
      ],
      "execution_count": 42,
      "outputs": [
        {
          "output_type": "execute_result",
          "data": {
            "text/html": [
              "<div>\n",
              "<style scoped>\n",
              "    .dataframe tbody tr th:only-of-type {\n",
              "        vertical-align: middle;\n",
              "    }\n",
              "\n",
              "    .dataframe tbody tr th {\n",
              "        vertical-align: top;\n",
              "    }\n",
              "\n",
              "    .dataframe thead th {\n",
              "        text-align: right;\n",
              "    }\n",
              "</style>\n",
              "<table border=\"1\" class=\"dataframe\">\n",
              "  <thead>\n",
              "    <tr style=\"text-align: right;\">\n",
              "      <th></th>\n",
              "      <th>CreditScore</th>\n",
              "      <th>Age</th>\n",
              "      <th>Tenure</th>\n",
              "      <th>Balance</th>\n",
              "      <th>NumOfProducts</th>\n",
              "      <th>HasCrCard</th>\n",
              "      <th>IsActiveMember</th>\n",
              "      <th>EstimatedSalary</th>\n",
              "      <th>Geography_Germany</th>\n",
              "      <th>Geography_Spain</th>\n",
              "      <th>Gender_Male</th>\n",
              "    </tr>\n",
              "  </thead>\n",
              "  <tbody>\n",
              "    <tr>\n",
              "      <th>9394</th>\n",
              "      <td>597</td>\n",
              "      <td>35</td>\n",
              "      <td>8</td>\n",
              "      <td>131101.04</td>\n",
              "      <td>1</td>\n",
              "      <td>1</td>\n",
              "      <td>1</td>\n",
              "      <td>192852.67</td>\n",
              "      <td>1</td>\n",
              "      <td>0</td>\n",
              "      <td>0</td>\n",
              "    </tr>\n",
              "  </tbody>\n",
              "</table>\n",
              "</div>"
            ],
            "text/plain": [
              "      CreditScore  Age  Tenure    Balance  NumOfProducts  HasCrCard  \\\n",
              "9394          597   35       8  131101.04              1          1   \n",
              "\n",
              "      IsActiveMember  EstimatedSalary  Geography_Germany  Geography_Spain  \\\n",
              "9394               1        192852.67                  1                0   \n",
              "\n",
              "      Gender_Male  \n",
              "9394            0  "
            ]
          },
          "metadata": {
            "tags": []
          },
          "execution_count": 42
        }
      ]
    },
    {
      "metadata": {
        "id": "-5ZEcWv_knNX",
        "colab_type": "code",
        "colab": {}
      },
      "cell_type": "code",
      "source": [
        "from sklearn.preprocessing import StandardScaler"
      ],
      "execution_count": 0,
      "outputs": []
    },
    {
      "metadata": {
        "id": "MKdMfJJ6lXv6",
        "colab_type": "code",
        "outputId": "73e0c65c-b291-47e8-836b-a341460fd768",
        "colab": {
          "base_uri": "https://localhost:8080/",
          "height": 119
        }
      },
      "cell_type": "code",
      "source": [
        "sc = StandardScaler()\n",
        "X_train = sc.fit_transform(X_train)\n",
        "X_test = sc.transform(X_test)\n",
        "X_train[:1], X_test[:1]"
      ],
      "execution_count": 46,
      "outputs": [
        {
          "output_type": "execute_result",
          "data": {
            "text/plain": [
              "(array([[-0.09792126, -0.55759842, -1.03635146,  1.13249447,  0.81039385,\n",
              "          0.64198477,  0.96683535, -0.76862426, -0.56987189, -0.5731713 ,\n",
              "          0.92295821]]),\n",
              " array([[-0.55032881, -0.36597914,  1.0436811 ,  0.89172052, -0.92971564,\n",
              "          0.64198477,  0.96683535,  1.61245299,  1.75478035, -0.5731713 ,\n",
              "         -1.08347268]]))"
            ]
          },
          "metadata": {
            "tags": []
          },
          "execution_count": 46
        }
      ]
    },
    {
      "metadata": {
        "id": "anfg2SMklcv5",
        "colab_type": "code",
        "outputId": "280a0822-f4c3-44f1-acf9-a6f8dbeec414",
        "colab": {
          "base_uri": "https://localhost:8080/",
          "height": 34
        }
      },
      "cell_type": "code",
      "source": [
        "y_train = y_train.values\n",
        "y_test = y_test.values\n",
        "y_train[:2], y_test[:2]"
      ],
      "execution_count": 47,
      "outputs": [
        {
          "output_type": "execute_result",
          "data": {
            "text/plain": [
              "(array([1, 0]), array([0, 1]))"
            ]
          },
          "metadata": {
            "tags": []
          },
          "execution_count": 47
        }
      ]
    },
    {
      "metadata": {
        "id": "7VghYEDmlm9G",
        "colab_type": "text"
      },
      "cell_type": "markdown",
      "source": [
        "# Make ANN"
      ]
    },
    {
      "metadata": {
        "id": "bP5A2Qxcmw9m",
        "colab_type": "code",
        "colab": {}
      },
      "cell_type": "code",
      "source": [
        "from tensorflow import keras"
      ],
      "execution_count": 0,
      "outputs": []
    },
    {
      "metadata": {
        "id": "MhsZ8esrm0Va",
        "colab_type": "text"
      },
      "cell_type": "markdown",
      "source": [
        "## import Sequential from keras\n",
        "**it is required to initialize our neural network model**"
      ]
    },
    {
      "metadata": {
        "id": "KQhGzWV9oza1",
        "colab_type": "text"
      },
      "cell_type": "markdown",
      "source": [
        "### Step 1:- create ann model by sequential"
      ]
    },
    {
      "metadata": {
        "id": "1UDYUiWInC4S",
        "colab_type": "code",
        "outputId": "a1611070-e729-4156-910b-23b1717f25ea",
        "colab": {
          "base_uri": "https://localhost:8080/",
          "height": 34
        }
      },
      "cell_type": "code",
      "source": [
        "#1 first initialize our keras model by Sequential\n",
        "model = keras.models.Sequential()\n",
        "model"
      ],
      "execution_count": 49,
      "outputs": [
        {
          "output_type": "execute_result",
          "data": {
            "text/plain": [
              "<tensorflow.python.keras.engine.sequential.Sequential at 0x7f13450e2f60>"
            ]
          },
          "metadata": {
            "tags": []
          },
          "execution_count": 49
        }
      ]
    },
    {
      "metadata": {
        "id": "YTm7qlIMoyVA",
        "colab_type": "text"
      },
      "cell_type": "markdown",
      "source": [
        "### Step 2:- Add dense layer"
      ]
    },
    {
      "metadata": {
        "id": "QWMXKUoyrxnv",
        "colab_type": "text"
      },
      "cell_type": "markdown",
      "source": [
        "if a data is linenarly separable then their is no need to add hidden layer or don't even need a neural networks by convention"
      ]
    },
    {
      "metadata": {
        "id": "UI3bNueisCfC",
        "colab_type": "text"
      },
      "cell_type": "markdown",
      "source": [
        "**Tip:-- ** no. of nodes in hidden layers is the average of no. of nodes in input layers and no. of node in output layer"
      ]
    },
    {
      "metadata": {
        "id": "n7_6nHTpsmmM",
        "colab_type": "code",
        "outputId": "408bf3b9-6fe7-4365-c4de-e6ed0204ecfd",
        "colab": {
          "base_uri": "https://localhost:8080/",
          "height": 34
        }
      },
      "cell_type": "code",
      "source": [
        "ninput = 11 #no of independent variables\n",
        "noutput = 1 #output is either 1 or either 0 so no of hidden layers in output is 1\n",
        "nhidden = (ninput + noutput) / 2\n",
        "nhidden"
      ],
      "execution_count": 50,
      "outputs": [
        {
          "output_type": "execute_result",
          "data": {
            "text/plain": [
              "6.0"
            ]
          },
          "metadata": {
            "tags": []
          },
          "execution_count": 50
        }
      ]
    },
    {
      "metadata": {
        "id": "-X7gEIosogyu",
        "colab_type": "code",
        "colab": {}
      },
      "cell_type": "code",
      "source": [
        "model.add(keras.layers.Dense(units = 6, activation = tf.nn.relu, input_dim = 11))"
      ],
      "execution_count": 0,
      "outputs": []
    },
    {
      "metadata": {
        "id": "nKeq0BavvReV",
        "colab_type": "code",
        "outputId": "1a6697fd-0e2c-4c1e-f963-64060ad2c7b3",
        "colab": {
          "base_uri": "https://localhost:8080/",
          "height": 34
        }
      },
      "cell_type": "code",
      "source": [
        "model"
      ],
      "execution_count": 52,
      "outputs": [
        {
          "output_type": "execute_result",
          "data": {
            "text/plain": [
              "<tensorflow.python.keras.engine.sequential.Sequential at 0x7f13450e2f60>"
            ]
          },
          "metadata": {
            "tags": []
          },
          "execution_count": 52
        }
      ]
    },
    {
      "metadata": {
        "id": "b2FBW04kKM_p",
        "colab_type": "text"
      },
      "cell_type": "markdown",
      "source": [
        "### add 2nd layer"
      ]
    },
    {
      "metadata": {
        "id": "nJ-IE_P-KYq_",
        "colab_type": "code",
        "outputId": "7e293ef1-a8aa-4002-d7d3-426a74e0cf31",
        "colab": {
          "base_uri": "https://localhost:8080/",
          "height": 34
        }
      },
      "cell_type": "code",
      "source": [
        "model.add(keras.layers.Dense(units = 6, activation = tf.nn.relu))\n",
        "model"
      ],
      "execution_count": 53,
      "outputs": [
        {
          "output_type": "execute_result",
          "data": {
            "text/plain": [
              "<tensorflow.python.keras.engine.sequential.Sequential at 0x7f13450e2f60>"
            ]
          },
          "metadata": {
            "tags": []
          },
          "execution_count": 53
        }
      ]
    },
    {
      "metadata": {
        "id": "-bWgJ-TnKm-E",
        "colab_type": "text"
      },
      "cell_type": "markdown",
      "source": [
        "### Step 3:- add output layer"
      ]
    },
    {
      "metadata": {
        "id": "WVfmLyW1LcN-",
        "colab_type": "text"
      },
      "cell_type": "markdown",
      "source": [
        "**there are two types of activation function for output of categorical varibles **\n",
        "- 1**softmax**, which is used when dependent varible have more than two categorical variables\n",
        "- 2 **sigmoid** , which is used when dependent varable have 2 categorical variables"
      ]
    },
    {
      "metadata": {
        "id": "CNMiNKekKzMi",
        "colab_type": "code",
        "colab": {}
      },
      "cell_type": "code",
      "source": [
        "model.add(keras.layers.Dense(units = 1, activation = tf.nn.sigmoid))"
      ],
      "execution_count": 0,
      "outputs": []
    },
    {
      "metadata": {
        "id": "awDpLdM8L3V3",
        "colab_type": "code",
        "outputId": "3aa9ee1e-c519-451d-f02e-9bd6411d3012",
        "colab": {
          "base_uri": "https://localhost:8080/",
          "height": 34
        }
      },
      "cell_type": "code",
      "source": [
        "model"
      ],
      "execution_count": 55,
      "outputs": [
        {
          "output_type": "execute_result",
          "data": {
            "text/plain": [
              "<tensorflow.python.keras.engine.sequential.Sequential at 0x7f13450e2f60>"
            ]
          },
          "metadata": {
            "tags": []
          },
          "execution_count": 55
        }
      ]
    },
    {
      "metadata": {
        "id": "yiYLtGE8ML-z",
        "colab_type": "text"
      },
      "cell_type": "markdown",
      "source": [
        "## Step 4:-- compile the model\n",
        "apply stochastic gradient descent method"
      ]
    },
    {
      "metadata": {
        "id": "QTa5eId2MiQk",
        "colab_type": "code",
        "outputId": "5805a780-24d9-4ccb-c8cb-fcc6ee91225c",
        "colab": {
          "base_uri": "https://localhost:8080/",
          "height": 34
        }
      },
      "cell_type": "code",
      "source": [
        "model.compile(optimizer = 'adam', loss = 'binary_crossentropy', metrics = ['accuracy'])\n",
        "model"
      ],
      "execution_count": 56,
      "outputs": [
        {
          "output_type": "execute_result",
          "data": {
            "text/plain": [
              "<tensorflow.python.keras.engine.sequential.Sequential at 0x7f13450e2f60>"
            ]
          },
          "metadata": {
            "tags": []
          },
          "execution_count": 56
        }
      ]
    },
    {
      "metadata": {
        "id": "1WSsamwMN_HI",
        "colab_type": "text"
      },
      "cell_type": "markdown",
      "source": [
        "### Step 5:-- fit the model"
      ]
    },
    {
      "metadata": {
        "id": "aaI6lPV7O7sT",
        "colab_type": "text"
      },
      "cell_type": "markdown",
      "source": [
        "batch_size = no. of observation afterwhich u want to update the weights"
      ]
    },
    {
      "metadata": {
        "id": "RfIf7cI6OEtv",
        "colab_type": "code",
        "outputId": "82f78ed4-ceb4-4d8f-b027-b944f1f0d118",
        "colab": {
          "base_uri": "https://localhost:8080/",
          "height": 3434
        }
      },
      "cell_type": "code",
      "source": [
        "model.fit(X_train, y_train, batch_size = 10 , epochs = 100, class_weight = 'balance')"
      ],
      "execution_count": 57,
      "outputs": [
        {
          "output_type": "stream",
          "text": [
            "Epoch 1/100\n",
            "7000/7000 [==============================] - 1s 172us/step - loss: 0.5721 - acc: 0.7309\n",
            "Epoch 2/100\n",
            "7000/7000 [==============================] - 1s 119us/step - loss: 0.4604 - acc: 0.8000\n",
            "Epoch 3/100\n",
            "7000/7000 [==============================] - 1s 116us/step - loss: 0.4365 - acc: 0.8054\n",
            "Epoch 4/100\n",
            "7000/7000 [==============================] - 1s 119us/step - loss: 0.4264 - acc: 0.8086\n",
            "Epoch 5/100\n",
            "7000/7000 [==============================] - 1s 118us/step - loss: 0.4194 - acc: 0.8134\n",
            "Epoch 6/100\n",
            "7000/7000 [==============================] - 1s 117us/step - loss: 0.4105 - acc: 0.8177\n",
            "Epoch 7/100\n",
            "7000/7000 [==============================] - 1s 113us/step - loss: 0.3994 - acc: 0.8259\n",
            "Epoch 8/100\n",
            "7000/7000 [==============================] - 1s 113us/step - loss: 0.3860 - acc: 0.8327\n",
            "Epoch 9/100\n",
            "7000/7000 [==============================] - 1s 115us/step - loss: 0.3759 - acc: 0.8393\n",
            "Epoch 10/100\n",
            "7000/7000 [==============================] - 1s 115us/step - loss: 0.3688 - acc: 0.8426\n",
            "Epoch 11/100\n",
            "7000/7000 [==============================] - 1s 116us/step - loss: 0.3648 - acc: 0.8453\n",
            "Epoch 12/100\n",
            "7000/7000 [==============================] - 1s 115us/step - loss: 0.3616 - acc: 0.8449\n",
            "Epoch 13/100\n",
            "7000/7000 [==============================] - 1s 119us/step - loss: 0.3595 - acc: 0.8497\n",
            "Epoch 14/100\n",
            "7000/7000 [==============================] - 1s 115us/step - loss: 0.3573 - acc: 0.8507\n",
            "Epoch 15/100\n",
            "7000/7000 [==============================] - 1s 116us/step - loss: 0.3561 - acc: 0.8511\n",
            "Epoch 16/100\n",
            "7000/7000 [==============================] - 1s 114us/step - loss: 0.3545 - acc: 0.8543\n",
            "Epoch 17/100\n",
            "7000/7000 [==============================] - 1s 117us/step - loss: 0.3530 - acc: 0.8533\n",
            "Epoch 18/100\n",
            "7000/7000 [==============================] - 1s 116us/step - loss: 0.3520 - acc: 0.8537\n",
            "Epoch 19/100\n",
            "7000/7000 [==============================] - 1s 117us/step - loss: 0.3511 - acc: 0.8547\n",
            "Epoch 20/100\n",
            "7000/7000 [==============================] - 1s 114us/step - loss: 0.3500 - acc: 0.8546\n",
            "Epoch 21/100\n",
            "7000/7000 [==============================] - 1s 117us/step - loss: 0.3494 - acc: 0.8566\n",
            "Epoch 22/100\n",
            "7000/7000 [==============================] - 1s 115us/step - loss: 0.3478 - acc: 0.8573\n",
            "Epoch 23/100\n",
            "7000/7000 [==============================] - 1s 116us/step - loss: 0.3472 - acc: 0.8596\n",
            "Epoch 24/100\n",
            "7000/7000 [==============================] - 1s 116us/step - loss: 0.3470 - acc: 0.8589\n",
            "Epoch 25/100\n",
            "7000/7000 [==============================] - 1s 116us/step - loss: 0.3455 - acc: 0.8599\n",
            "Epoch 26/100\n",
            "7000/7000 [==============================] - 1s 113us/step - loss: 0.3450 - acc: 0.8597\n",
            "Epoch 27/100\n",
            "7000/7000 [==============================] - 1s 115us/step - loss: 0.3438 - acc: 0.8600\n",
            "Epoch 28/100\n",
            "7000/7000 [==============================] - 1s 115us/step - loss: 0.3431 - acc: 0.8606\n",
            "Epoch 29/100\n",
            "7000/7000 [==============================] - 1s 115us/step - loss: 0.3428 - acc: 0.8614\n",
            "Epoch 30/100\n",
            "7000/7000 [==============================] - 1s 117us/step - loss: 0.3429 - acc: 0.8624\n",
            "Epoch 31/100\n",
            "7000/7000 [==============================] - 1s 115us/step - loss: 0.3426 - acc: 0.8629\n",
            "Epoch 32/100\n",
            "7000/7000 [==============================] - 1s 115us/step - loss: 0.3416 - acc: 0.8616\n",
            "Epoch 33/100\n",
            "7000/7000 [==============================] - 1s 119us/step - loss: 0.3413 - acc: 0.8614\n",
            "Epoch 34/100\n",
            "7000/7000 [==============================] - 1s 119us/step - loss: 0.3406 - acc: 0.8623\n",
            "Epoch 35/100\n",
            "7000/7000 [==============================] - 1s 115us/step - loss: 0.3407 - acc: 0.8616\n",
            "Epoch 36/100\n",
            "7000/7000 [==============================] - 1s 116us/step - loss: 0.3405 - acc: 0.8639\n",
            "Epoch 37/100\n",
            "7000/7000 [==============================] - 1s 115us/step - loss: 0.3400 - acc: 0.8620\n",
            "Epoch 38/100\n",
            "7000/7000 [==============================] - 1s 118us/step - loss: 0.3399 - acc: 0.8630\n",
            "Epoch 39/100\n",
            "7000/7000 [==============================] - 1s 114us/step - loss: 0.3394 - acc: 0.8626\n",
            "Epoch 40/100\n",
            "7000/7000 [==============================] - 1s 115us/step - loss: 0.3394 - acc: 0.8637\n",
            "Epoch 41/100\n",
            "7000/7000 [==============================] - 1s 117us/step - loss: 0.3385 - acc: 0.8621\n",
            "Epoch 42/100\n",
            "7000/7000 [==============================] - 1s 115us/step - loss: 0.3387 - acc: 0.8623\n",
            "Epoch 43/100\n",
            "7000/7000 [==============================] - 1s 116us/step - loss: 0.3375 - acc: 0.8626\n",
            "Epoch 44/100\n",
            "7000/7000 [==============================] - 1s 119us/step - loss: 0.3376 - acc: 0.8641\n",
            "Epoch 45/100\n",
            "7000/7000 [==============================] - 1s 118us/step - loss: 0.3375 - acc: 0.8634\n",
            "Epoch 46/100\n",
            "7000/7000 [==============================] - 1s 118us/step - loss: 0.3376 - acc: 0.8631\n",
            "Epoch 47/100\n",
            "7000/7000 [==============================] - 1s 115us/step - loss: 0.3374 - acc: 0.8643\n",
            "Epoch 48/100\n",
            "7000/7000 [==============================] - 1s 116us/step - loss: 0.3369 - acc: 0.8643\n",
            "Epoch 49/100\n",
            "7000/7000 [==============================] - 1s 116us/step - loss: 0.3367 - acc: 0.8610\n",
            "Epoch 50/100\n",
            "7000/7000 [==============================] - 1s 113us/step - loss: 0.3365 - acc: 0.8629\n",
            "Epoch 51/100\n",
            "7000/7000 [==============================] - 1s 117us/step - loss: 0.3373 - acc: 0.8620\n",
            "Epoch 52/100\n",
            "7000/7000 [==============================] - 1s 117us/step - loss: 0.3365 - acc: 0.8639\n",
            "Epoch 53/100\n",
            "7000/7000 [==============================] - 1s 116us/step - loss: 0.3364 - acc: 0.8651\n",
            "Epoch 54/100\n",
            "7000/7000 [==============================] - 1s 115us/step - loss: 0.3362 - acc: 0.8643\n",
            "Epoch 55/100\n",
            "7000/7000 [==============================] - 1s 114us/step - loss: 0.3367 - acc: 0.8619\n",
            "Epoch 56/100\n",
            "7000/7000 [==============================] - 1s 116us/step - loss: 0.3361 - acc: 0.8641\n",
            "Epoch 57/100\n",
            "7000/7000 [==============================] - 1s 115us/step - loss: 0.3364 - acc: 0.8647\n",
            "Epoch 58/100\n",
            "7000/7000 [==============================] - 1s 114us/step - loss: 0.3364 - acc: 0.8641\n",
            "Epoch 59/100\n",
            "7000/7000 [==============================] - 1s 118us/step - loss: 0.3357 - acc: 0.8623\n",
            "Epoch 60/100\n",
            "7000/7000 [==============================] - 1s 116us/step - loss: 0.3355 - acc: 0.8636\n",
            "Epoch 61/100\n",
            "7000/7000 [==============================] - 1s 116us/step - loss: 0.3355 - acc: 0.8631\n",
            "Epoch 62/100\n",
            "7000/7000 [==============================] - 1s 119us/step - loss: 0.3361 - acc: 0.8630\n",
            "Epoch 63/100\n",
            "7000/7000 [==============================] - 1s 116us/step - loss: 0.3357 - acc: 0.8646\n",
            "Epoch 64/100\n",
            "7000/7000 [==============================] - 1s 116us/step - loss: 0.3355 - acc: 0.8633\n",
            "Epoch 65/100\n",
            "7000/7000 [==============================] - 1s 113us/step - loss: 0.3355 - acc: 0.8650\n",
            "Epoch 66/100\n",
            "7000/7000 [==============================] - 1s 115us/step - loss: 0.3353 - acc: 0.8653\n",
            "Epoch 67/100\n",
            "7000/7000 [==============================] - 1s 118us/step - loss: 0.3355 - acc: 0.8643\n",
            "Epoch 68/100\n",
            "7000/7000 [==============================] - 1s 115us/step - loss: 0.3349 - acc: 0.8641\n",
            "Epoch 69/100\n",
            "7000/7000 [==============================] - 1s 120us/step - loss: 0.3352 - acc: 0.8630\n",
            "Epoch 70/100\n",
            "7000/7000 [==============================] - 1s 118us/step - loss: 0.3355 - acc: 0.8634\n",
            "Epoch 71/100\n",
            "7000/7000 [==============================] - 1s 115us/step - loss: 0.3348 - acc: 0.8666\n",
            "Epoch 72/100\n",
            "7000/7000 [==============================] - 1s 115us/step - loss: 0.3353 - acc: 0.8644\n",
            "Epoch 73/100\n",
            "7000/7000 [==============================] - 1s 115us/step - loss: 0.3354 - acc: 0.8649\n",
            "Epoch 74/100\n",
            "7000/7000 [==============================] - 1s 115us/step - loss: 0.3349 - acc: 0.8641\n",
            "Epoch 75/100\n",
            "7000/7000 [==============================] - 1s 116us/step - loss: 0.3351 - acc: 0.8646\n",
            "Epoch 76/100\n",
            "7000/7000 [==============================] - 1s 118us/step - loss: 0.3348 - acc: 0.8634\n",
            "Epoch 77/100\n",
            "7000/7000 [==============================] - 1s 114us/step - loss: 0.3350 - acc: 0.8627\n",
            "Epoch 78/100\n",
            "7000/7000 [==============================] - 1s 115us/step - loss: 0.3348 - acc: 0.8646\n",
            "Epoch 79/100\n",
            "7000/7000 [==============================] - 1s 115us/step - loss: 0.3346 - acc: 0.8633\n",
            "Epoch 80/100\n",
            "7000/7000 [==============================] - 1s 114us/step - loss: 0.3349 - acc: 0.8651\n",
            "Epoch 81/100\n",
            "7000/7000 [==============================] - 1s 115us/step - loss: 0.3347 - acc: 0.8646\n",
            "Epoch 82/100\n",
            "7000/7000 [==============================] - 1s 116us/step - loss: 0.3343 - acc: 0.8640\n",
            "Epoch 83/100\n",
            "7000/7000 [==============================] - 1s 116us/step - loss: 0.3348 - acc: 0.8636\n",
            "Epoch 84/100\n",
            "7000/7000 [==============================] - 1s 118us/step - loss: 0.3346 - acc: 0.8650\n",
            "Epoch 85/100\n",
            "7000/7000 [==============================] - 1s 116us/step - loss: 0.3346 - acc: 0.8651\n",
            "Epoch 86/100\n",
            "7000/7000 [==============================] - 1s 117us/step - loss: 0.3347 - acc: 0.8639\n",
            "Epoch 87/100\n",
            "7000/7000 [==============================] - 1s 118us/step - loss: 0.3340 - acc: 0.8669\n",
            "Epoch 88/100\n",
            "7000/7000 [==============================] - 1s 116us/step - loss: 0.3342 - acc: 0.8649\n",
            "Epoch 89/100\n",
            "7000/7000 [==============================] - 1s 115us/step - loss: 0.3344 - acc: 0.8651\n",
            "Epoch 90/100\n",
            "7000/7000 [==============================] - 1s 114us/step - loss: 0.3347 - acc: 0.8641\n",
            "Epoch 91/100\n",
            "7000/7000 [==============================] - 1s 116us/step - loss: 0.3340 - acc: 0.8644\n",
            "Epoch 92/100\n",
            "7000/7000 [==============================] - 1s 115us/step - loss: 0.3343 - acc: 0.8641\n",
            "Epoch 93/100\n",
            "7000/7000 [==============================] - 1s 119us/step - loss: 0.3344 - acc: 0.8637\n",
            "Epoch 94/100\n",
            "7000/7000 [==============================] - 1s 119us/step - loss: 0.3340 - acc: 0.8646\n",
            "Epoch 95/100\n",
            "7000/7000 [==============================] - 1s 119us/step - loss: 0.3343 - acc: 0.8634\n",
            "Epoch 96/100\n",
            "7000/7000 [==============================] - 1s 118us/step - loss: 0.3344 - acc: 0.8646\n",
            "Epoch 97/100\n",
            "7000/7000 [==============================] - 1s 119us/step - loss: 0.3339 - acc: 0.8646\n",
            "Epoch 98/100\n",
            "7000/7000 [==============================] - 1s 117us/step - loss: 0.3342 - acc: 0.8643\n",
            "Epoch 99/100\n",
            "7000/7000 [==============================] - 1s 115us/step - loss: 0.3340 - acc: 0.8633\n",
            "Epoch 100/100\n",
            "7000/7000 [==============================] - 1s 119us/step - loss: 0.3343 - acc: 0.8657\n"
          ],
          "name": "stdout"
        },
        {
          "output_type": "execute_result",
          "data": {
            "text/plain": [
              "<tensorflow.python.keras.callbacks.History at 0x7f1342f8db70>"
            ]
          },
          "metadata": {
            "tags": []
          },
          "execution_count": 57
        }
      ]
    },
    {
      "metadata": {
        "id": "QzwDRGL5PfWC",
        "colab_type": "text"
      },
      "cell_type": "markdown",
      "source": [
        "### Step 7:- make predictions"
      ]
    },
    {
      "metadata": {
        "id": "wBVoGp-QQL2F",
        "colab_type": "code",
        "outputId": "db86dda1-052c-4067-f464-f37d3e46e898",
        "colab": {
          "base_uri": "https://localhost:8080/",
          "height": 51
        }
      },
      "cell_type": "code",
      "source": [
        "y_pred = model.predict(X_test)\n",
        "y_pred[:2]"
      ],
      "execution_count": 58,
      "outputs": [
        {
          "output_type": "execute_result",
          "data": {
            "text/plain": [
              "array([[0.25947544],\n",
              "       [0.33895501]], dtype=float32)"
            ]
          },
          "metadata": {
            "tags": []
          },
          "execution_count": 58
        }
      ]
    },
    {
      "metadata": {
        "id": "V052NBjxQWvJ",
        "colab_type": "code",
        "outputId": "14769389-6f70-4a3b-a2d3-d5bb7c00417f",
        "colab": {
          "base_uri": "https://localhost:8080/",
          "height": 34
        }
      },
      "cell_type": "code",
      "source": [
        "y_pred.max()"
      ],
      "execution_count": 59,
      "outputs": [
        {
          "output_type": "execute_result",
          "data": {
            "text/plain": [
              "0.99999976"
            ]
          },
          "metadata": {
            "tags": []
          },
          "execution_count": 59
        }
      ]
    },
    {
      "metadata": {
        "id": "2ihqHnKnQjn7",
        "colab_type": "code",
        "outputId": "ccb23540-1c38-4c43-fa74-179e70a1fe83",
        "colab": {
          "base_uri": "https://localhost:8080/",
          "height": 34
        }
      },
      "cell_type": "code",
      "source": [
        "y_pred.min()"
      ],
      "execution_count": 60,
      "outputs": [
        {
          "output_type": "execute_result",
          "data": {
            "text/plain": [
              "0.0019692387"
            ]
          },
          "metadata": {
            "tags": []
          },
          "execution_count": 60
        }
      ]
    },
    {
      "metadata": {
        "id": "YSP6CLVOEbTo",
        "colab_type": "code",
        "outputId": "8c8099ee-b27f-425d-9101-5579e0b1f6cd",
        "colab": {
          "base_uri": "https://localhost:8080/",
          "height": 282
        }
      },
      "cell_type": "code",
      "source": [
        "sns.distplot(y_pred)"
      ],
      "execution_count": 61,
      "outputs": [
        {
          "output_type": "execute_result",
          "data": {
            "text/plain": [
              "<matplotlib.axes._subplots.AxesSubplot at 0x7f1342a5c320>"
            ]
          },
          "metadata": {
            "tags": []
          },
          "execution_count": 61
        },
        {
          "output_type": "display_data",
          "data": {
            "image/png": "[encoded data removed]",
            "text/plain": [
              "<matplotlib.figure.Figure at 0x7f1342a1dba8>"
            ]
          },
          "metadata": {
            "tags": []
          }
        }
      ]
    },
    {
      "metadata": {
        "id": "hawfdI-N7eW4",
        "colab_type": "code",
        "colab": {}
      },
      "cell_type": "code",
      "source": [
        "from sklearn.metrics import confusion_matrix, classification_report, precision_score, recall_score"
      ],
      "execution_count": 0,
      "outputs": []
    },
    {
      "metadata": {
        "id": "xYtyKHd29hY3",
        "colab_type": "code",
        "colab": {
          "base_uri": "https://localhost:8080/",
          "height": 340
        },
        "outputId": "f868a85e-5926-443f-cac1-365b98a9c886"
      },
      "cell_type": "code",
      "source": [
        "f_ypred = np.array([1 if i > .5 else 0 for i in y_pred])\n",
        "print(f'predicted binary\\'s first three values are {f_ypred[:3]} \\n')\n",
        "c = confusion_matrix(y_test, f_ypred)\n",
        "print(f'confusion matrix is\\n\\n {c} \\n\\n')\n",
        "print(f'Precision score is :- {precision_score(y_test, f_ypred)}')\n",
        "print(f'Recall score is :- {recall_score(y_test, f_ypred)}')\n",
        "\n",
        "print(f'Classification report is \\n\\n{classification_report(y_test, f_ypred)}')"
      ],
      "execution_count": 63,
      "outputs": [
        {
          "output_type": "stream",
          "text": [
            "predicted binary's first three values are [0 0 0] \n",
            "\n",
            "confusion matrix is\n",
            "\n",
            " [[2265  114]\n",
            " [ 311  310]] \n",
            "\n",
            "\n",
            "Precision score is :- 0.7311320754716981\n",
            "Recall score is :- 0.499194847020934\n",
            "Classification report is \n",
            "\n",
            "             precision    recall  f1-score   support\n",
            "\n",
            "          0       0.88      0.95      0.91      2379\n",
            "          1       0.73      0.50      0.59       621\n",
            "\n",
            "avg / total       0.85      0.86      0.85      3000\n",
            "\n"
          ],
          "name": "stdout"
        }
      ]
    },
    {
      "metadata": {
        "id": "_JNacEbW7v6V",
        "colab_type": "text"
      },
      "cell_type": "markdown",
      "source": [
        "Homework Instruction\n",
        "\n",
        "\n",
        "\n",
        "Use our ANN model to predict if the customer with the following informations will leave the bank: \n",
        "\n",
        "- Geography: France\n",
        "- Credit Score: 600\n",
        "- Gender: Male\n",
        "- Age: 40 years old\n",
        "- Tenure: 3 years\n",
        "- Balance: 60000\n",
        "- Number of Products: 2\n",
        "- Does this customer have a credit card ? Yes\n",
        "- Is this customer an Active Member: Yes\n",
        "- Estimated Salary: $50000\n"
      ]
    },
    {
      "metadata": {
        "id": "vqU1aDt48Q_o",
        "colab_type": "code",
        "colab": {
          "base_uri": "https://localhost:8080/",
          "height": 85
        },
        "outputId": "71e4c2f4-18a2-4189-f686-719793ac24a2"
      },
      "cell_type": "code",
      "source": [
        "columns"
      ],
      "execution_count": 44,
      "outputs": [
        {
          "output_type": "execute_result",
          "data": {
            "text/plain": [
              "Index(['CreditScore', 'Age', 'Tenure', 'Balance', 'NumOfProducts', 'HasCrCard',\n",
              "       'IsActiveMember', 'EstimatedSalary', 'Geography_Germany',\n",
              "       'Geography_Spain', 'Gender_Male'],\n",
              "      dtype='object')"
            ]
          },
          "metadata": {
            "tags": []
          },
          "execution_count": 44
        }
      ]
    },
    {
      "metadata": {
        "id": "tQkalQK78ssS",
        "colab_type": "code",
        "colab": {
          "base_uri": "https://localhost:8080/",
          "height": 51
        },
        "outputId": "7d0cf0c8-a5d8-483b-c59f-a06a7b2d283a"
      },
      "cell_type": "code",
      "source": [
        "user = np.array([[600, 40, 3, 60000, 2, 1, 1, 50000, 0, 0, 1]])\n",
        "user"
      ],
      "execution_count": 64,
      "outputs": [
        {
          "output_type": "execute_result",
          "data": {
            "text/plain": [
              "array([[  600,    40,     3, 60000,     2,     1,     1, 50000,     0,\n",
              "            0,     1]])"
            ]
          },
          "metadata": {
            "tags": []
          },
          "execution_count": 64
        }
      ]
    },
    {
      "metadata": {
        "id": "duU1vra29ETz",
        "colab_type": "text"
      },
      "cell_type": "markdown",
      "source": [
        "**We need to scale that user becuase our model has been trained on scaled data**"
      ]
    },
    {
      "metadata": {
        "id": "WM1vfCHM9LDQ",
        "colab_type": "code",
        "colab": {
          "base_uri": "https://localhost:8080/",
          "height": 122
        },
        "outputId": "4443721d-8b79-41aa-b229-fdf7ab9f83e7"
      },
      "cell_type": "code",
      "source": [
        "user = sc.transform(user)\n",
        "user"
      ],
      "execution_count": 65,
      "outputs": [
        {
          "output_type": "stream",
          "text": [
            "/usr/local/lib/python3.6/dist-packages/sklearn/utils/validation.py:475: DataConversionWarning: Data with input dtype int64 was converted to float64 by StandardScaler.\n",
            "  warnings.warn(msg, DataConversionWarning)\n"
          ],
          "name": "stderr"
        },
        {
          "output_type": "execute_result",
          "data": {
            "text/plain": [
              "array([[-0.51948284,  0.11306906, -0.68967937, -0.24256538,  0.81039385,\n",
              "         0.64198477,  0.96683535, -0.86933284, -0.56987189, -0.5731713 ,\n",
              "         0.92295821]])"
            ]
          },
          "metadata": {
            "tags": []
          },
          "execution_count": 65
        }
      ]
    },
    {
      "metadata": {
        "id": "Nxl-ZyGo-Bod",
        "colab_type": "code",
        "colab": {
          "base_uri": "https://localhost:8080/",
          "height": 34
        },
        "outputId": "b0c365a5-08e7-415e-c3ba-5c825d763a61"
      },
      "cell_type": "code",
      "source": [
        "user_result = model.predict(user)\n",
        "user_result"
      ],
      "execution_count": 66,
      "outputs": [
        {
          "output_type": "execute_result",
          "data": {
            "text/plain": [
              "array([[0.03466043]], dtype=float32)"
            ]
          },
          "metadata": {
            "tags": []
          },
          "execution_count": 66
        }
      ]
    },
    {
      "metadata": {
        "id": "qqRUsG6k-K62",
        "colab_type": "code",
        "colab": {
          "base_uri": "https://localhost:8080/",
          "height": 34
        },
        "outputId": "b6e8c4cb-1471-462b-e4d4-0879bc8a65ca"
      },
      "cell_type": "code",
      "source": [
        "user_result = model.predict_classes(user)\n",
        "user_result"
      ],
      "execution_count": 67,
      "outputs": [
        {
          "output_type": "execute_result",
          "data": {
            "text/plain": [
              "array([[0]], dtype=int32)"
            ]
          },
          "metadata": {
            "tags": []
          },
          "execution_count": 67
        }
      ]
    },
    {
      "metadata": {
        "id": "kzOqVMa9-RCY",
        "colab_type": "text"
      },
      "cell_type": "markdown",
      "source": [
        "**^^as u can see this user will not leave the bank**"
      ]
    }
  ]
}