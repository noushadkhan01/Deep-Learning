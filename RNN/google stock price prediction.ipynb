{
  "nbformat": 4,
  "nbformat_minor": 0,
  "metadata": {
    "colab": {
      "name": "Untitled25.ipynb",
      "version": "0.3.2",
      "provenance": [],
      "include_colab_link": true
    },
    "kernelspec": {
      "name": "python3",
      "display_name": "Python 3"
    },
    "accelerator": "GPU"
  },
  "cells": [
    {
      "cell_type": "markdown",
      "metadata": {
        "id": "view-in-github",
        "colab_type": "text"
      },
      "source": [
        "<a href=\"https://colab.research.google.com/github/noushadkhan01/tensorflow/blob/master/RNN/google%20stock%20price%20prediction.ipynb\" target=\"_parent\"><img src=\"https://colab.research.google.com/assets/colab-badge.svg\" alt=\"Open In Colab\"/></a>"
      ]
    },
    {
      "metadata": {
        "id": "BCGtJLRaZVRo",
        "colab_type": "code",
        "colab": {}
      },
      "cell_type": "code",
      "source": [
        "import pandas as pd\n",
        "import numpy as np\n",
        "import matplotlib.pyplot as plt\n",
        "%matplotlib inline"
      ],
      "execution_count": 0,
      "outputs": []
    },
    {
      "metadata": {
        "id": "dEljU_kJ-6UE",
        "colab_type": "code",
        "colab": {
          "base_uri": "https://localhost:8080/",
          "height": 111
        },
        "outputId": "d15f49b7-3eb1-430d-aa4d-cabab1fe91f1"
      },
      "cell_type": "code",
      "source": [
        "train = pd.read_csv('https://raw.githubusercontent.com/noushadkhan01/tensorflow/master/RNN/train.csv', parse_dates = ['Date'])\n",
        "train.head(2)"
      ],
      "execution_count": 19,
      "outputs": [
        {
          "output_type": "execute_result",
          "data": {
            "text/html": [
              "<div>\n",
              "<style scoped>\n",
              "    .dataframe tbody tr th:only-of-type {\n",
              "        vertical-align: middle;\n",
              "    }\n",
              "\n",
              "    .dataframe tbody tr th {\n",
              "        vertical-align: top;\n",
              "    }\n",
              "\n",
              "    .dataframe thead th {\n",
              "        text-align: right;\n",
              "    }\n",
              "</style>\n",
              "<table border=\"1\" class=\"dataframe\">\n",
              "  <thead>\n",
              "    <tr style=\"text-align: right;\">\n",
              "      <th></th>\n",
              "      <th>Date</th>\n",
              "      <th>Open</th>\n",
              "      <th>High</th>\n",
              "      <th>Low</th>\n",
              "      <th>Close</th>\n",
              "      <th>Volume</th>\n",
              "    </tr>\n",
              "  </thead>\n",
              "  <tbody>\n",
              "    <tr>\n",
              "      <th>0</th>\n",
              "      <td>2012-01-03</td>\n",
              "      <td>325.25</td>\n",
              "      <td>332.83</td>\n",
              "      <td>324.97</td>\n",
              "      <td>663.59</td>\n",
              "      <td>7,380,500</td>\n",
              "    </tr>\n",
              "    <tr>\n",
              "      <th>1</th>\n",
              "      <td>2012-01-04</td>\n",
              "      <td>331.27</td>\n",
              "      <td>333.87</td>\n",
              "      <td>329.08</td>\n",
              "      <td>666.45</td>\n",
              "      <td>5,749,400</td>\n",
              "    </tr>\n",
              "  </tbody>\n",
              "</table>\n",
              "</div>"
            ],
            "text/plain": [
              "        Date    Open    High     Low   Close     Volume\n",
              "0 2012-01-03  325.25  332.83  324.97  663.59  7,380,500\n",
              "1 2012-01-04  331.27  333.87  329.08  666.45  5,749,400"
            ]
          },
          "metadata": {
            "tags": []
          },
          "execution_count": 19
        }
      ]
    },
    {
      "metadata": {
        "id": "_af22skvAZYv",
        "colab_type": "code",
        "colab": {
          "base_uri": "https://localhost:8080/",
          "height": 204
        },
        "outputId": "32489819-3ea9-4555-c0c8-ef9781160af0"
      },
      "cell_type": "code",
      "source": [
        "train = train.sort_values(by = 'Date')\n",
        "train.head()"
      ],
      "execution_count": 20,
      "outputs": [
        {
          "output_type": "execute_result",
          "data": {
            "text/html": [
              "<div>\n",
              "<style scoped>\n",
              "    .dataframe tbody tr th:only-of-type {\n",
              "        vertical-align: middle;\n",
              "    }\n",
              "\n",
              "    .dataframe tbody tr th {\n",
              "        vertical-align: top;\n",
              "    }\n",
              "\n",
              "    .dataframe thead th {\n",
              "        text-align: right;\n",
              "    }\n",
              "</style>\n",
              "<table border=\"1\" class=\"dataframe\">\n",
              "  <thead>\n",
              "    <tr style=\"text-align: right;\">\n",
              "      <th></th>\n",
              "      <th>Date</th>\n",
              "      <th>Open</th>\n",
              "      <th>High</th>\n",
              "      <th>Low</th>\n",
              "      <th>Close</th>\n",
              "      <th>Volume</th>\n",
              "    </tr>\n",
              "  </thead>\n",
              "  <tbody>\n",
              "    <tr>\n",
              "      <th>0</th>\n",
              "      <td>2012-01-03</td>\n",
              "      <td>325.25</td>\n",
              "      <td>332.83</td>\n",
              "      <td>324.97</td>\n",
              "      <td>663.59</td>\n",
              "      <td>7,380,500</td>\n",
              "    </tr>\n",
              "    <tr>\n",
              "      <th>1</th>\n",
              "      <td>2012-01-04</td>\n",
              "      <td>331.27</td>\n",
              "      <td>333.87</td>\n",
              "      <td>329.08</td>\n",
              "      <td>666.45</td>\n",
              "      <td>5,749,400</td>\n",
              "    </tr>\n",
              "    <tr>\n",
              "      <th>2</th>\n",
              "      <td>2012-01-05</td>\n",
              "      <td>329.83</td>\n",
              "      <td>330.75</td>\n",
              "      <td>326.89</td>\n",
              "      <td>657.21</td>\n",
              "      <td>6,590,300</td>\n",
              "    </tr>\n",
              "    <tr>\n",
              "      <th>3</th>\n",
              "      <td>2012-01-06</td>\n",
              "      <td>328.34</td>\n",
              "      <td>328.77</td>\n",
              "      <td>323.68</td>\n",
              "      <td>648.24</td>\n",
              "      <td>5,405,900</td>\n",
              "    </tr>\n",
              "    <tr>\n",
              "      <th>4</th>\n",
              "      <td>2012-01-09</td>\n",
              "      <td>322.04</td>\n",
              "      <td>322.29</td>\n",
              "      <td>309.46</td>\n",
              "      <td>620.76</td>\n",
              "      <td>11,688,800</td>\n",
              "    </tr>\n",
              "  </tbody>\n",
              "</table>\n",
              "</div>"
            ],
            "text/plain": [
              "        Date    Open    High     Low   Close      Volume\n",
              "0 2012-01-03  325.25  332.83  324.97  663.59   7,380,500\n",
              "1 2012-01-04  331.27  333.87  329.08  666.45   5,749,400\n",
              "2 2012-01-05  329.83  330.75  326.89  657.21   6,590,300\n",
              "3 2012-01-06  328.34  328.77  323.68  648.24   5,405,900\n",
              "4 2012-01-09  322.04  322.29  309.46  620.76  11,688,800"
            ]
          },
          "metadata": {
            "tags": []
          },
          "execution_count": 20
        }
      ]
    },
    {
      "metadata": {
        "id": "UUhIijtTAh3v",
        "colab_type": "code",
        "colab": {
          "base_uri": "https://localhost:8080/",
          "height": 204
        },
        "outputId": "d78b6a92-ec4f-48c0-a6a1-eb5ec2fbfe12"
      },
      "cell_type": "code",
      "source": [
        "train.tail()"
      ],
      "execution_count": 21,
      "outputs": [
        {
          "output_type": "execute_result",
          "data": {
            "text/html": [
              "<div>\n",
              "<style scoped>\n",
              "    .dataframe tbody tr th:only-of-type {\n",
              "        vertical-align: middle;\n",
              "    }\n",
              "\n",
              "    .dataframe tbody tr th {\n",
              "        vertical-align: top;\n",
              "    }\n",
              "\n",
              "    .dataframe thead th {\n",
              "        text-align: right;\n",
              "    }\n",
              "</style>\n",
              "<table border=\"1\" class=\"dataframe\">\n",
              "  <thead>\n",
              "    <tr style=\"text-align: right;\">\n",
              "      <th></th>\n",
              "      <th>Date</th>\n",
              "      <th>Open</th>\n",
              "      <th>High</th>\n",
              "      <th>Low</th>\n",
              "      <th>Close</th>\n",
              "      <th>Volume</th>\n",
              "    </tr>\n",
              "  </thead>\n",
              "  <tbody>\n",
              "    <tr>\n",
              "      <th>1253</th>\n",
              "      <td>2016-12-23</td>\n",
              "      <td>790.90</td>\n",
              "      <td>792.74</td>\n",
              "      <td>787.28</td>\n",
              "      <td>789.91</td>\n",
              "      <td>623,400</td>\n",
              "    </tr>\n",
              "    <tr>\n",
              "      <th>1254</th>\n",
              "      <td>2016-12-27</td>\n",
              "      <td>790.68</td>\n",
              "      <td>797.86</td>\n",
              "      <td>787.66</td>\n",
              "      <td>791.55</td>\n",
              "      <td>789,100</td>\n",
              "    </tr>\n",
              "    <tr>\n",
              "      <th>1255</th>\n",
              "      <td>2016-12-28</td>\n",
              "      <td>793.70</td>\n",
              "      <td>794.23</td>\n",
              "      <td>783.20</td>\n",
              "      <td>785.05</td>\n",
              "      <td>1,153,800</td>\n",
              "    </tr>\n",
              "    <tr>\n",
              "      <th>1256</th>\n",
              "      <td>2016-12-29</td>\n",
              "      <td>783.33</td>\n",
              "      <td>785.93</td>\n",
              "      <td>778.92</td>\n",
              "      <td>782.79</td>\n",
              "      <td>744,300</td>\n",
              "    </tr>\n",
              "    <tr>\n",
              "      <th>1257</th>\n",
              "      <td>2016-12-30</td>\n",
              "      <td>782.75</td>\n",
              "      <td>782.78</td>\n",
              "      <td>770.41</td>\n",
              "      <td>771.82</td>\n",
              "      <td>1,770,000</td>\n",
              "    </tr>\n",
              "  </tbody>\n",
              "</table>\n",
              "</div>"
            ],
            "text/plain": [
              "           Date    Open    High     Low   Close     Volume\n",
              "1253 2016-12-23  790.90  792.74  787.28  789.91    623,400\n",
              "1254 2016-12-27  790.68  797.86  787.66  791.55    789,100\n",
              "1255 2016-12-28  793.70  794.23  783.20  785.05  1,153,800\n",
              "1256 2016-12-29  783.33  785.93  778.92  782.79    744,300\n",
              "1257 2016-12-30  782.75  782.78  770.41  771.82  1,770,000"
            ]
          },
          "metadata": {
            "tags": []
          },
          "execution_count": 21
        }
      ]
    },
    {
      "metadata": {
        "id": "FNGuE_PDaggH",
        "colab_type": "text"
      },
      "cell_type": "markdown",
      "source": [
        "**We need to train on single column of training data like Open or Close or Low or High, so choose only one of them**"
      ]
    },
    {
      "metadata": {
        "id": "dKyb-M9N_OZ-",
        "colab_type": "code",
        "colab": {
          "base_uri": "https://localhost:8080/",
          "height": 34
        },
        "outputId": "6c5de360-4b52-478b-a0e2-e20b02c4d668"
      },
      "cell_type": "code",
      "source": [
        "train.shape"
      ],
      "execution_count": 22,
      "outputs": [
        {
          "output_type": "execute_result",
          "data": {
            "text/plain": [
              "(1258, 6)"
            ]
          },
          "metadata": {
            "tags": []
          },
          "execution_count": 22
        }
      ]
    },
    {
      "metadata": {
        "id": "KAakOPiOaxGk",
        "colab_type": "code",
        "outputId": "c8025b97-201e-4d1b-ea02-21332ec6e886",
        "colab": {
          "base_uri": "https://localhost:8080/",
          "height": 111
        }
      },
      "cell_type": "code",
      "source": [
        "train = train.iloc[:, 1:2]\n",
        "train[:2]"
      ],
      "execution_count": 23,
      "outputs": [
        {
          "output_type": "execute_result",
          "data": {
            "text/html": [
              "<div>\n",
              "<style scoped>\n",
              "    .dataframe tbody tr th:only-of-type {\n",
              "        vertical-align: middle;\n",
              "    }\n",
              "\n",
              "    .dataframe tbody tr th {\n",
              "        vertical-align: top;\n",
              "    }\n",
              "\n",
              "    .dataframe thead th {\n",
              "        text-align: right;\n",
              "    }\n",
              "</style>\n",
              "<table border=\"1\" class=\"dataframe\">\n",
              "  <thead>\n",
              "    <tr style=\"text-align: right;\">\n",
              "      <th></th>\n",
              "      <th>Open</th>\n",
              "    </tr>\n",
              "  </thead>\n",
              "  <tbody>\n",
              "    <tr>\n",
              "      <th>0</th>\n",
              "      <td>325.25</td>\n",
              "    </tr>\n",
              "    <tr>\n",
              "      <th>1</th>\n",
              "      <td>331.27</td>\n",
              "    </tr>\n",
              "  </tbody>\n",
              "</table>\n",
              "</div>"
            ],
            "text/plain": [
              "     Open\n",
              "0  325.25\n",
              "1  331.27"
            ]
          },
          "metadata": {
            "tags": []
          },
          "execution_count": 23
        }
      ]
    },
    {
      "metadata": {
        "id": "iRTTeO7Ma5h0",
        "colab_type": "text"
      },
      "cell_type": "markdown",
      "source": [
        "wee need numpy array to train our model so get it into numpy array"
      ]
    },
    {
      "metadata": {
        "id": "LUPWCbrGbDsL",
        "colab_type": "code",
        "outputId": "fafdb785-1824-4957-aa29-e3b6867d4fda",
        "colab": {
          "base_uri": "https://localhost:8080/",
          "height": 51
        }
      },
      "cell_type": "code",
      "source": [
        "train = train.values\n",
        "train[:2]"
      ],
      "execution_count": 24,
      "outputs": [
        {
          "output_type": "execute_result",
          "data": {
            "text/plain": [
              "array([[325.25],\n",
              "       [331.27]])"
            ]
          },
          "metadata": {
            "tags": []
          },
          "execution_count": 24
        }
      ]
    },
    {
      "metadata": {
        "id": "Yyl9DxjU_Uh3",
        "colab_type": "code",
        "colab": {
          "base_uri": "https://localhost:8080/",
          "height": 34
        },
        "outputId": "a2e04ca9-ac5f-4e67-ec91-6c15094dfb48"
      },
      "cell_type": "code",
      "source": [
        "train.ndim"
      ],
      "execution_count": 25,
      "outputs": [
        {
          "output_type": "execute_result",
          "data": {
            "text/plain": [
              "2"
            ]
          },
          "metadata": {
            "tags": []
          },
          "execution_count": 25
        }
      ]
    },
    {
      "metadata": {
        "id": "M8qDJCEbbH9x",
        "colab_type": "text"
      },
      "cell_type": "markdown",
      "source": [
        "# Preprocessing"
      ]
    },
    {
      "metadata": {
        "id": "4oKQbNeVb06l",
        "colab_type": "code",
        "colab": {}
      },
      "cell_type": "code",
      "source": [
        "from sklearn.preprocessing import MinMaxScaler"
      ],
      "execution_count": 0,
      "outputs": []
    },
    {
      "metadata": {
        "id": "0kh7aaLqb36K",
        "colab_type": "code",
        "outputId": "48e572e7-658e-40e1-8467-de69ab87a047",
        "colab": {
          "base_uri": "https://localhost:8080/",
          "height": 51
        }
      },
      "cell_type": "code",
      "source": [
        "sc = MinMaxScaler()\n",
        "sc.fit(train)\n",
        "train = sc.transform(train)\n",
        "train[:2]"
      ],
      "execution_count": 27,
      "outputs": [
        {
          "output_type": "execute_result",
          "data": {
            "text/plain": [
              "array([[0.08581368],\n",
              "       [0.09701243]])"
            ]
          },
          "metadata": {
            "tags": []
          },
          "execution_count": 27
        }
      ]
    },
    {
      "metadata": {
        "id": "-g7wW_khfcCu",
        "colab_type": "code",
        "outputId": "f7e27f0f-cb6b-4cb8-a2e7-a974aa0706aa",
        "colab": {
          "base_uri": "https://localhost:8080/",
          "height": 34
        }
      },
      "cell_type": "code",
      "source": [
        "train.shape"
      ],
      "execution_count": 28,
      "outputs": [
        {
          "output_type": "execute_result",
          "data": {
            "text/plain": [
              "(1258, 1)"
            ]
          },
          "metadata": {
            "tags": []
          },
          "execution_count": 28
        }
      ]
    },
    {
      "metadata": {
        "id": "DmwmJoAuepNe",
        "colab_type": "text"
      },
      "cell_type": "markdown",
      "source": [
        "# Make Training and testing data\n",
        "**its very important part because in RNN we use time stamp of 1 means we predict the price of next day on the basis of current day \n",
        "means the input data(X_train) is current day and output (y_train) is the next day data**"
      ]
    },
    {
      "metadata": {
        "id": "SP5jTkboespd",
        "colab_type": "code",
        "outputId": "3f018890-b3ca-4431-c6c0-1e9675863b3e",
        "colab": {
          "base_uri": "https://localhost:8080/",
          "height": 51
        }
      },
      "cell_type": "code",
      "source": [
        "X_train = train[:-1, :]\n",
        "X_train[:2]"
      ],
      "execution_count": 29,
      "outputs": [
        {
          "output_type": "execute_result",
          "data": {
            "text/plain": [
              "array([[0.08581368],\n",
              "       [0.09701243]])"
            ]
          },
          "metadata": {
            "tags": []
          },
          "execution_count": 29
        }
      ]
    },
    {
      "metadata": {
        "id": "G9KlYbnbfrMQ",
        "colab_type": "code",
        "outputId": "e1400ce0-d05e-433e-bf4c-ed79efbbb1ea",
        "colab": {
          "base_uri": "https://localhost:8080/",
          "height": 34
        }
      },
      "cell_type": "code",
      "source": [
        "X_train.shape"
      ],
      "execution_count": 32,
      "outputs": [
        {
          "output_type": "execute_result",
          "data": {
            "text/plain": [
              "(1257, 1)"
            ]
          },
          "metadata": {
            "tags": []
          },
          "execution_count": 32
        }
      ]
    },
    {
      "metadata": {
        "id": "oOec64wXf_NP",
        "colab_type": "code",
        "outputId": "f0ebc8c4-43f4-4cdd-e3f3-ec3388e913bd",
        "colab": {
          "base_uri": "https://localhost:8080/",
          "height": 34
        }
      },
      "cell_type": "code",
      "source": [
        "y_train = train[1:]\n",
        "y_train.shape"
      ],
      "execution_count": 33,
      "outputs": [
        {
          "output_type": "execute_result",
          "data": {
            "text/plain": [
              "(1257, 1)"
            ]
          },
          "metadata": {
            "tags": []
          },
          "execution_count": 33
        }
      ]
    },
    {
      "metadata": {
        "id": "1zCeWtrPBT6I",
        "colab_type": "code",
        "colab": {
          "base_uri": "https://localhost:8080/",
          "height": 51
        },
        "outputId": "b3335b16-1cc8-4647-b149-8976bab48bff"
      },
      "cell_type": "code",
      "source": [
        "y_train[:2]"
      ],
      "execution_count": 35,
      "outputs": [
        {
          "output_type": "execute_result",
          "data": {
            "text/plain": [
              "array([[0.09701243],\n",
              "       [0.09433366]])"
            ]
          },
          "metadata": {
            "tags": []
          },
          "execution_count": 35
        }
      ]
    },
    {
      "metadata": {
        "id": "-6gwe-Z5mX4g",
        "colab_type": "code",
        "outputId": "3e514198-7077-4639-af86-d7d6538d7d34",
        "colab": {
          "base_uri": "https://localhost:8080/",
          "height": 34
        }
      },
      "cell_type": "code",
      "source": [
        "X_train = np.reshape(X_train, (X_train.shape[0], X_train.shape[1], 1))\n",
        "X_train.shape"
      ],
      "execution_count": 34,
      "outputs": [
        {
          "output_type": "execute_result",
          "data": {
            "text/plain": [
              "(1257, 1, 1)"
            ]
          },
          "metadata": {
            "tags": []
          },
          "execution_count": 34
        }
      ]
    },
    {
      "metadata": {
        "id": "-BcWmcy9coJg",
        "colab_type": "text"
      },
      "cell_type": "markdown",
      "source": [
        "# Make RNN"
      ]
    },
    {
      "metadata": {
        "id": "6oO-O_VADFkK",
        "colab_type": "code",
        "colab": {}
      },
      "cell_type": "code",
      "source": [
        "import tensorflow as tf"
      ],
      "execution_count": 0,
      "outputs": []
    },
    {
      "metadata": {
        "colab_type": "code",
        "id": "sMdMYUuslXbY",
        "colab": {
          "base_uri": "https://localhost:8080/",
          "height": 6834
        },
        "outputId": "9249eae7-aa21-4bf9-d675-05a5eb989f94"
      },
      "cell_type": "code",
      "source": [
        "regressor2 = tf.keras.Sequential([\n",
        "    tf.keras.layers.LSTM(units = 14, activation = 'sigmoid', input_shape = (None, 1)),\n",
        "    tf.keras.layers.Dense(1)\n",
        "   ])\n",
        "regressor2.compile(optimizer = 'adam', loss = 'mean_squared_error', metrics = ['accuracy'])\n",
        "regressor2.fit(X_train, y_train, epochs = 200)"
      ],
      "execution_count": 136,
      "outputs": [
        {
          "output_type": "stream",
          "text": [
            "Epoch 1/200\n",
            "1257/1257 [==============================] - 2s 2ms/step - loss: 0.1836 - acc: 7.9554e-04\n",
            "Epoch 2/200\n",
            "1257/1257 [==============================] - 0s 269us/step - loss: 0.0956 - acc: 7.9554e-04\n",
            "Epoch 3/200\n",
            "1257/1257 [==============================] - 0s 251us/step - loss: 0.0737 - acc: 7.9554e-04\n",
            "Epoch 4/200\n",
            "1257/1257 [==============================] - 0s 255us/step - loss: 0.0699 - acc: 0.0016\n",
            "Epoch 5/200\n",
            "1257/1257 [==============================] - 0s 257us/step - loss: 0.0682 - acc: 0.0016\n",
            "Epoch 6/200\n",
            "1257/1257 [==============================] - 0s 263us/step - loss: 0.0664 - acc: 0.0016\n",
            "Epoch 7/200\n",
            "1257/1257 [==============================] - 0s 251us/step - loss: 0.0644 - acc: 0.0016\n",
            "Epoch 8/200\n",
            "1257/1257 [==============================] - 0s 252us/step - loss: 0.0624 - acc: 0.0016\n",
            "Epoch 9/200\n",
            "1257/1257 [==============================] - 0s 258us/step - loss: 0.0605 - acc: 0.0016\n",
            "Epoch 10/200\n",
            "1257/1257 [==============================] - 0s 256us/step - loss: 0.0583 - acc: 0.0016\n",
            "Epoch 11/200\n",
            "1257/1257 [==============================] - 0s 254us/step - loss: 0.0560 - acc: 0.0016\n",
            "Epoch 12/200\n",
            "1257/1257 [==============================] - 0s 263us/step - loss: 0.0537 - acc: 0.0016\n",
            "Epoch 13/200\n",
            "1257/1257 [==============================] - 0s 252us/step - loss: 0.0513 - acc: 0.0016\n",
            "Epoch 14/200\n",
            "1257/1257 [==============================] - 0s 256us/step - loss: 0.0488 - acc: 0.0016\n",
            "Epoch 15/200\n",
            "1257/1257 [==============================] - 0s 258us/step - loss: 0.0464 - acc: 0.0016\n",
            "Epoch 16/200\n",
            "1257/1257 [==============================] - 0s 253us/step - loss: 0.0437 - acc: 0.0016\n",
            "Epoch 17/200\n",
            "1257/1257 [==============================] - 0s 263us/step - loss: 0.0410 - acc: 0.0016\n",
            "Epoch 18/200\n",
            "1257/1257 [==============================] - 0s 257us/step - loss: 0.0382 - acc: 0.0016\n",
            "Epoch 19/200\n",
            "1257/1257 [==============================] - 0s 257us/step - loss: 0.0356 - acc: 0.0016\n",
            "Epoch 20/200\n",
            "1257/1257 [==============================] - 0s 255us/step - loss: 0.0327 - acc: 0.0016\n",
            "Epoch 21/200\n",
            "1257/1257 [==============================] - 0s 268us/step - loss: 0.0299 - acc: 0.0016\n",
            "Epoch 22/200\n",
            "1257/1257 [==============================] - 0s 247us/step - loss: 0.0271 - acc: 0.0016\n",
            "Epoch 23/200\n",
            "1257/1257 [==============================] - 0s 252us/step - loss: 0.0243 - acc: 0.0016\n",
            "Epoch 24/200\n",
            "1257/1257 [==============================] - 0s 251us/step - loss: 0.0216 - acc: 0.0016\n",
            "Epoch 25/200\n",
            "1257/1257 [==============================] - 0s 262us/step - loss: 0.0191 - acc: 0.0016\n",
            "Epoch 26/200\n",
            "1257/1257 [==============================] - 0s 255us/step - loss: 0.0166 - acc: 0.0016\n",
            "Epoch 27/200\n",
            "1257/1257 [==============================] - 0s 256us/step - loss: 0.0143 - acc: 0.0016\n",
            "Epoch 28/200\n",
            "1257/1257 [==============================] - 0s 261us/step - loss: 0.0122 - acc: 0.0016\n",
            "Epoch 29/200\n",
            "1257/1257 [==============================] - 0s 251us/step - loss: 0.0102 - acc: 0.0016\n",
            "Epoch 30/200\n",
            "1257/1257 [==============================] - 0s 250us/step - loss: 0.0085 - acc: 0.0016\n",
            "Epoch 31/200\n",
            "1257/1257 [==============================] - 0s 260us/step - loss: 0.0069 - acc: 0.0016\n",
            "Epoch 32/200\n",
            "1257/1257 [==============================] - 0s 255us/step - loss: 0.0056 - acc: 0.0016\n",
            "Epoch 33/200\n",
            "1257/1257 [==============================] - 0s 253us/step - loss: 0.0044 - acc: 0.0016\n",
            "Epoch 34/200\n",
            "1257/1257 [==============================] - 0s 259us/step - loss: 0.0035 - acc: 0.0016\n",
            "Epoch 35/200\n",
            "1257/1257 [==============================] - 0s 260us/step - loss: 0.0027 - acc: 0.0016\n",
            "Epoch 36/200\n",
            "1257/1257 [==============================] - 0s 255us/step - loss: 0.0021 - acc: 0.0016\n",
            "Epoch 37/200\n",
            "1257/1257 [==============================] - 0s 263us/step - loss: 0.0016 - acc: 0.0016\n",
            "Epoch 38/200\n",
            "1257/1257 [==============================] - 0s 246us/step - loss: 0.0012 - acc: 0.0016\n",
            "Epoch 39/200\n",
            "1257/1257 [==============================] - 0s 260us/step - loss: 9.4864e-04 - acc: 0.0016\n",
            "Epoch 40/200\n",
            "1257/1257 [==============================] - 0s 251us/step - loss: 7.3244e-04 - acc: 0.0016\n",
            "Epoch 41/200\n",
            "1257/1257 [==============================] - 0s 265us/step - loss: 5.8176e-04 - acc: 0.0016\n",
            "Epoch 42/200\n",
            "1257/1257 [==============================] - 0s 254us/step - loss: 4.7576e-04 - acc: 0.0016\n",
            "Epoch 43/200\n",
            "1257/1257 [==============================] - 0s 254us/step - loss: 3.9956e-04 - acc: 0.0016\n",
            "Epoch 44/200\n",
            "1257/1257 [==============================] - 0s 266us/step - loss: 3.4890e-04 - acc: 0.0016\n",
            "Epoch 45/200\n",
            "1257/1257 [==============================] - 0s 251us/step - loss: 3.1076e-04 - acc: 0.0016\n",
            "Epoch 46/200\n",
            "1257/1257 [==============================] - 0s 249us/step - loss: 2.8762e-04 - acc: 0.0016\n",
            "Epoch 47/200\n",
            "1257/1257 [==============================] - 0s 265us/step - loss: 2.7202e-04 - acc: 0.0016\n",
            "Epoch 48/200\n",
            "1257/1257 [==============================] - 0s 253us/step - loss: 2.6348e-04 - acc: 0.0016\n",
            "Epoch 49/200\n",
            "1257/1257 [==============================] - 0s 252us/step - loss: 2.5628e-04 - acc: 0.0016\n",
            "Epoch 50/200\n",
            "1257/1257 [==============================] - 0s 264us/step - loss: 2.5238e-04 - acc: 0.0016\n",
            "Epoch 51/200\n",
            "1257/1257 [==============================] - 0s 259us/step - loss: 2.4988e-04 - acc: 0.0016\n",
            "Epoch 52/200\n",
            "1257/1257 [==============================] - 0s 249us/step - loss: 2.4961e-04 - acc: 0.0016\n",
            "Epoch 53/200\n",
            "1257/1257 [==============================] - 0s 262us/step - loss: 2.4747e-04 - acc: 0.0016\n",
            "Epoch 54/200\n",
            "1257/1257 [==============================] - 0s 253us/step - loss: 2.4905e-04 - acc: 0.0016\n",
            "Epoch 55/200\n",
            "1257/1257 [==============================] - 0s 256us/step - loss: 2.4748e-04 - acc: 0.0016\n",
            "Epoch 56/200\n",
            "1257/1257 [==============================] - 0s 252us/step - loss: 2.4736e-04 - acc: 0.0016\n",
            "Epoch 57/200\n",
            "1257/1257 [==============================] - 0s 263us/step - loss: 2.5053e-04 - acc: 0.0016\n",
            "Epoch 58/200\n",
            "1257/1257 [==============================] - 0s 254us/step - loss: 2.4680e-04 - acc: 0.0016\n",
            "Epoch 59/200\n",
            "1257/1257 [==============================] - 0s 247us/step - loss: 2.4726e-04 - acc: 0.0016\n",
            "Epoch 60/200\n",
            "1257/1257 [==============================] - 0s 263us/step - loss: 2.4619e-04 - acc: 0.0016\n",
            "Epoch 61/200\n",
            "1257/1257 [==============================] - 0s 248us/step - loss: 2.4763e-04 - acc: 0.0016\n",
            "Epoch 62/200\n",
            "1257/1257 [==============================] - 0s 254us/step - loss: 2.4878e-04 - acc: 0.0016\n",
            "Epoch 63/200\n",
            "1257/1257 [==============================] - 0s 268us/step - loss: 2.4870e-04 - acc: 0.0016\n",
            "Epoch 64/200\n",
            "1257/1257 [==============================] - 0s 254us/step - loss: 2.4764e-04 - acc: 0.0016\n",
            "Epoch 65/200\n",
            "1257/1257 [==============================] - 0s 250us/step - loss: 2.4694e-04 - acc: 0.0016\n",
            "Epoch 66/200\n",
            "1257/1257 [==============================] - 0s 267us/step - loss: 2.4690e-04 - acc: 0.0016\n",
            "Epoch 67/200\n",
            "1257/1257 [==============================] - 0s 259us/step - loss: 2.4736e-04 - acc: 0.0016\n",
            "Epoch 68/200\n",
            "1257/1257 [==============================] - 0s 253us/step - loss: 2.4771e-04 - acc: 0.0016\n",
            "Epoch 69/200\n",
            "1257/1257 [==============================] - 0s 265us/step - loss: 2.4749e-04 - acc: 0.0016\n",
            "Epoch 70/200\n",
            "1257/1257 [==============================] - 0s 255us/step - loss: 2.5075e-04 - acc: 0.0016\n",
            "Epoch 71/200\n",
            "1257/1257 [==============================] - 0s 250us/step - loss: 2.4779e-04 - acc: 0.0016\n",
            "Epoch 72/200\n",
            "1257/1257 [==============================] - 0s 264us/step - loss: 2.4824e-04 - acc: 0.0016\n",
            "Epoch 73/200\n",
            "1257/1257 [==============================] - 0s 260us/step - loss: 2.4669e-04 - acc: 0.0016\n",
            "Epoch 74/200\n",
            "1257/1257 [==============================] - 0s 250us/step - loss: 2.4743e-04 - acc: 0.0016\n",
            "Epoch 75/200\n",
            "1257/1257 [==============================] - 0s 250us/step - loss: 2.4685e-04 - acc: 0.0016\n",
            "Epoch 76/200\n",
            "1257/1257 [==============================] - 0s 262us/step - loss: 2.4703e-04 - acc: 0.0016\n",
            "Epoch 77/200\n",
            "1257/1257 [==============================] - 0s 249us/step - loss: 2.4801e-04 - acc: 0.0016\n",
            "Epoch 78/200\n",
            "1257/1257 [==============================] - 0s 256us/step - loss: 2.4633e-04 - acc: 0.0016\n",
            "Epoch 79/200\n",
            "1257/1257 [==============================] - 0s 263us/step - loss: 2.4726e-04 - acc: 0.0016\n",
            "Epoch 80/200\n",
            "1257/1257 [==============================] - 0s 253us/step - loss: 2.4624e-04 - acc: 0.0016\n",
            "Epoch 81/200\n",
            "1257/1257 [==============================] - 0s 251us/step - loss: 2.4651e-04 - acc: 0.0016\n",
            "Epoch 82/200\n",
            "1257/1257 [==============================] - 0s 264us/step - loss: 2.4712e-04 - acc: 0.0016\n",
            "Epoch 83/200\n",
            "1257/1257 [==============================] - 0s 255us/step - loss: 2.4830e-04 - acc: 0.0016\n",
            "Epoch 84/200\n",
            "1257/1257 [==============================] - 0s 259us/step - loss: 2.4737e-04 - acc: 0.0016\n",
            "Epoch 85/200\n",
            "1257/1257 [==============================] - 0s 259us/step - loss: 2.4775e-04 - acc: 0.0016\n",
            "Epoch 86/200\n",
            "1257/1257 [==============================] - 0s 251us/step - loss: 2.4722e-04 - acc: 0.0016\n",
            "Epoch 87/200\n",
            "1257/1257 [==============================] - 0s 255us/step - loss: 2.4713e-04 - acc: 0.0016\n",
            "Epoch 88/200\n",
            "1257/1257 [==============================] - 0s 265us/step - loss: 2.4552e-04 - acc: 0.0016\n",
            "Epoch 89/200\n",
            "1257/1257 [==============================] - 0s 254us/step - loss: 2.4645e-04 - acc: 0.0016\n",
            "Epoch 90/200\n",
            "1257/1257 [==============================] - 0s 254us/step - loss: 2.4663e-04 - acc: 0.0016\n",
            "Epoch 91/200\n",
            "1257/1257 [==============================] - 0s 257us/step - loss: 2.4581e-04 - acc: 0.0016\n",
            "Epoch 92/200\n",
            "1257/1257 [==============================] - 0s 263us/step - loss: 2.4877e-04 - acc: 0.0016\n",
            "Epoch 93/200\n",
            "1257/1257 [==============================] - 0s 260us/step - loss: 2.4865e-04 - acc: 0.0016\n",
            "Epoch 94/200\n",
            "1257/1257 [==============================] - 0s 253us/step - loss: 2.4827e-04 - acc: 0.0016\n",
            "Epoch 95/200\n",
            "1257/1257 [==============================] - 0s 260us/step - loss: 2.4637e-04 - acc: 0.0016\n",
            "Epoch 96/200\n",
            "1257/1257 [==============================] - 0s 252us/step - loss: 2.4825e-04 - acc: 0.0016\n",
            "Epoch 97/200\n",
            "1257/1257 [==============================] - 0s 255us/step - loss: 2.4648e-04 - acc: 0.0016\n",
            "Epoch 98/200\n",
            "1257/1257 [==============================] - 0s 264us/step - loss: 2.4858e-04 - acc: 0.0016\n",
            "Epoch 99/200\n",
            "1257/1257 [==============================] - 0s 254us/step - loss: 2.4677e-04 - acc: 0.0016\n",
            "Epoch 100/200\n",
            "1257/1257 [==============================] - 0s 252us/step - loss: 2.4703e-04 - acc: 0.0016\n",
            "Epoch 101/200\n",
            "1257/1257 [==============================] - 0s 261us/step - loss: 2.4630e-04 - acc: 0.0016\n",
            "Epoch 102/200\n",
            "1257/1257 [==============================] - 0s 249us/step - loss: 2.4711e-04 - acc: 0.0016\n",
            "Epoch 103/200\n",
            "1257/1257 [==============================] - 0s 252us/step - loss: 2.4580e-04 - acc: 0.0016\n",
            "Epoch 104/200\n",
            "1257/1257 [==============================] - 0s 263us/step - loss: 2.4749e-04 - acc: 0.0016\n",
            "Epoch 105/200\n",
            "1257/1257 [==============================] - 0s 251us/step - loss: 2.4733e-04 - acc: 0.0016\n",
            "Epoch 106/200\n",
            "1257/1257 [==============================] - 0s 253us/step - loss: 2.4611e-04 - acc: 0.0016\n",
            "Epoch 107/200\n",
            "1257/1257 [==============================] - 0s 266us/step - loss: 2.4671e-04 - acc: 0.0016\n",
            "Epoch 108/200\n",
            "1257/1257 [==============================] - 0s 250us/step - loss: 2.4792e-04 - acc: 0.0016\n",
            "Epoch 109/200\n",
            "1257/1257 [==============================] - 0s 254us/step - loss: 2.5318e-04 - acc: 0.0016\n",
            "Epoch 110/200\n",
            "1257/1257 [==============================] - 0s 258us/step - loss: 2.4768e-04 - acc: 0.0016\n",
            "Epoch 111/200\n",
            "1257/1257 [==============================] - 0s 260us/step - loss: 2.4850e-04 - acc: 0.0016\n",
            "Epoch 112/200\n",
            "1257/1257 [==============================] - 0s 258us/step - loss: 2.4777e-04 - acc: 0.0016\n",
            "Epoch 113/200\n",
            "1257/1257 [==============================] - 0s 252us/step - loss: 2.4647e-04 - acc: 0.0016\n",
            "Epoch 114/200\n",
            "1257/1257 [==============================] - 0s 259us/step - loss: 2.4514e-04 - acc: 0.0016\n",
            "Epoch 115/200\n",
            "1257/1257 [==============================] - 0s 252us/step - loss: 2.5051e-04 - acc: 0.0016\n",
            "Epoch 116/200\n",
            "1257/1257 [==============================] - 0s 249us/step - loss: 2.5734e-04 - acc: 0.0016\n",
            "Epoch 117/200\n",
            "1257/1257 [==============================] - 0s 261us/step - loss: 2.4762e-04 - acc: 0.0016\n",
            "Epoch 118/200\n",
            "1257/1257 [==============================] - 0s 256us/step - loss: 2.5836e-04 - acc: 0.0016\n",
            "Epoch 119/200\n",
            "1257/1257 [==============================] - 0s 249us/step - loss: 2.4721e-04 - acc: 0.0016\n",
            "Epoch 120/200\n",
            "1257/1257 [==============================] - 0s 266us/step - loss: 2.5080e-04 - acc: 0.0016\n",
            "Epoch 121/200\n",
            "1257/1257 [==============================] - 0s 255us/step - loss: 2.4923e-04 - acc: 0.0016\n",
            "Epoch 122/200\n",
            "1257/1257 [==============================] - 0s 250us/step - loss: 2.4620e-04 - acc: 0.0016\n",
            "Epoch 123/200\n",
            "1257/1257 [==============================] - 0s 260us/step - loss: 2.4520e-04 - acc: 0.0016\n",
            "Epoch 124/200\n",
            "1257/1257 [==============================] - 0s 251us/step - loss: 2.4801e-04 - acc: 0.0016\n",
            "Epoch 125/200\n",
            "1257/1257 [==============================] - 0s 251us/step - loss: 2.4705e-04 - acc: 0.0016\n",
            "Epoch 126/200\n",
            "1257/1257 [==============================] - 0s 252us/step - loss: 2.4683e-04 - acc: 0.0016\n",
            "Epoch 127/200\n",
            "1257/1257 [==============================] - 0s 259us/step - loss: 2.4729e-04 - acc: 0.0016\n",
            "Epoch 128/200\n",
            "1257/1257 [==============================] - 0s 257us/step - loss: 2.5000e-04 - acc: 0.0016\n",
            "Epoch 129/200\n",
            "1257/1257 [==============================] - 0s 250us/step - loss: 2.4651e-04 - acc: 0.0016\n",
            "Epoch 130/200\n",
            "1257/1257 [==============================] - 0s 261us/step - loss: 2.4987e-04 - acc: 0.0016\n",
            "Epoch 131/200\n",
            "1257/1257 [==============================] - 0s 264us/step - loss: 2.4788e-04 - acc: 0.0016\n",
            "Epoch 132/200\n",
            "1257/1257 [==============================] - 0s 261us/step - loss: 2.4957e-04 - acc: 0.0016\n",
            "Epoch 133/200\n",
            "1257/1257 [==============================] - 0s 262us/step - loss: 2.4639e-04 - acc: 0.0016\n",
            "Epoch 134/200\n",
            "1257/1257 [==============================] - 0s 250us/step - loss: 2.4940e-04 - acc: 0.0016\n",
            "Epoch 135/200\n",
            "1257/1257 [==============================] - 0s 255us/step - loss: 2.5055e-04 - acc: 0.0016\n",
            "Epoch 136/200\n",
            "1257/1257 [==============================] - 0s 263us/step - loss: 2.4625e-04 - acc: 0.0016\n",
            "Epoch 137/200\n",
            "1257/1257 [==============================] - 0s 249us/step - loss: 2.5374e-04 - acc: 0.0016\n",
            "Epoch 138/200\n",
            "1257/1257 [==============================] - 0s 251us/step - loss: 2.4719e-04 - acc: 0.0016\n",
            "Epoch 139/200\n",
            "1257/1257 [==============================] - 0s 261us/step - loss: 2.5154e-04 - acc: 0.0016\n",
            "Epoch 140/200\n",
            "1257/1257 [==============================] - 0s 255us/step - loss: 2.4866e-04 - acc: 0.0016\n",
            "Epoch 141/200\n",
            "1257/1257 [==============================] - 0s 252us/step - loss: 2.4600e-04 - acc: 0.0016\n",
            "Epoch 142/200\n",
            "1257/1257 [==============================] - 0s 252us/step - loss: 2.5419e-04 - acc: 0.0016\n",
            "Epoch 143/200\n",
            "1257/1257 [==============================] - 0s 262us/step - loss: 2.4713e-04 - acc: 0.0016\n",
            "Epoch 144/200\n",
            "1257/1257 [==============================] - 0s 256us/step - loss: 2.5094e-04 - acc: 0.0016\n",
            "Epoch 145/200\n",
            "1257/1257 [==============================] - 0s 251us/step - loss: 2.4505e-04 - acc: 0.0016\n",
            "Epoch 146/200\n",
            "1257/1257 [==============================] - 0s 261us/step - loss: 2.5161e-04 - acc: 0.0016\n",
            "Epoch 147/200\n",
            "1257/1257 [==============================] - 0s 255us/step - loss: 2.4815e-04 - acc: 0.0016\n",
            "Epoch 148/200\n",
            "1257/1257 [==============================] - 0s 251us/step - loss: 2.5294e-04 - acc: 0.0016\n",
            "Epoch 149/200\n",
            "1257/1257 [==============================] - 0s 260us/step - loss: 2.4864e-04 - acc: 0.0016\n",
            "Epoch 150/200\n",
            "1257/1257 [==============================] - 0s 250us/step - loss: 2.4919e-04 - acc: 0.0016\n",
            "Epoch 151/200\n",
            "1257/1257 [==============================] - 0s 258us/step - loss: 2.4877e-04 - acc: 0.0016\n",
            "Epoch 152/200\n",
            "1257/1257 [==============================] - 0s 264us/step - loss: 2.4721e-04 - acc: 0.0016\n",
            "Epoch 153/200\n",
            "1257/1257 [==============================] - 0s 253us/step - loss: 2.4578e-04 - acc: 0.0016\n",
            "Epoch 154/200\n",
            "1257/1257 [==============================] - 0s 255us/step - loss: 2.4825e-04 - acc: 0.0016\n",
            "Epoch 155/200\n",
            "1257/1257 [==============================] - 0s 370us/step - loss: 2.4876e-04 - acc: 0.0016\n",
            "Epoch 156/200\n",
            "1257/1257 [==============================] - 0s 267us/step - loss: 2.5937e-04 - acc: 0.0016\n",
            "Epoch 157/200\n",
            "1257/1257 [==============================] - 0s 251us/step - loss: 2.5158e-04 - acc: 0.0016\n",
            "Epoch 158/200\n",
            "1257/1257 [==============================] - 0s 265us/step - loss: 2.6502e-04 - acc: 0.0016\n",
            "Epoch 159/200\n",
            "1257/1257 [==============================] - 0s 250us/step - loss: 2.4825e-04 - acc: 0.0016\n",
            "Epoch 160/200\n",
            "1257/1257 [==============================] - 0s 255us/step - loss: 2.4837e-04 - acc: 0.0016\n",
            "Epoch 161/200\n",
            "1257/1257 [==============================] - 0s 257us/step - loss: 2.5094e-04 - acc: 0.0016\n",
            "Epoch 162/200\n",
            "1257/1257 [==============================] - 0s 252us/step - loss: 2.5294e-04 - acc: 0.0016\n",
            "Epoch 163/200\n",
            "1257/1257 [==============================] - 0s 256us/step - loss: 2.5720e-04 - acc: 0.0016\n",
            "Epoch 164/200\n",
            "1257/1257 [==============================] - 0s 263us/step - loss: 2.4847e-04 - acc: 0.0016\n",
            "Epoch 165/200\n",
            "1257/1257 [==============================] - 0s 252us/step - loss: 2.5019e-04 - acc: 0.0016\n",
            "Epoch 166/200\n",
            "1257/1257 [==============================] - 0s 261us/step - loss: 2.5296e-04 - acc: 0.0016\n",
            "Epoch 167/200\n",
            "1257/1257 [==============================] - 0s 257us/step - loss: 2.5920e-04 - acc: 0.0016\n",
            "Epoch 168/200\n",
            "1257/1257 [==============================] - 0s 274us/step - loss: 2.5254e-04 - acc: 0.0016\n",
            "Epoch 169/200\n",
            "1257/1257 [==============================] - 0s 250us/step - loss: 2.4955e-04 - acc: 0.0016\n",
            "Epoch 170/200\n",
            "1257/1257 [==============================] - 0s 251us/step - loss: 2.5492e-04 - acc: 0.0016\n",
            "Epoch 171/200\n",
            "1257/1257 [==============================] - 0s 275us/step - loss: 2.5680e-04 - acc: 0.0016\n",
            "Epoch 172/200\n",
            "1257/1257 [==============================] - 0s 252us/step - loss: 2.4589e-04 - acc: 0.0016\n",
            "Epoch 173/200\n",
            "1257/1257 [==============================] - 0s 252us/step - loss: 2.4933e-04 - acc: 0.0016\n",
            "Epoch 174/200\n",
            "1257/1257 [==============================] - 0s 270us/step - loss: 2.4869e-04 - acc: 0.0016\n",
            "Epoch 175/200\n",
            "1257/1257 [==============================] - 0s 250us/step - loss: 2.5181e-04 - acc: 0.0016\n",
            "Epoch 176/200\n",
            "1257/1257 [==============================] - 0s 259us/step - loss: 2.5455e-04 - acc: 0.0016\n",
            "Epoch 177/200\n",
            "1257/1257 [==============================] - 0s 277us/step - loss: 2.5775e-04 - acc: 0.0016\n",
            "Epoch 178/200\n",
            "1257/1257 [==============================] - 0s 255us/step - loss: 2.5075e-04 - acc: 0.0016\n",
            "Epoch 179/200\n",
            "1257/1257 [==============================] - 0s 254us/step - loss: 2.4867e-04 - acc: 0.0016\n",
            "Epoch 180/200\n",
            "1257/1257 [==============================] - 0s 260us/step - loss: 2.4680e-04 - acc: 0.0016\n",
            "Epoch 181/200\n",
            "1257/1257 [==============================] - 0s 258us/step - loss: 2.4542e-04 - acc: 0.0016\n",
            "Epoch 182/200\n",
            "1257/1257 [==============================] - 0s 252us/step - loss: 2.5654e-04 - acc: 0.0016\n",
            "Epoch 183/200\n",
            "1257/1257 [==============================] - 0s 282us/step - loss: 2.6077e-04 - acc: 0.0016\n",
            "Epoch 184/200\n",
            "1257/1257 [==============================] - 0s 253us/step - loss: 2.4994e-04 - acc: 0.0016\n",
            "Epoch 185/200\n",
            "1257/1257 [==============================] - 0s 252us/step - loss: 2.5345e-04 - acc: 0.0016\n",
            "Epoch 186/200\n",
            "1257/1257 [==============================] - 0s 260us/step - loss: 2.4528e-04 - acc: 0.0016\n",
            "Epoch 187/200\n",
            "1257/1257 [==============================] - 0s 248us/step - loss: 2.4549e-04 - acc: 0.0016\n",
            "Epoch 188/200\n",
            "1257/1257 [==============================] - 0s 250us/step - loss: 2.4970e-04 - acc: 0.0016\n",
            "Epoch 189/200\n",
            "1257/1257 [==============================] - 0s 255us/step - loss: 2.4714e-04 - acc: 0.0016\n",
            "Epoch 190/200\n",
            "1257/1257 [==============================] - 0s 264us/step - loss: 2.4942e-04 - acc: 0.0016\n",
            "Epoch 191/200\n",
            "1257/1257 [==============================] - 0s 257us/step - loss: 2.5251e-04 - acc: 0.0016\n",
            "Epoch 192/200\n",
            "1257/1257 [==============================] - 0s 260us/step - loss: 2.4748e-04 - acc: 0.0016\n",
            "Epoch 193/200\n",
            "1257/1257 [==============================] - 0s 264us/step - loss: 2.5286e-04 - acc: 0.0016\n",
            "Epoch 194/200\n",
            "1257/1257 [==============================] - 0s 250us/step - loss: 2.4964e-04 - acc: 0.0016\n",
            "Epoch 195/200\n",
            "1257/1257 [==============================] - 0s 251us/step - loss: 2.4818e-04 - acc: 0.0016\n",
            "Epoch 196/200\n",
            "1257/1257 [==============================] - 0s 267us/step - loss: 2.5343e-04 - acc: 0.0016\n",
            "Epoch 197/200\n",
            "1257/1257 [==============================] - 0s 251us/step - loss: 2.4917e-04 - acc: 0.0016\n",
            "Epoch 198/200\n",
            "1257/1257 [==============================] - 0s 254us/step - loss: 2.4941e-04 - acc: 0.0016\n",
            "Epoch 199/200\n",
            "1257/1257 [==============================] - 0s 262us/step - loss: 2.4666e-04 - acc: 0.0016\n",
            "Epoch 200/200\n",
            "1257/1257 [==============================] - 0s 251us/step - loss: 2.4866e-04 - acc: 0.0016\n"
          ],
          "name": "stdout"
        },
        {
          "output_type": "execute_result",
          "data": {
            "text/plain": [
              "<tensorflow.python.keras.callbacks.History at 0x7f40f774b7b8>"
            ]
          },
          "metadata": {
            "tags": []
          },
          "execution_count": 136
        }
      ]
    },
    {
      "metadata": {
        "colab_type": "code",
        "outputId": "95de4061-28c9-4643-84ea-88c7015cc193",
        "id": "JODgSJHojB1F",
        "colab": {
          "base_uri": "https://localhost:8080/",
          "height": 111
        }
      },
      "cell_type": "code",
      "source": [
        "test = pd.read_csv('https://raw.githubusercontent.com/noushadkhan01/tensorflow/master/RNN/test.csv', parse_dates = ['Date'])\n",
        "test.head(2)"
      ],
      "execution_count": 183,
      "outputs": [
        {
          "output_type": "execute_result",
          "data": {
            "text/html": [
              "<div>\n",
              "<style scoped>\n",
              "    .dataframe tbody tr th:only-of-type {\n",
              "        vertical-align: middle;\n",
              "    }\n",
              "\n",
              "    .dataframe tbody tr th {\n",
              "        vertical-align: top;\n",
              "    }\n",
              "\n",
              "    .dataframe thead th {\n",
              "        text-align: right;\n",
              "    }\n",
              "</style>\n",
              "<table border=\"1\" class=\"dataframe\">\n",
              "  <thead>\n",
              "    <tr style=\"text-align: right;\">\n",
              "      <th></th>\n",
              "      <th>Date</th>\n",
              "      <th>Open</th>\n",
              "      <th>High</th>\n",
              "      <th>Low</th>\n",
              "      <th>Close</th>\n",
              "      <th>Volume</th>\n",
              "    </tr>\n",
              "  </thead>\n",
              "  <tbody>\n",
              "    <tr>\n",
              "      <th>0</th>\n",
              "      <td>2017-01-03</td>\n",
              "      <td>778.81</td>\n",
              "      <td>789.63</td>\n",
              "      <td>775.80</td>\n",
              "      <td>786.14</td>\n",
              "      <td>1,657,300</td>\n",
              "    </tr>\n",
              "    <tr>\n",
              "      <th>1</th>\n",
              "      <td>2017-01-04</td>\n",
              "      <td>788.36</td>\n",
              "      <td>791.34</td>\n",
              "      <td>783.16</td>\n",
              "      <td>786.90</td>\n",
              "      <td>1,073,000</td>\n",
              "    </tr>\n",
              "  </tbody>\n",
              "</table>\n",
              "</div>"
            ],
            "text/plain": [
              "        Date    Open    High     Low   Close     Volume\n",
              "0 2017-01-03  778.81  789.63  775.80  786.14  1,657,300\n",
              "1 2017-01-04  788.36  791.34  783.16  786.90  1,073,000"
            ]
          },
          "metadata": {
            "tags": []
          },
          "execution_count": 183
        }
      ]
    },
    {
      "metadata": {
        "id": "DtY928SOTx-P",
        "colab_type": "code",
        "colab": {
          "base_uri": "https://localhost:8080/",
          "height": 68
        },
        "outputId": "0f7a449c-b421-447b-b520-d596d0950f30"
      },
      "cell_type": "code",
      "source": [
        "t = test.iloc[:, 1:2].values\n",
        "t = sc.transform(t)\n",
        "t = np.reshape(t, (t.shape[0], 1, 1))\n",
        "t[:2]"
      ],
      "execution_count": 184,
      "outputs": [
        {
          "output_type": "execute_result",
          "data": {
            "text/plain": [
              "array([[[0.92955205]],\n",
              "\n",
              "       [[0.94731751]]])"
            ]
          },
          "metadata": {
            "tags": []
          },
          "execution_count": 184
        }
      ]
    },
    {
      "metadata": {
        "id": "ylUAj5sUUHqp",
        "colab_type": "code",
        "colab": {
          "base_uri": "https://localhost:8080/",
          "height": 357
        },
        "outputId": "298abbbe-5831-44e1-d5a3-d135c02002f4"
      },
      "cell_type": "code",
      "source": [
        "prediction = regressor2.predict(t)\n",
        "prediction"
      ],
      "execution_count": 185,
      "outputs": [
        {
          "output_type": "execute_result",
          "data": {
            "text/plain": [
              "array([[0.93230677],\n",
              "       [0.949786  ],\n",
              "       [0.9456136 ],\n",
              "       [0.96241045],\n",
              "       [0.9827846 ],\n",
              "       [0.985454  ],\n",
              "       [0.98022467],\n",
              "       [0.9841376 ],\n",
              "       [0.98475915],\n",
              "       [0.984028  ],\n",
              "       [0.9817057 ],\n",
              "       [0.98044413],\n",
              "       [0.98371714],\n",
              "       [0.9843387 ],\n",
              "       [1.011847  ],\n",
              "       [1.02522   ],\n",
              "       [1.0401777 ],\n",
              "       [1.0345167 ],\n",
              "       [0.9978849 ],\n",
              "       [0.96533734]], dtype=float32)"
            ]
          },
          "metadata": {
            "tags": []
          },
          "execution_count": 185
        }
      ]
    },
    {
      "metadata": {
        "id": "XKhUyA3OUQwD",
        "colab_type": "code",
        "colab": {
          "base_uri": "https://localhost:8080/",
          "height": 357
        },
        "outputId": "b1653c9d-b389-444f-cd9d-a6f8cbabfdbd"
      },
      "cell_type": "code",
      "source": [
        "prediction = sc.inverse_transform(prediction)\n",
        "prediction"
      ],
      "execution_count": 186,
      "outputs": [
        {
          "output_type": "execute_result",
          "data": {
            "text/plain": [
              "array([[780.2908 ],\n",
              "       [789.68695],\n",
              "       [787.44403],\n",
              "       [796.4733 ],\n",
              "       [807.42566],\n",
              "       [808.86066],\n",
              "       [806.04956],\n",
              "       [808.153  ],\n",
              "       [808.4871 ],\n",
              "       [808.09406],\n",
              "       [806.84576],\n",
              "       [806.16754],\n",
              "       [807.927  ],\n",
              "       [808.2611 ],\n",
              "       [823.04846],\n",
              "       [830.23724],\n",
              "       [838.2779 ],\n",
              "       [835.23474],\n",
              "       [815.543  ],\n",
              "       [798.04675]], dtype=float32)"
            ]
          },
          "metadata": {
            "tags": []
          },
          "execution_count": 186
        }
      ]
    },
    {
      "metadata": {
        "id": "tqfWnCv-FD78",
        "colab_type": "code",
        "colab": {
          "base_uri": "https://localhost:8080/",
          "height": 282
        },
        "outputId": "d1440444-b213-46b5-fb05-35dcddf8d12e"
      },
      "cell_type": "code",
      "source": [
        "plt.plot(test.Open, label = 'Google original stock price', c = 'r')\n",
        "plt.plot(prediction, label = 'Google predicted stock price', c = 'g')\n",
        "plt.legend()"
      ],
      "execution_count": 187,
      "outputs": [
        {
          "output_type": "execute_result",
          "data": {
            "text/plain": [
              "<matplotlib.legend.Legend at 0x7f40f5b47550>"
            ]
          },
          "metadata": {
            "tags": []
          },
          "execution_count": 187
        },
        {
          "output_type": "display_data",
          "data": {
            "image/png": "[encoded data removed]",
            "text/plain": [
              "<matplotlib.figure.Figure at 0x7f40f5b97b70>"
            ]
          },
          "metadata": {
            "tags": []
          }
        }
      ]
    },
    {
      "metadata": {
        "id": "eb0Q2GX6mYCc",
        "colab_type": "code",
        "colab": {}
      },
      "cell_type": "code",
      "source": [
        ""
      ],
      "execution_count": 0,
      "outputs": []
    }
  ]
}